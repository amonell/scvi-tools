{
 "cells": [
  {
   "cell_type": "markdown",
   "id": "26f836ca",
   "metadata": {},
   "source": [
    "# Spatial ResolVI Integration Testing\n",
    "\n",
    "This notebook tests the spatial encoder integration in ResolVI using real spatial transcriptomics data. It follows the proven methodology from test_arrayed_perturb.ipynb but validates that the spatial encoder is properly integrated and provides meaningful spatial-aware perturbation predictions.\n",
    "\n",
    "## Test Objectives:\n",
    "1. **Validate Spatial Encoder Integration** - Ensure spatial encoder is properly connected to shift network\n",
    "2. **Test Spatial Data Pipeline** - Verify spatial coordinates flow through the model correctly  \n",
    "3. **Compare Spatial vs Non-Spatial Effects** - Demonstrate spatial context improves perturbation predictions\n",
    "4. **Spatial Pattern Analysis** - Show spatial relationships in perturbation effects"
   ]
  },
  {
   "cell_type": "code",
   "execution_count": 1,
   "id": "3635aad6",
   "metadata": {},
   "outputs": [
    {
     "name": "stdout",
     "output_type": "stream",
     "text": [
      "₋ sys.path[0]: /home/dpatravali/Desktop/scvi-spatial/src\n"
     ]
    },
    {
     "name": "stderr",
     "output_type": "stream",
     "text": [
      "/home/dpatravali/miniforge3/envs/resolvi-env/lib/python3.11/site-packages/tqdm/auto.py:21: TqdmWarning: IProgress not found. Please update jupyter and ipywidgets. See https://ipywidgets.readthedocs.io/en/stable/user_install.html\n",
      "  from .autonotebook import tqdm as notebook_tqdm\n"
     ]
    },
    {
     "name": "stdout",
     "output_type": "stream",
     "text": [
      "₋ Now importing from: /home/dpatravali/Desktop/scvi-spatial/src/scvi/external/resolvi/__init__.py\n"
     ]
    },
    {
     "name": "stderr",
     "output_type": "stream",
     "text": [
      "/home/dpatravali/miniforge3/envs/resolvi-env/lib/python3.11/site-packages/docrep/decorators.py:43: SyntaxWarning: 'setup_anndata.full_desc' is not a valid key!\n",
      "  doc = func(self, args[0].__doc__, *args[1:], **kwargs)\n",
      "/home/dpatravali/miniforge3/envs/resolvi-env/lib/python3.11/site-packages/docrep/decorators.py:43: SyntaxWarning: 'setup_anndata.parameters' is not a valid key!\n",
      "  doc = func(self, args[0].__doc__, *args[1:], **kwargs)\n"
     ]
    }
   ],
   "source": [
    "import sys\n",
    "sys.path.insert(0, \"/home/dpatravali/Desktop/scvi-spatial/src\")\n",
    "print(\"₋ sys.path[0]:\", sys.path[0])\n",
    "\n",
    "import scvi.external.resolvi as RESOLVI\n",
    "print(\"₋ Now importing from:\", RESOLVI.__file__)\n"
   ]
  },
  {
   "cell_type": "code",
   "execution_count": 2,
   "id": "6caf21ac",
   "metadata": {},
   "outputs": [
    {
     "name": "stdout",
     "output_type": "stream",
     "text": [
      "Using _model.py from: /home/dpatravali/Desktop/scvi-spatial/src/scvi/external/resolvi/_model.py\n"
     ]
    }
   ],
   "source": [
    "import scvi.external.resolvi._model as M\n",
    "print(\"Using _model.py from:\", M.__file__)\n"
   ]
  },
  {
   "cell_type": "code",
   "execution_count": 3,
   "id": "bba3e744",
   "metadata": {},
   "outputs": [],
   "source": [
    "# Standard imports\n",
    "import os\n",
    "import tempfile\n",
    "import warnings\n",
    "import matplotlib.pyplot as plt\n",
    "import numpy as np\n",
    "import scanpy as sc\n",
    "import pandas as pd\n",
    "import seaborn as sns\n",
    "import torch\n",
    "from scipy.spatial import distance_matrix\n",
    "from scipy.stats import pearsonr\n",
    "import anndata as ad"
   ]
  },
  {
   "cell_type": "markdown",
   "id": "c58e26e0",
   "metadata": {},
   "source": [
    "Data Loading"
   ]
  },
  {
   "cell_type": "code",
   "execution_count": 4,
   "id": "cf88a53c",
   "metadata": {},
   "outputs": [
    {
     "name": "stdout",
     "output_type": "stream",
     "text": [
      "Loaded data shape: (810225, 480)\n",
      "Available obs keys: ['x_centroid', 'y_centroid', 'transcript_counts', 'control_probe_counts', 'genomic_control_counts', 'control_codeword_counts', 'unassigned_codeword_counts', 'deprecated_codeword_counts', 'total_counts', 'cell_area', 'nucleus_area', 'nucleus_count', 'segmentation_method', 'total_transcripts', 'nuclear_transcripts', 'cytoplasmic_transcripts', 'nuclear_transcript_percentage', 'topic', 'batch', '_scvi_batch', '_scvi_labels', 'leiden', 'Class', 'reference_crypt_villi', 'villi_number', 'peyers', 'Topic 1', 'Topic 2', 'Topic 3', 'Topic 4', 'Topic 5', 'Topic 6', 'Topic 7', 'Topic 8', 'Topic 9', 'Topic 10', 'Topic 11', 'Topic 12', 'Topic 13', 'Topic 14', 'Topic 15', 'crypt_villi_axis', 'epithelial_distance', 'epithelial_distance_clipped', 'epithelial_distance_transformed', 'guide_rnas', 'cell_types', 'cluster_cellcharter', 'epithelial_distance_scaled']\n",
      "Available obsm keys: ['X_cellcharter', 'X_mde', 'X_pca', 'X_scVI_replicates', 'X_spatial']\n"
     ]
    }
   ],
   "source": [
    "# Load real data (using your exact path)\n",
    "path_to_query_adata = \"/mnt/sata2/Analysis_Alex_2/perturb4_no_baysor/final_object_corrected.h5ad\"\n",
    "query_adata = sc.read(path_to_query_adata)\n",
    "\n",
    "print(f\"Loaded data shape: {query_adata.shape}\")\n",
    "print(f\"Available obs keys: {list(query_adata.obs.keys())}\")\n",
    "print(f\"Available obsm keys: {list(query_adata.obsm.keys())}\")"
   ]
  },
  {
   "cell_type": "markdown",
   "id": "3ebadc51",
   "metadata": {},
   "source": [
    "ResolVI Import"
   ]
  },
  {
   "cell_type": "code",
   "execution_count": 5,
   "id": "dddfab8c",
   "metadata": {},
   "outputs": [
    {
     "name": "stdout",
     "output_type": "stream",
     "text": [
      "Added to path: /home/dpatravali/Desktop/scvi-spatial/src\n",
      "Importing from: /home/dpatravali/Desktop/scvi-spatial/src/scvi/external/resolvi/__init__.py\n"
     ]
    }
   ],
   "source": [
    "import sys\n",
    "sys.path.insert(0, '/home/dpatravali/Desktop/scvi-spatial/src')\n",
    "print(\"Added to path:\", sys.path[0])\n",
    "\n",
    "import scvi.external.resolvi as RESOLVI\n",
    "import scvi\n",
    "print(\"Importing from:\", scvi.external.resolvi.__file__)\n",
    "\n",
    "# Import spatial encoder for direct testing\n",
    "from scvi.external.resolvi import SpatialEncoder"
   ]
  },
  {
   "cell_type": "markdown",
   "id": "b0903678",
   "metadata": {},
   "source": [
    "Setup"
   ]
  },
  {
   "cell_type": "markdown",
   "id": "c2e9c45f",
   "metadata": {},
   "source": [
    "# Spatial ResolVI Integration Testing\n",
    "\n",
    "This notebook tests the spatial encoder integration in ResolVI using real spatial transcriptomics data. It follows the proven methodology from test_arrayed_perturb.ipynb but validates that the spatial encoder is properly integrated and provides meaningful spatial-aware perturbation predictions.\n",
    "\n",
    "## Test Objectives:\n",
    "1. **Validate Spatial Encoder Integration** - Ensure spatial encoder is properly connected to shift network\n",
    "2. **Test Spatial Data Pipeline** - Verify spatial coordinates flow through the model correctly  \n",
    "3. **Compare Spatial vs Non-Spatial Effects** - Demonstrate spatial context improves perturbation predictions\n",
    "4. **Spatial Pattern Analysis** - Show spatial relationships in perturbation effects"
   ]
  },
  {
   "cell_type": "markdown",
   "id": "818485f7",
   "metadata": {},
   "source": [
    "Model Initialization"
   ]
  },
  {
   "cell_type": "markdown",
   "id": "602f966b",
   "metadata": {},
   "source": [
    "Training Setup"
   ]
  },
  {
   "cell_type": "code",
   "execution_count": 6,
   "id": "69de66ce",
   "metadata": {},
   "outputs": [
    {
     "name": "stdout",
     "output_type": "stream",
     "text": [
      "Loaded data shape: (810225, 480)\n",
      "Available obs keys: ['x_centroid', 'y_centroid', 'transcript_counts', 'control_probe_counts', 'genomic_control_counts', 'control_codeword_counts', 'unassigned_codeword_counts', 'deprecated_codeword_counts', 'total_counts', 'cell_area', 'nucleus_area', 'nucleus_count', 'segmentation_method', 'total_transcripts', 'nuclear_transcripts', 'cytoplasmic_transcripts', 'nuclear_transcript_percentage', 'topic', 'batch', '_scvi_batch', '_scvi_labels', 'leiden', 'Class', 'reference_crypt_villi', 'villi_number', 'peyers', 'Topic 1', 'Topic 2', 'Topic 3', 'Topic 4', 'Topic 5', 'Topic 6', 'Topic 7', 'Topic 8', 'Topic 9', 'Topic 10', 'Topic 11', 'Topic 12', 'Topic 13', 'Topic 14', 'Topic 15', 'crypt_villi_axis', 'epithelial_distance', 'epithelial_distance_clipped', 'epithelial_distance_transformed', 'guide_rnas', 'cell_types', 'cluster_cellcharter', 'epithelial_distance_scaled']\n",
      "Available obsm keys: ['X_cellcharter', 'X_mde', 'X_pca', 'X_scVI_replicates', 'X_spatial']\n"
     ]
    }
   ],
   "source": [
    "# Load real data (using your exact path)\n",
    "path_to_query_adata = \"/mnt/sata2/Analysis_Alex_2/perturb4_no_baysor/final_object_corrected.h5ad\"\n",
    "query_adata = sc.read(path_to_query_adata)\n",
    "\n",
    "print(f\"Loaded data shape: {query_adata.shape}\")\n",
    "print(f\"Available obs keys: {list(query_adata.obs.keys())}\")\n",
    "print(f\"Available obsm keys: {list(query_adata.obsm.keys())}\")"
   ]
  },
  {
   "cell_type": "markdown",
   "id": "09b86c0f",
   "metadata": {},
   "source": [
    "Training"
   ]
  },
  {
   "cell_type": "code",
   "execution_count": 7,
   "id": "dd6f92a7",
   "metadata": {},
   "outputs": [],
   "source": [
    "# # Import ResolVI with spatial capabilities\n",
    "# import sys\n",
    "# sys.path.insert(0, 'src')  # Adjust path to your scvi-tools source\n",
    "# print(\"Added to path:\", sys.path[0])\n",
    "\n",
    "# import scvi.external.resolvi as RESOLVI\n",
    "# import scvi\n",
    "# print(\"Importing from:\", scvi.external.resolvi.__file__)\n",
    "\n",
    "# # Import spatial encoder for direct testing\n",
    "# from scvi.external.resolvi import SpatialEncoder"
   ]
  },
  {
   "cell_type": "code",
   "execution_count": 8,
   "id": "9638e766",
   "metadata": {},
   "outputs": [
    {
     "data": {
      "text/plain": [
       "array([[ 703.83251953, 2350.98022461],\n",
       "       [ 717.39398193, 2364.40039062],\n",
       "       [ 706.7855835 , 2360.75854492],\n",
       "       ...,\n",
       "       [5484.81005859, 7346.80517578],\n",
       "       [5478.77685547, 7352.08691406],\n",
       "       [5532.67822266, 7486.91748047]], shape=(810225, 2))"
      ]
     },
     "execution_count": 8,
     "metadata": {},
     "output_type": "execute_result"
    }
   ],
   "source": [
    "query_adata.obsm[\"X_spatial\"]"
   ]
  },
  {
   "cell_type": "markdown",
   "id": "8bda35d0",
   "metadata": {},
   "source": [
    "Analysis"
   ]
  },
  {
   "cell_type": "code",
   "execution_count": 9,
   "id": "21300284",
   "metadata": {},
   "outputs": [
    {
     "data": {
      "text/html": [
       "<div>\n",
       "<style scoped>\n",
       "    .dataframe tbody tr th:only-of-type {\n",
       "        vertical-align: middle;\n",
       "    }\n",
       "\n",
       "    .dataframe tbody tr th {\n",
       "        vertical-align: top;\n",
       "    }\n",
       "\n",
       "    .dataframe thead th {\n",
       "        text-align: right;\n",
       "    }\n",
       "</style>\n",
       "<table border=\"1\" class=\"dataframe\">\n",
       "  <thead>\n",
       "    <tr style=\"text-align: right;\">\n",
       "      <th></th>\n",
       "      <th>x_centroid</th>\n",
       "      <th>y_centroid</th>\n",
       "      <th>transcript_counts</th>\n",
       "      <th>control_probe_counts</th>\n",
       "      <th>genomic_control_counts</th>\n",
       "      <th>control_codeword_counts</th>\n",
       "      <th>unassigned_codeword_counts</th>\n",
       "      <th>deprecated_codeword_counts</th>\n",
       "      <th>total_counts</th>\n",
       "      <th>cell_area</th>\n",
       "      <th>...</th>\n",
       "      <th>Topic 14</th>\n",
       "      <th>Topic 15</th>\n",
       "      <th>crypt_villi_axis</th>\n",
       "      <th>epithelial_distance</th>\n",
       "      <th>epithelial_distance_clipped</th>\n",
       "      <th>epithelial_distance_transformed</th>\n",
       "      <th>guide_rnas</th>\n",
       "      <th>cell_types</th>\n",
       "      <th>cluster_cellcharter</th>\n",
       "      <th>epithelial_distance_scaled</th>\n",
       "    </tr>\n",
       "  </thead>\n",
       "  <tbody>\n",
       "    <tr>\n",
       "      <th>aaaackdi-1</th>\n",
       "      <td>703.832520</td>\n",
       "      <td>2350.980225</td>\n",
       "      <td>256</td>\n",
       "      <td>0</td>\n",
       "      <td>0</td>\n",
       "      <td>0</td>\n",
       "      <td>0</td>\n",
       "      <td>0</td>\n",
       "      <td>256</td>\n",
       "      <td>50.123439</td>\n",
       "      <td>...</td>\n",
       "      <td>0.037465</td>\n",
       "      <td>2.026178</td>\n",
       "      <td>0.934038</td>\n",
       "      <td>0.076727</td>\n",
       "      <td>0.071227</td>\n",
       "      <td>-0.936883</td>\n",
       "      <td>Other cells</td>\n",
       "      <td>Enterocytes</td>\n",
       "      <td>1</td>\n",
       "      <td>0.071227</td>\n",
       "    </tr>\n",
       "    <tr>\n",
       "      <th>aaaaddii-1</th>\n",
       "      <td>717.393982</td>\n",
       "      <td>2364.400391</td>\n",
       "      <td>487</td>\n",
       "      <td>0</td>\n",
       "      <td>0</td>\n",
       "      <td>0</td>\n",
       "      <td>0</td>\n",
       "      <td>0</td>\n",
       "      <td>487</td>\n",
       "      <td>111.897192</td>\n",
       "      <td>...</td>\n",
       "      <td>0.878993</td>\n",
       "      <td>1.372876</td>\n",
       "      <td>0.920061</td>\n",
       "      <td>0.076727</td>\n",
       "      <td>0.073572</td>\n",
       "      <td>-0.936883</td>\n",
       "      <td>Other cells</td>\n",
       "      <td>Enterocytes</td>\n",
       "      <td>1</td>\n",
       "      <td>0.073572</td>\n",
       "    </tr>\n",
       "    <tr>\n",
       "      <th>aaaafjep-1</th>\n",
       "      <td>706.785583</td>\n",
       "      <td>2360.758545</td>\n",
       "      <td>317</td>\n",
       "      <td>0</td>\n",
       "      <td>0</td>\n",
       "      <td>0</td>\n",
       "      <td>0</td>\n",
       "      <td>0</td>\n",
       "      <td>317</td>\n",
       "      <td>73.424065</td>\n",
       "      <td>...</td>\n",
       "      <td>0.296977</td>\n",
       "      <td>1.588671</td>\n",
       "      <td>0.925218</td>\n",
       "      <td>0.076727</td>\n",
       "      <td>0.067487</td>\n",
       "      <td>-0.936883</td>\n",
       "      <td>Other cells</td>\n",
       "      <td>Enterocytes</td>\n",
       "      <td>1</td>\n",
       "      <td>0.067487</td>\n",
       "    </tr>\n",
       "    <tr>\n",
       "      <th>aaaaklej-1</th>\n",
       "      <td>709.713379</td>\n",
       "      <td>2355.399902</td>\n",
       "      <td>402</td>\n",
       "      <td>0</td>\n",
       "      <td>0</td>\n",
       "      <td>0</td>\n",
       "      <td>0</td>\n",
       "      <td>0</td>\n",
       "      <td>402</td>\n",
       "      <td>72.791878</td>\n",
       "      <td>...</td>\n",
       "      <td>0.232374</td>\n",
       "      <td>1.598706</td>\n",
       "      <td>0.926149</td>\n",
       "      <td>0.076727</td>\n",
       "      <td>0.073855</td>\n",
       "      <td>-0.936883</td>\n",
       "      <td>Other cells</td>\n",
       "      <td>Enterocytes</td>\n",
       "      <td>1</td>\n",
       "      <td>0.073855</td>\n",
       "    </tr>\n",
       "    <tr>\n",
       "      <th>aaaakpai-1</th>\n",
       "      <td>744.997314</td>\n",
       "      <td>2352.819092</td>\n",
       "      <td>172</td>\n",
       "      <td>0</td>\n",
       "      <td>0</td>\n",
       "      <td>0</td>\n",
       "      <td>0</td>\n",
       "      <td>0</td>\n",
       "      <td>172</td>\n",
       "      <td>41.543752</td>\n",
       "      <td>...</td>\n",
       "      <td>1.491616</td>\n",
       "      <td>1.023234</td>\n",
       "      <td>0.906294</td>\n",
       "      <td>0.087120</td>\n",
       "      <td>0.087120</td>\n",
       "      <td>-0.807832</td>\n",
       "      <td>Other cells</td>\n",
       "      <td>Enterocytes</td>\n",
       "      <td>1</td>\n",
       "      <td>0.087120</td>\n",
       "    </tr>\n",
       "    <tr>\n",
       "      <th>...</th>\n",
       "      <td>...</td>\n",
       "      <td>...</td>\n",
       "      <td>...</td>\n",
       "      <td>...</td>\n",
       "      <td>...</td>\n",
       "      <td>...</td>\n",
       "      <td>...</td>\n",
       "      <td>...</td>\n",
       "      <td>...</td>\n",
       "      <td>...</td>\n",
       "      <td>...</td>\n",
       "      <td>...</td>\n",
       "      <td>...</td>\n",
       "      <td>...</td>\n",
       "      <td>...</td>\n",
       "      <td>...</td>\n",
       "      <td>...</td>\n",
       "      <td>...</td>\n",
       "      <td>...</td>\n",
       "      <td>...</td>\n",
       "      <td>...</td>\n",
       "    </tr>\n",
       "    <tr>\n",
       "      <th>oinanmfc-1</th>\n",
       "      <td>5558.731445</td>\n",
       "      <td>7586.157227</td>\n",
       "      <td>45</td>\n",
       "      <td>0</td>\n",
       "      <td>0</td>\n",
       "      <td>0</td>\n",
       "      <td>0</td>\n",
       "      <td>0</td>\n",
       "      <td>45</td>\n",
       "      <td>43.124220</td>\n",
       "      <td>...</td>\n",
       "      <td>-0.279271</td>\n",
       "      <td>-0.579267</td>\n",
       "      <td>0.387358</td>\n",
       "      <td>0.151869</td>\n",
       "      <td>0.151869</td>\n",
       "      <td>-0.075063</td>\n",
       "      <td>Other cells</td>\n",
       "      <td>Macrophages</td>\n",
       "      <td>2</td>\n",
       "      <td>0.151869</td>\n",
       "    </tr>\n",
       "    <tr>\n",
       "      <th>oinaojph-1</th>\n",
       "      <td>5561.004395</td>\n",
       "      <td>7594.268555</td>\n",
       "      <td>25</td>\n",
       "      <td>0</td>\n",
       "      <td>0</td>\n",
       "      <td>0</td>\n",
       "      <td>0</td>\n",
       "      <td>0</td>\n",
       "      <td>25</td>\n",
       "      <td>32.377032</td>\n",
       "      <td>...</td>\n",
       "      <td>-0.279271</td>\n",
       "      <td>-0.579267</td>\n",
       "      <td>0.405426</td>\n",
       "      <td>0.125362</td>\n",
       "      <td>0.125362</td>\n",
       "      <td>-0.360792</td>\n",
       "      <td>Other cells</td>\n",
       "      <td>Plasma Cells</td>\n",
       "      <td>4</td>\n",
       "      <td>0.125362</td>\n",
       "    </tr>\n",
       "    <tr>\n",
       "      <th>oinbbbgh-1</th>\n",
       "      <td>5484.810059</td>\n",
       "      <td>7346.805176</td>\n",
       "      <td>32</td>\n",
       "      <td>0</td>\n",
       "      <td>0</td>\n",
       "      <td>0</td>\n",
       "      <td>0</td>\n",
       "      <td>0</td>\n",
       "      <td>32</td>\n",
       "      <td>67.327971</td>\n",
       "      <td>...</td>\n",
       "      <td>1.618375</td>\n",
       "      <td>0.876619</td>\n",
       "      <td>0.920581</td>\n",
       "      <td>0.114040</td>\n",
       "      <td>0.114040</td>\n",
       "      <td>-0.488728</td>\n",
       "      <td>Other cells</td>\n",
       "      <td>Fibroblasts/Mesenchymal Cells</td>\n",
       "      <td>4</td>\n",
       "      <td>0.114040</td>\n",
       "    </tr>\n",
       "    <tr>\n",
       "      <th>oinbfame-1</th>\n",
       "      <td>5478.776855</td>\n",
       "      <td>7352.086914</td>\n",
       "      <td>26</td>\n",
       "      <td>0</td>\n",
       "      <td>0</td>\n",
       "      <td>0</td>\n",
       "      <td>0</td>\n",
       "      <td>0</td>\n",
       "      <td>26</td>\n",
       "      <td>37.615158</td>\n",
       "      <td>...</td>\n",
       "      <td>2.359092</td>\n",
       "      <td>0.677170</td>\n",
       "      <td>0.934221</td>\n",
       "      <td>0.116618</td>\n",
       "      <td>0.116618</td>\n",
       "      <td>-0.459282</td>\n",
       "      <td>Other cells</td>\n",
       "      <td>Endothelial Cells</td>\n",
       "      <td>4</td>\n",
       "      <td>0.116618</td>\n",
       "    </tr>\n",
       "    <tr>\n",
       "      <th>oinccnoo-1</th>\n",
       "      <td>5532.678223</td>\n",
       "      <td>7486.917480</td>\n",
       "      <td>38</td>\n",
       "      <td>0</td>\n",
       "      <td>0</td>\n",
       "      <td>0</td>\n",
       "      <td>0</td>\n",
       "      <td>0</td>\n",
       "      <td>38</td>\n",
       "      <td>17.204532</td>\n",
       "      <td>...</td>\n",
       "      <td>-0.279271</td>\n",
       "      <td>-0.579267</td>\n",
       "      <td>0.204679</td>\n",
       "      <td>0.256284</td>\n",
       "      <td>0.200000</td>\n",
       "      <td>0.883241</td>\n",
       "      <td>Other cells</td>\n",
       "      <td>Smooth Muscle Cells</td>\n",
       "      <td>2</td>\n",
       "      <td>0.256284</td>\n",
       "    </tr>\n",
       "  </tbody>\n",
       "</table>\n",
       "<p>810225 rows × 49 columns</p>\n",
       "</div>"
      ],
      "text/plain": [
       "             x_centroid   y_centroid  transcript_counts  control_probe_counts  \\\n",
       "aaaackdi-1   703.832520  2350.980225                256                     0   \n",
       "aaaaddii-1   717.393982  2364.400391                487                     0   \n",
       "aaaafjep-1   706.785583  2360.758545                317                     0   \n",
       "aaaaklej-1   709.713379  2355.399902                402                     0   \n",
       "aaaakpai-1   744.997314  2352.819092                172                     0   \n",
       "...                 ...          ...                ...                   ...   \n",
       "oinanmfc-1  5558.731445  7586.157227                 45                     0   \n",
       "oinaojph-1  5561.004395  7594.268555                 25                     0   \n",
       "oinbbbgh-1  5484.810059  7346.805176                 32                     0   \n",
       "oinbfame-1  5478.776855  7352.086914                 26                     0   \n",
       "oinccnoo-1  5532.678223  7486.917480                 38                     0   \n",
       "\n",
       "            genomic_control_counts  control_codeword_counts  \\\n",
       "aaaackdi-1                       0                        0   \n",
       "aaaaddii-1                       0                        0   \n",
       "aaaafjep-1                       0                        0   \n",
       "aaaaklej-1                       0                        0   \n",
       "aaaakpai-1                       0                        0   \n",
       "...                            ...                      ...   \n",
       "oinanmfc-1                       0                        0   \n",
       "oinaojph-1                       0                        0   \n",
       "oinbbbgh-1                       0                        0   \n",
       "oinbfame-1                       0                        0   \n",
       "oinccnoo-1                       0                        0   \n",
       "\n",
       "            unassigned_codeword_counts  deprecated_codeword_counts  \\\n",
       "aaaackdi-1                           0                           0   \n",
       "aaaaddii-1                           0                           0   \n",
       "aaaafjep-1                           0                           0   \n",
       "aaaaklej-1                           0                           0   \n",
       "aaaakpai-1                           0                           0   \n",
       "...                                ...                         ...   \n",
       "oinanmfc-1                           0                           0   \n",
       "oinaojph-1                           0                           0   \n",
       "oinbbbgh-1                           0                           0   \n",
       "oinbfame-1                           0                           0   \n",
       "oinccnoo-1                           0                           0   \n",
       "\n",
       "            total_counts   cell_area  ...  Topic 14  Topic 15  \\\n",
       "aaaackdi-1           256   50.123439  ...  0.037465  2.026178   \n",
       "aaaaddii-1           487  111.897192  ...  0.878993  1.372876   \n",
       "aaaafjep-1           317   73.424065  ...  0.296977  1.588671   \n",
       "aaaaklej-1           402   72.791878  ...  0.232374  1.598706   \n",
       "aaaakpai-1           172   41.543752  ...  1.491616  1.023234   \n",
       "...                  ...         ...  ...       ...       ...   \n",
       "oinanmfc-1            45   43.124220  ... -0.279271 -0.579267   \n",
       "oinaojph-1            25   32.377032  ... -0.279271 -0.579267   \n",
       "oinbbbgh-1            32   67.327971  ...  1.618375  0.876619   \n",
       "oinbfame-1            26   37.615158  ...  2.359092  0.677170   \n",
       "oinccnoo-1            38   17.204532  ... -0.279271 -0.579267   \n",
       "\n",
       "           crypt_villi_axis  epithelial_distance  epithelial_distance_clipped  \\\n",
       "aaaackdi-1         0.934038             0.076727                     0.071227   \n",
       "aaaaddii-1         0.920061             0.076727                     0.073572   \n",
       "aaaafjep-1         0.925218             0.076727                     0.067487   \n",
       "aaaaklej-1         0.926149             0.076727                     0.073855   \n",
       "aaaakpai-1         0.906294             0.087120                     0.087120   \n",
       "...                     ...                  ...                          ...   \n",
       "oinanmfc-1         0.387358             0.151869                     0.151869   \n",
       "oinaojph-1         0.405426             0.125362                     0.125362   \n",
       "oinbbbgh-1         0.920581             0.114040                     0.114040   \n",
       "oinbfame-1         0.934221             0.116618                     0.116618   \n",
       "oinccnoo-1         0.204679             0.256284                     0.200000   \n",
       "\n",
       "            epithelial_distance_transformed   guide_rnas  \\\n",
       "aaaackdi-1                        -0.936883  Other cells   \n",
       "aaaaddii-1                        -0.936883  Other cells   \n",
       "aaaafjep-1                        -0.936883  Other cells   \n",
       "aaaaklej-1                        -0.936883  Other cells   \n",
       "aaaakpai-1                        -0.807832  Other cells   \n",
       "...                                     ...          ...   \n",
       "oinanmfc-1                        -0.075063  Other cells   \n",
       "oinaojph-1                        -0.360792  Other cells   \n",
       "oinbbbgh-1                        -0.488728  Other cells   \n",
       "oinbfame-1                        -0.459282  Other cells   \n",
       "oinccnoo-1                         0.883241  Other cells   \n",
       "\n",
       "                               cell_types cluster_cellcharter  \\\n",
       "aaaackdi-1                    Enterocytes                   1   \n",
       "aaaaddii-1                    Enterocytes                   1   \n",
       "aaaafjep-1                    Enterocytes                   1   \n",
       "aaaaklej-1                    Enterocytes                   1   \n",
       "aaaakpai-1                    Enterocytes                   1   \n",
       "...                                   ...                 ...   \n",
       "oinanmfc-1                    Macrophages                   2   \n",
       "oinaojph-1                   Plasma Cells                   4   \n",
       "oinbbbgh-1  Fibroblasts/Mesenchymal Cells                   4   \n",
       "oinbfame-1              Endothelial Cells                   4   \n",
       "oinccnoo-1            Smooth Muscle Cells                   2   \n",
       "\n",
       "            epithelial_distance_scaled  \n",
       "aaaackdi-1                    0.071227  \n",
       "aaaaddii-1                    0.073572  \n",
       "aaaafjep-1                    0.067487  \n",
       "aaaaklej-1                    0.073855  \n",
       "aaaakpai-1                    0.087120  \n",
       "...                                ...  \n",
       "oinanmfc-1                    0.151869  \n",
       "oinaojph-1                    0.125362  \n",
       "oinbbbgh-1                    0.114040  \n",
       "oinbfame-1                    0.116618  \n",
       "oinccnoo-1                    0.256284  \n",
       "\n",
       "[810225 rows x 49 columns]"
      ]
     },
     "execution_count": 9,
     "metadata": {},
     "output_type": "execute_result"
    }
   ],
   "source": [
    "query_adata.obs"
   ]
  },
  {
   "cell_type": "code",
   "execution_count": 10,
   "id": "1f87cd71",
   "metadata": {},
   "outputs": [],
   "source": [
    "# Add size factors for library size normalization\n",
    "query_adata.obs[\"size_factors\"] = query_adata.obs[\"total_counts\"]\n",
    "query_adata.obs[\"size_factor\"] = query_adata.obs[\"total_counts\"]\n"
   ]
  },
  {
   "cell_type": "code",
   "execution_count": 13,
   "id": "74fc73df",
   "metadata": {},
   "outputs": [
    {
     "name": "stdout",
     "output_type": "stream",
     "text": [
      "\u001b[34mINFO    \u001b[0m Generating sequential column names                                                                        \n",
      "\u001b[34mINFO    \u001b[0m Generating sequential column names                                                                        \n"
     ]
    },
    {
     "name": "stderr",
     "output_type": "stream",
     "text": [
      "/home/dpatravali/Desktop/scvi-spatial/src/scvi/data/fields/_dataframe_field.py:187: UserWarning: Category 0 in adata.obs['_scvi_ind_x'] has fewer than 3 cells. Models may not train properly.\n",
      "  categorical_mapping = _make_column_categorical(\n"
     ]
    },
    {
     "name": "stdout",
     "output_type": "stream",
     "text": [
      "\u001b[34mINFO    \u001b[0m Generating sequential column names                                                                        \n"
     ]
    }
   ],
   "source": [
    "# Setup anndata with spatial coordinates\n",
    "RESOLVI.RESOLVI.setup_anndata(\n",
    "    query_adata, \n",
    "    labels_key=\"cell_types\",\n",
    "    layer=\"raw\",\n",
    "    batch_key=\"batch\", \n",
    "    perturbation_key=\"guide_rnas\", \n",
    "    control_perturbation=\"sgCd19\",\n",
    "    spatial_key=\"X_spatial\",\n",
    "    background_key=\"guide_rnas\",\n",
    "    background_category=\"Other cells\",\n",
    "    categorical_covariate_keys=[\"batch\"],\n",
    ")"
   ]
  },
  {
   "cell_type": "markdown",
   "id": "82d5be0d",
   "metadata": {},
   "source": [
    "Effects Calculation"
   ]
  },
  {
   "cell_type": "code",
   "execution_count": null,
   "id": "335e5eff",
   "metadata": {},
   "outputs": [
    {
     "name": "stdout",
     "output_type": "stream",
     "text": [
      "obsm keys: KeysView(AxisArrays with keys: X_cellcharter, X_mde, X_pca, X_scVI_replicates, X_spatial, index_neighbor, distance_neighbor, _scvi_extra_categorical_covs)\n"
     ]
    }
   ],
   "source": [
    "print(\"obsm keys:\", query_adata.obsm.keys())"
   ]
  },
  {
   "cell_type": "code",
   "execution_count": null,
   "id": "748edd62",
   "metadata": {},
   "outputs": [
    {
     "ename": "KeyError",
     "evalue": "'library not found in the data registry.'",
     "output_type": "error",
     "traceback": [
      "\u001b[31m---------------------------------------------------------------------------\u001b[39m",
      "\u001b[31mKeyError\u001b[39m                                  Traceback (most recent call last)",
      "\u001b[36mCell\u001b[39m\u001b[36m \u001b[39m\u001b[32mIn[20]\u001b[39m\u001b[32m, line 2\u001b[39m\n\u001b[32m      1\u001b[39m \u001b[38;5;66;03m# Initialize model with spatial parameters (following your methodology)\u001b[39;00m\n\u001b[32m----> \u001b[39m\u001b[32m2\u001b[39m spatial_resolvi = \u001b[43mRESOLVI\u001b[49m\u001b[43m.\u001b[49m\u001b[43mRESOLVI\u001b[49m\u001b[43m(\u001b[49m\n\u001b[32m      3\u001b[39m \u001b[43m    \u001b[49m\u001b[43mquery_adata\u001b[49m\u001b[43m,\u001b[49m\n\u001b[32m      4\u001b[39m \u001b[43m    \u001b[49m\u001b[43msemisupervised\u001b[49m\u001b[43m=\u001b[49m\u001b[38;5;28;43;01mTrue\u001b[39;49;00m\u001b[43m,\u001b[49m\u001b[43m  \u001b[49m\u001b[38;5;66;43;03m# Following your approach\u001b[39;49;00m\n\u001b[32m      5\u001b[39m \u001b[43m    \u001b[49m\u001b[43mn_latent\u001b[49m\u001b[43m=\u001b[49m\u001b[32;43m32\u001b[39;49m\u001b[43m,\u001b[49m\u001b[43m          \u001b[49m\u001b[38;5;66;43;03m# Following your parameters\u001b[39;49;00m\n\u001b[32m      6\u001b[39m \u001b[43m    \u001b[49m\u001b[43mperturbation_hidden_dim\u001b[49m\u001b[43m=\u001b[49m\u001b[32;43m128\u001b[39;49m\u001b[43m,\u001b[49m\u001b[43m  \u001b[49m\u001b[38;5;66;43;03m# Following your parameters\u001b[39;49;00m\n\u001b[32m      7\u001b[39m \u001b[43m    \u001b[49m\u001b[43mn_input_spatial\u001b[49m\u001b[43m=\u001b[49m\u001b[32;43m2\u001b[39;49m\u001b[43m,\u001b[49m\u001b[43m    \u001b[49m\u001b[38;5;66;43;03m# NEW: spatial input dimension\u001b[39;49;00m\n\u001b[32m      8\u001b[39m \u001b[43m    \u001b[49m\u001b[43mcontrol_penalty_weight\u001b[49m\u001b[43m=\u001b[49m\u001b[32;43m1.0\u001b[39;49m\u001b[43m,\u001b[49m\n\u001b[32m      9\u001b[39m \u001b[43m    \u001b[49m\u001b[38;5;66;43;03m#downsample_counts=True,\u001b[39;49;00m\n\u001b[32m     10\u001b[39m \u001b[43m    \u001b[49m\u001b[38;5;66;43;03m# downsample_counts_mean=None,\u001b[39;49;00m\n\u001b[32m     11\u001b[39m \u001b[43m    \u001b[49m\u001b[38;5;66;43;03m# downsample_counts_std=1.0,\u001b[39;49;00m\n\u001b[32m     12\u001b[39m \u001b[43m)\u001b[49m\n\u001b[32m     14\u001b[39m \u001b[38;5;28mprint\u001b[39m(\u001b[33m\"\u001b[39m\u001b[33m✅ Spatial RESOLVI model initialized successfully\u001b[39m\u001b[33m\"\u001b[39m)\n\u001b[32m     16\u001b[39m \u001b[38;5;66;03m# Verify spatial encoder is present\u001b[39;00m\n",
      "\u001b[36mFile \u001b[39m\u001b[32m~/Desktop/scvi-spatial/src/scvi/external/resolvi/_model.py:254\u001b[39m, in \u001b[36mRESOLVI.__init__\u001b[39m\u001b[34m(self, adata, n_hidden, n_hidden_encoder, n_latent, n_layers, dropout_rate, dispersion, gene_likelihood, background_ratio, median_distance, semisupervised, mixture_k, downsample_counts, downsample_counts_mean, downsample_counts_std, perturbation_embed_dim, perturbation_hidden_dim, override_mixture_k_in_semisupervised, control_penalty_weight, n_input_spatial, **model_kwargs)\u001b[39m\n\u001b[32m    247\u001b[39m     downsample_counts_std = \u001b[32m1.0\u001b[39m\n\u001b[32m    249\u001b[39m \u001b[38;5;66;03m# expression_anntorchdata = AnnTorchDataset(\u001b[39;00m\n\u001b[32m    250\u001b[39m \u001b[38;5;66;03m#     self.adata_manager,\u001b[39;00m\n\u001b[32m    251\u001b[39m \u001b[38;5;66;03m#     load_sparse_tensor=True,\u001b[39;00m\n\u001b[32m    252\u001b[39m \u001b[38;5;66;03m# )\u001b[39;00m\n\u001b[32m--> \u001b[39m\u001b[32m254\u001b[39m expression_anntorchdata = \u001b[43mAnnTorchDataset\u001b[49m\u001b[43m(\u001b[49m\n\u001b[32m    255\u001b[39m \u001b[43m    \u001b[49m\u001b[38;5;28;43mself\u001b[39;49m\u001b[43m.\u001b[49m\u001b[43madata_manager\u001b[49m\u001b[43m,\u001b[49m\n\u001b[32m    256\u001b[39m \u001b[43m    \u001b[49m\u001b[43mgetitem_tensors\u001b[49m\u001b[43m=\u001b[49m\u001b[43m[\u001b[49m\n\u001b[32m    257\u001b[39m \u001b[43m        \u001b[49m\u001b[43mREGISTRY_KEYS\u001b[49m\u001b[43m.\u001b[49m\u001b[43mX_KEY\u001b[49m\u001b[43m,\u001b[49m\u001b[43m            \u001b[49m\u001b[38;5;66;43;03m# gene counts\u001b[39;49;00m\n\u001b[32m    258\u001b[39m \u001b[43m        \u001b[49m\u001b[43mREGISTRY_KEYS\u001b[49m\u001b[43m.\u001b[49m\u001b[43mLIBRARY_KEY\u001b[49m\u001b[43m,\u001b[49m\u001b[43m      \u001b[49m\u001b[38;5;66;43;03m# library size / size factor\u001b[39;49;00m\n\u001b[32m    259\u001b[39m \u001b[43m        \u001b[49m\u001b[43mREGISTRY_KEYS\u001b[49m\u001b[43m.\u001b[49m\u001b[43mBATCH_KEY\u001b[49m\u001b[43m,\u001b[49m\u001b[43m        \u001b[49m\u001b[38;5;66;43;03m# batch indices\u001b[39;49;00m\n\u001b[32m    260\u001b[39m \u001b[43m        \u001b[49m\u001b[43mREGISTRY_KEYS\u001b[49m\u001b[43m.\u001b[49m\u001b[43mLABELS_KEY\u001b[49m\u001b[43m,\u001b[49m\u001b[43m       \u001b[49m\u001b[38;5;66;43;03m# labels (if any)\u001b[39;49;00m\n\u001b[32m    261\u001b[39m \u001b[43m        \u001b[49m\u001b[43mREGISTRY_KEYS\u001b[49m\u001b[43m.\u001b[49m\u001b[43mCAT_COVS_KEY\u001b[49m\u001b[43m,\u001b[49m\u001b[43m     \u001b[49m\u001b[38;5;66;43;03m# extra categorical covariates\u001b[39;49;00m\n\u001b[32m    262\u001b[39m \u001b[43m        \u001b[49m\u001b[43mREGISTRY_KEYS\u001b[49m\u001b[43m.\u001b[49m\u001b[43mPERTURBATION_KEY\u001b[49m\u001b[43m,\u001b[49m\u001b[43m \u001b[49m\u001b[38;5;66;43;03m# perturbation labels\u001b[39;49;00m\n\u001b[32m    263\u001b[39m \u001b[43m        \u001b[49m\u001b[33;43m\"\u001b[39;49m\u001b[33;43mindex_neighbor\u001b[39;49m\u001b[33;43m\"\u001b[39;49m\u001b[43m,\u001b[49m\u001b[43m               \u001b[49m\u001b[38;5;66;43;03m# k‑NN indices\u001b[39;49;00m\n\u001b[32m    264\u001b[39m \u001b[43m        \u001b[49m\u001b[33;43m\"\u001b[39;49m\u001b[33;43mdistance_neighbor\u001b[39;49m\u001b[33;43m\"\u001b[39;49m\u001b[43m,\u001b[49m\u001b[43m            \u001b[49m\u001b[38;5;66;43;03m# k‑NN distances\u001b[39;49;00m\n\u001b[32m    265\u001b[39m \u001b[43m        \u001b[49m\u001b[43mREGISTRY_KEYS\u001b[49m\u001b[43m.\u001b[49m\u001b[43mSPATIAL_KEY\u001b[49m\u001b[43m,\u001b[49m\u001b[43m      \u001b[49m\u001b[38;5;66;43;03m# spatial coords\u001b[39;49;00m\n\u001b[32m    266\u001b[39m \u001b[43m    \u001b[49m\u001b[43m]\u001b[49m\u001b[43m,\u001b[49m\n\u001b[32m    267\u001b[39m \u001b[43m    \u001b[49m\u001b[43mload_sparse_tensor\u001b[49m\u001b[43m=\u001b[49m\u001b[38;5;28;43;01mTrue\u001b[39;49;00m\u001b[43m,\u001b[49m\n\u001b[32m    268\u001b[39m \u001b[43m\u001b[49m\u001b[43m)\u001b[49m\n\u001b[32m    271\u001b[39m \u001b[38;5;66;03m# expression_anntorchdata = AnnTorchDataset(\u001b[39;00m\n\u001b[32m    272\u001b[39m \u001b[38;5;66;03m#     self.adata_manager,\u001b[39;00m\n\u001b[32m    273\u001b[39m \u001b[38;5;66;03m#     getitem_tensors= [\u001b[39;00m\n\u001b[32m   (...)\u001b[39m\u001b[32m    282\u001b[39m \u001b[38;5;66;03m# ────────────────────────────────────────────────────────────\u001b[39;00m\n\u001b[32m    283\u001b[39m \u001b[38;5;66;03m# 1) Compute data‑driven defaults only if user left them None\u001b[39;00m\n\u001b[32m    284\u001b[39m results = \u001b[38;5;28mself\u001b[39m.compute_dataset_dependent_priors()\n",
      "\u001b[36mFile \u001b[39m\u001b[32m~/Desktop/scvi-spatial/src/scvi/data/_anntorchdataset.py:61\u001b[39m, in \u001b[36mAnnTorchDataset.__init__\u001b[39m\u001b[34m(self, adata_manager, getitem_tensors, load_sparse_tensor)\u001b[39m\n\u001b[32m     59\u001b[39m     \u001b[38;5;28;01mraise\u001b[39;00m \u001b[38;5;167;01mValueError\u001b[39;00m(\u001b[33m\"\u001b[39m\u001b[33mPlease run ``register_fields`` on ``adata_manager`` first.\u001b[39m\u001b[33m\"\u001b[39m)\n\u001b[32m     60\u001b[39m \u001b[38;5;28mself\u001b[39m.adata_manager = adata_manager\n\u001b[32m---> \u001b[39m\u001b[32m61\u001b[39m \u001b[38;5;28;43mself\u001b[39;49m\u001b[43m.\u001b[49m\u001b[43mkeys_and_dtypes\u001b[49m = getitem_tensors\n\u001b[32m     62\u001b[39m \u001b[38;5;28mself\u001b[39m.load_sparse_tensor = load_sparse_tensor\n",
      "\u001b[36mFile \u001b[39m\u001b[32m~/Desktop/scvi-spatial/src/scvi/data/_anntorchdataset.py:93\u001b[39m, in \u001b[36mAnnTorchDataset.keys_and_dtypes\u001b[39m\u001b[34m(self, getitem_tensors)\u001b[39m\n\u001b[32m     91\u001b[39m \u001b[38;5;28;01mfor\u001b[39;00m key \u001b[38;5;129;01min\u001b[39;00m keys_to_dtypes:\n\u001b[32m     92\u001b[39m     \u001b[38;5;28;01mif\u001b[39;00m key \u001b[38;5;129;01mnot\u001b[39;00m \u001b[38;5;129;01min\u001b[39;00m \u001b[38;5;28mself\u001b[39m.registered_keys:\n\u001b[32m---> \u001b[39m\u001b[32m93\u001b[39m         \u001b[38;5;28;01mraise\u001b[39;00m \u001b[38;5;167;01mKeyError\u001b[39;00m(\u001b[33mf\u001b[39m\u001b[33m\"\u001b[39m\u001b[38;5;132;01m{\u001b[39;00mkey\u001b[38;5;132;01m}\u001b[39;00m\u001b[33m not found in the data registry.\u001b[39m\u001b[33m\"\u001b[39m)\n\u001b[32m     95\u001b[39m \u001b[38;5;28mself\u001b[39m._keys_and_dtypes = keys_to_dtypes\n",
      "\u001b[31mKeyError\u001b[39m: 'library not found in the data registry.'"
     ]
    }
   ],
   "source": [
    "# Initialize model with spatial parameters (following your methodology)\n",
    "spatial_resolvi = RESOLVI.RESOLVI(\n",
    "    query_adata,\n",
    "    semisupervised=True,  # Following your approach\n",
    "    n_latent=32,          # Following your parameters\n",
    "    perturbation_hidden_dim=128,  # Following your parameters\n",
    "    n_input_spatial=2,    # NEW: spatial input dimension\n",
    "    control_penalty_weight=1.0,\n",
    "    #downsample_counts=True,\n",
    "    # downsample_counts_mean=None,\n",
    "    # downsample_counts_std=1.0,\n",
    ")\n",
    "\n",
    "print(\"✅ Spatial RESOLVI model initialized successfully\")\n",
    "\n",
    "# Verify spatial encoder is present\n",
    "has_spatial_encoder = hasattr(spatial_resolvi.module.model, 'spatial_encoder')\n",
    "print(f\"✅ Model has spatial encoder: {has_spatial_encoder}\")\n",
    "\n",
    "if has_spatial_encoder:\n",
    "    spatial_encoder = spatial_resolvi.module.model.spatial_encoder\n",
    "    print(f\"   Spatial encoder type: {type(spatial_encoder).__name__}\")\n",
    "    print(f\"   Spatial encoder input dim: {spatial_encoder.encoder[0].in_features}\")\n",
    "    print(f\"   Spatial encoder output dim: {spatial_encoder.mean_encoder.out_features}\")"
   ]
  },
  {
   "cell_type": "markdown",
   "id": "7f8cdaf8",
   "metadata": {},
   "source": [
    "Spatial Analysis"
   ]
  },
  {
   "cell_type": "code",
   "execution_count": null,
   "id": "5d62d48e",
   "metadata": {},
   "outputs": [
    {
     "name": "stdout",
     "output_type": "stream",
     "text": [
      "Dataset priors: {'background_ratio': np.float32(0.00067531277), 'median_distance': np.float64(372.9849853515625), 'mean_log_counts': np.float32(5.433722), 'std_log_counts': np.float32(0.8109416)}\n"
     ]
    }
   ],
   "source": [
    "# Get dataset-dependent priors (following your methodology)\n",
    "priors = spatial_resolvi.compute_dataset_dependent_priors()\n",
    "print(f\"Dataset priors: {priors}\")\n",
    "\n",
    "spatial_resolvi.module.guide.downsample_counts_mean = priors[\"mean_log_counts\"]\n",
    "spatial_resolvi.module.guide.downsample_counts_std  = priors[\"std_log_counts\"]\n",
    "\n",
    "# Convert downsample parameters (following your approach)\n",
    "spatial_resolvi.module.guide.downsample_counts_mean = float(\n",
    "    spatial_resolvi.module.guide.downsample_counts_mean\n",
    ")\n",
    "spatial_resolvi.module.guide.downsample_counts_std = float(\n",
    "    spatial_resolvi.module.guide.downsample_counts_std\n",
    ")"
   ]
  },
  {
   "cell_type": "code",
   "execution_count": null,
   "id": "2fcbde06",
   "metadata": {},
   "outputs": [
    {
     "name": "stdout",
     "output_type": "stream",
     "text": [
      "✅ Spatial RESOLVI model initialized successfully\n",
      "✅ Model has spatial encoder: True\n",
      "   Spatial encoder type: SpatialEncoder\n",
      "   Spatial encoder input dim: 2\n",
      "   Spatial encoder output dim: 32\n"
     ]
    }
   ],
   "source": [
    "# Initialize model with spatial parameters (following your methodology)\n",
    "spatial_resolvi = RESOLVI.RESOLVI(\n",
    "    query_adata,\n",
    "    semisupervised=True,  # Following your approach\n",
    "    n_latent=32,          # Following your parameters\n",
    "    perturbation_hidden_dim=128,  # Following your parameters\n",
    "    n_input_spatial=2,    # NEW: spatial input dimension\n",
    "    control_penalty_weight=1.0,\n",
    ")\n",
    "\n",
    "print(\"✅ Spatial RESOLVI model initialized successfully\")\n",
    "\n",
    "# Verify spatial encoder is present\n",
    "has_spatial_encoder = hasattr(spatial_resolvi.module.model, 'spatial_encoder')\n",
    "print(f\"✅ Model has spatial encoder: {has_spatial_encoder}\")\n",
    "\n",
    "if has_spatial_encoder:\n",
    "    spatial_encoder = spatial_resolvi.module.model.spatial_encoder\n",
    "    print(f\"   Spatial encoder type: {type(spatial_encoder).__name__}\")\n",
    "    print(f\"   Spatial encoder input dim: {spatial_encoder.encoder[0].in_features}\")\n",
    "    print(f\"   Spatial encoder output dim: {spatial_encoder.mean_encoder.out_features}\")"
   ]
  },
  {
   "cell_type": "code",
   "execution_count": null,
   "id": "0bc88555",
   "metadata": {},
   "outputs": [
    {
     "name": "stdout",
     "output_type": "stream",
     "text": [
      "False\n",
      "False\n",
      "False\n"
     ]
    }
   ],
   "source": [
    "print(\"size_factor\" in query_adata.obs.columns.tolist())\n",
    "print(\"observed_lib_size\" in query_adata.obs.columns.tolist())\n",
    "print(\"library\" in query_adata.obs.columns.tolist())\n"
   ]
  },
  {
   "cell_type": "code",
   "execution_count": null,
   "id": "07153e42",
   "metadata": {},
   "outputs": [
    {
     "data": {
      "text/plain": [
       "['x_centroid',\n",
       " 'y_centroid',\n",
       " 'transcript_counts',\n",
       " 'control_probe_counts',\n",
       " 'genomic_control_counts',\n",
       " 'control_codeword_counts',\n",
       " 'unassigned_codeword_counts',\n",
       " 'deprecated_codeword_counts',\n",
       " 'total_counts',\n",
       " 'cell_area',\n",
       " 'nucleus_area',\n",
       " 'nucleus_count',\n",
       " 'segmentation_method',\n",
       " 'total_transcripts',\n",
       " 'nuclear_transcripts',\n",
       " 'cytoplasmic_transcripts',\n",
       " 'nuclear_transcript_percentage',\n",
       " 'topic',\n",
       " 'batch',\n",
       " '_scvi_batch',\n",
       " '_scvi_labels',\n",
       " 'leiden',\n",
       " 'Class',\n",
       " 'reference_crypt_villi',\n",
       " 'villi_number',\n",
       " 'peyers',\n",
       " 'Topic 1',\n",
       " 'Topic 2',\n",
       " 'Topic 3',\n",
       " 'Topic 4',\n",
       " 'Topic 5',\n",
       " 'Topic 6',\n",
       " 'Topic 7',\n",
       " 'Topic 8',\n",
       " 'Topic 9',\n",
       " 'Topic 10',\n",
       " 'Topic 11',\n",
       " 'Topic 12',\n",
       " 'Topic 13',\n",
       " 'Topic 14',\n",
       " 'Topic 15',\n",
       " 'crypt_villi_axis',\n",
       " 'epithelial_distance',\n",
       " 'epithelial_distance_clipped',\n",
       " 'epithelial_distance_transformed',\n",
       " 'guide_rnas',\n",
       " 'cell_types',\n",
       " 'cluster_cellcharter',\n",
       " 'epithelial_distance_scaled',\n",
       " '_indices',\n",
       " '_scvi_ind_x',\n",
       " '_scvi_perturbation']"
      ]
     },
     "execution_count": 15,
     "metadata": {},
     "output_type": "execute_result"
    }
   ],
   "source": [
    "query_adata.obs.columns.tolist()"
   ]
  },
  {
   "cell_type": "code",
   "execution_count": null,
   "id": "6388aab2",
   "metadata": {},
   "outputs": [
    {
     "data": {
      "text/plain": [
       "aaaackdi-1    256\n",
       "aaaaddii-1    487\n",
       "aaaafjep-1    317\n",
       "aaaaklej-1    402\n",
       "aaaakpai-1    172\n",
       "             ... \n",
       "oinanmfc-1     45\n",
       "oinaojph-1     25\n",
       "oinbbbgh-1     32\n",
       "oinbfame-1     26\n",
       "oinccnoo-1     38\n",
       "Name: total_counts, Length: 810225, dtype: int64"
      ]
     },
     "execution_count": 16,
     "metadata": {},
     "output_type": "execute_result"
    }
   ],
   "source": [
    "query_adata.obs['total_counts']"
   ]
  },
  {
   "cell_type": "markdown",
   "id": "f6611ad1",
   "metadata": {},
   "source": [
    "Save Results"
   ]
  },
  {
   "cell_type": "code",
   "execution_count": null,
   "id": "a58f26e8",
   "metadata": {},
   "outputs": [
    {
     "name": "stderr",
     "output_type": "stream",
     "text": [
      "GPU available: True (cuda), used: True\n",
      "TPU available: False, using: 0 TPU cores\n",
      "HPU available: False, using: 0 HPUs\n"
     ]
    },
    {
     "name": "stdout",
     "output_type": "stream",
     "text": [
      "Starting training with spatial integration...\n",
      "Training configuration with train_on_perturbed_only=True:\n",
      "  Training set: 2465 perturbation-relevant cells (0.3%)\n",
      "    - Control cells: 454 (0.1%)\n",
      "    - Perturbed cells: 2011 (0.2%)\n",
      "  Excluded from training: 807760 background cells (99.7%)\n",
      "  Background/neighbor computations: all 810225 cells\n"
     ]
    },
    {
     "name": "stderr",
     "output_type": "stream",
     "text": [
      "/home/dpatravali/miniforge3/envs/resolvi-env/lib/python3.11/site-packages/lightning/pytorch/trainer/configuration_validator.py:68: You passed in a `val_dataloader` but have no `validation_step`. Skipping val loop.\n",
      "You are using a CUDA device ('NVIDIA RTX A6000') that has Tensor Cores. To properly utilize them, you should set `torch.set_float32_matmul_precision('medium' | 'high')` which will trade-off precision for performance. For more details, read https://pytorch.org/docs/stable/generated/torch.set_float32_matmul_precision.html#torch.set_float32_matmul_precision\n",
      "LOCAL_RANK: 0 - CUDA_VISIBLE_DEVICES: [0]\n",
      "/home/dpatravali/miniforge3/envs/resolvi-env/lib/python3.11/site-packages/lightning/pytorch/trainer/connectors/data_connector.py:425: The 'train_dataloader' does not have many workers which may be a bottleneck. Consider increasing the value of the `num_workers` argument` to `num_workers=127` in the `DataLoader` to improve performance.\n",
      "/home/dpatravali/miniforge3/envs/resolvi-env/lib/python3.11/site-packages/lightning/pytorch/loops/fit_loop.py:310: The number of training batches (5) is smaller than the logging interval Trainer(log_every_n_steps=10). Set a lower value for log_every_n_steps if you want to see logs for the training epoch.\n"
     ]
    },
    {
     "name": "stdout",
     "output_type": "stream",
     "text": [
      "╔═══ DEBUG distances_n ═══\n",
      "TensorDict keys: ['X', 'batch', 'distance_neighbor', 'extra_categorical_covs', 'ind_x', 'index_neighbor', 'labels', 'perturbation', 'spatial']\n",
      "x_n: <class 'torch.Tensor'> torch.Size([512, 10])\n",
      "distances_n: <class 'torch.Tensor'> torch.Size([512, 10])\n",
      "╚═══════════════════════\n",
      "Epoch 1/100:   0%|          | 0/100 [00:00<?, ?it/s]╔═══ DEBUG distances_n ═══\n",
      "TensorDict keys: ['X', 'batch', 'distance_neighbor', 'extra_categorical_covs', 'ind_x', 'index_neighbor', 'labels', 'perturbation', 'spatial']\n",
      "x_n: <class 'torch.Tensor'> torch.Size([512, 10])\n",
      "distances_n: <class 'torch.Tensor'> torch.Size([512, 10])\n",
      "╚═══════════════════════\n"
     ]
    },
    {
     "ename": "TypeError",
     "evalue": "exp(): argument 'input' (position 1) must be Tensor, not NoneType",
     "output_type": "error",
     "traceback": [
      "\u001b[31m---------------------------------------------------------------------------\u001b[39m",
      "\u001b[31mTypeError\u001b[39m                                 Traceback (most recent call last)",
      "\u001b[36mCell\u001b[39m\u001b[36m \u001b[39m\u001b[32mIn[15]\u001b[39m\u001b[32m, line 6\u001b[39m\n\u001b[32m      3\u001b[39m torch.autograd.set_detect_anomaly(\u001b[38;5;28;01mTrue\u001b[39;00m)\n\u001b[32m      5\u001b[39m \u001b[38;5;28mprint\u001b[39m(\u001b[33m\"\u001b[39m\u001b[33mStarting training with spatial integration...\u001b[39m\u001b[33m\"\u001b[39m)\n\u001b[32m----> \u001b[39m\u001b[32m6\u001b[39m \u001b[43mspatial_resolvi\u001b[49m\u001b[43m.\u001b[49m\u001b[43mtrain\u001b[49m\u001b[43m(\u001b[49m\n\u001b[32m      7\u001b[39m \u001b[43m    \u001b[49m\u001b[43mmax_epochs\u001b[49m\u001b[43m=\u001b[49m\u001b[32;43m100\u001b[39;49m\u001b[43m,\u001b[49m\n\u001b[32m      8\u001b[39m \u001b[43m    \u001b[49m\u001b[43mcheck_val_every_n_epoch\u001b[49m\u001b[43m=\u001b[49m\u001b[32;43m100\u001b[39;49m\u001b[43m,\u001b[49m\n\u001b[32m      9\u001b[39m \u001b[43m    \u001b[49m\u001b[43mlr\u001b[49m\u001b[43m=\u001b[49m\u001b[32;43m3e-4\u001b[39;49m\u001b[43m,\u001b[49m\u001b[43m       \u001b[49m\u001b[38;5;66;43;03m# Following your parameters\u001b[39;49;00m\n\u001b[32m     10\u001b[39m \u001b[43m    \u001b[49m\u001b[43mtrain_on_perturbed_only\u001b[49m\u001b[43m=\u001b[49m\u001b[38;5;28;43;01mTrue\u001b[39;49;00m\u001b[43m  \u001b[49m\u001b[38;5;66;43;03m# Following your methodology\u001b[39;49;00m\n\u001b[32m     11\u001b[39m \u001b[43m)\u001b[49m\n",
      "\u001b[36mFile \u001b[39m\u001b[32m~/Desktop/scvi-spatial/src/scvi/external/resolvi/_model.py:536\u001b[39m, in \u001b[36mRESOLVI.train\u001b[39m\u001b[34m(self, max_epochs, lr, lr_extra, extra_lr_parameters, batch_size, weight_decay, eps, n_steps_kl_warmup, n_epochs_kl_warmup, plan_kwargs, expose_params, train_on_perturbed_only, **kwargs)\u001b[39m\n\u001b[32m    519\u001b[39m     plan_kwargs = {}\n\u001b[32m    520\u001b[39m plan_kwargs.update(\n\u001b[32m    521\u001b[39m     {\n\u001b[32m    522\u001b[39m         \u001b[33m\"\u001b[39m\u001b[33moptim_kwargs\u001b[39m\u001b[33m\"\u001b[39m: {\u001b[33m\"\u001b[39m\u001b[33mlr\u001b[39m\u001b[33m\"\u001b[39m: lr, \u001b[33m\"\u001b[39m\u001b[33mweight_decay\u001b[39m\u001b[33m\"\u001b[39m: weight_decay, \u001b[33m\"\u001b[39m\u001b[33meps\u001b[39m\u001b[33m\"\u001b[39m: eps},\n\u001b[32m   (...)\u001b[39m\u001b[32m    533\u001b[39m     }\n\u001b[32m    534\u001b[39m )\n\u001b[32m--> \u001b[39m\u001b[32m536\u001b[39m \u001b[38;5;28;43msuper\u001b[39;49m\u001b[43m(\u001b[49m\u001b[43m)\u001b[49m\u001b[43m.\u001b[49m\u001b[43mtrain\u001b[49m\u001b[43m(\u001b[49m\n\u001b[32m    537\u001b[39m \u001b[43m    \u001b[49m\u001b[43mmax_epochs\u001b[49m\u001b[43m=\u001b[49m\u001b[43mmax_epochs\u001b[49m\u001b[43m,\u001b[49m\n\u001b[32m    538\u001b[39m \u001b[43m    \u001b[49m\u001b[43mtrain_size\u001b[49m\u001b[43m=\u001b[49m\u001b[32;43m1.0\u001b[39;49m\u001b[43m,\u001b[49m\n\u001b[32m    539\u001b[39m \u001b[43m    \u001b[49m\u001b[43mplan_kwargs\u001b[49m\u001b[43m=\u001b[49m\u001b[43mplan_kwargs\u001b[49m\u001b[43m,\u001b[49m\n\u001b[32m    540\u001b[39m \u001b[43m    \u001b[49m\u001b[43mbatch_size\u001b[49m\u001b[43m=\u001b[49m\u001b[43mbatch_size\u001b[49m\u001b[43m,\u001b[49m\n\u001b[32m    541\u001b[39m \u001b[43m    \u001b[49m\u001b[43m*\u001b[49m\u001b[43m*\u001b[49m\u001b[43mkwargs\u001b[49m\u001b[43m,\u001b[49m\n\u001b[32m    542\u001b[39m \u001b[43m\u001b[49m\u001b[43m)\u001b[49m\n",
      "\u001b[36mFile \u001b[39m\u001b[32m~/Desktop/scvi-spatial/src/scvi/model/base/_pyromixin.py:199\u001b[39m, in \u001b[36mPyroSviTrainMixin.train\u001b[39m\u001b[34m(self, max_epochs, accelerator, device, train_size, validation_size, shuffle_set_split, batch_size, early_stopping, lr, training_plan, datasplitter_kwargs, plan_kwargs, **trainer_kwargs)\u001b[39m\n\u001b[32m    188\u001b[39m trainer_kwargs[\u001b[33m\"\u001b[39m\u001b[33mcallbacks\u001b[39m\u001b[33m\"\u001b[39m].append(PyroJitGuideWarmup())\n\u001b[32m    190\u001b[39m runner = \u001b[38;5;28mself\u001b[39m._train_runner_cls(\n\u001b[32m    191\u001b[39m     \u001b[38;5;28mself\u001b[39m,\n\u001b[32m    192\u001b[39m     training_plan=training_plan,\n\u001b[32m   (...)\u001b[39m\u001b[32m    197\u001b[39m     **trainer_kwargs,\n\u001b[32m    198\u001b[39m )\n\u001b[32m--> \u001b[39m\u001b[32m199\u001b[39m \u001b[38;5;28;01mreturn\u001b[39;00m \u001b[43mrunner\u001b[49m\u001b[43m(\u001b[49m\u001b[43m)\u001b[49m\n",
      "\u001b[36mFile \u001b[39m\u001b[32m~/Desktop/scvi-spatial/src/scvi/train/_trainrunner.py:113\u001b[39m, in \u001b[36mTrainRunner.__call__\u001b[39m\u001b[34m(self)\u001b[39m\n\u001b[32m    110\u001b[39m     \u001b[38;5;28mself\u001b[39m.training_plan.n_obs_validation = \u001b[38;5;28mself\u001b[39m.data_splitter.n_val\n\u001b[32m    112\u001b[39m \u001b[38;5;28;01mtry\u001b[39;00m:\n\u001b[32m--> \u001b[39m\u001b[32m113\u001b[39m     \u001b[38;5;28;43mself\u001b[39;49m\u001b[43m.\u001b[49m\u001b[43mtrainer\u001b[49m\u001b[43m.\u001b[49m\u001b[43mfit\u001b[49m\u001b[43m(\u001b[49m\u001b[38;5;28;43mself\u001b[39;49m\u001b[43m.\u001b[49m\u001b[43mtraining_plan\u001b[49m\u001b[43m,\u001b[49m\u001b[43m \u001b[49m\u001b[38;5;28;43mself\u001b[39;49m\u001b[43m.\u001b[49m\u001b[43mdata_splitter\u001b[49m\u001b[43m)\u001b[49m\n\u001b[32m    114\u001b[39m \u001b[38;5;28;01mexcept\u001b[39;00m \u001b[38;5;167;01mNameError\u001b[39;00m:\n\u001b[32m    115\u001b[39m     \u001b[38;5;28;01mimport\u001b[39;00m\u001b[38;5;250m \u001b[39m\u001b[34;01mgc\u001b[39;00m\n",
      "\u001b[36mFile \u001b[39m\u001b[32m~/Desktop/scvi-spatial/src/scvi/train/_trainer.py:215\u001b[39m, in \u001b[36mTrainer.fit\u001b[39m\u001b[34m(self, *args, **kwargs)\u001b[39m\n\u001b[32m    209\u001b[39m     warnings.filterwarnings(\n\u001b[32m    210\u001b[39m         action=\u001b[33m\"\u001b[39m\u001b[33mignore\u001b[39m\u001b[33m\"\u001b[39m,\n\u001b[32m    211\u001b[39m         category=\u001b[38;5;167;01mUserWarning\u001b[39;00m,\n\u001b[32m    212\u001b[39m         message=\u001b[33m\"\u001b[39m\u001b[33m`LightningModule.configure_optimizers` returned `None`\u001b[39m\u001b[33m\"\u001b[39m,\n\u001b[32m    213\u001b[39m     )\n\u001b[32m    214\u001b[39m \u001b[38;5;28;01mtry\u001b[39;00m:\n\u001b[32m--> \u001b[39m\u001b[32m215\u001b[39m     \u001b[38;5;28;43msuper\u001b[39;49m\u001b[43m(\u001b[49m\u001b[43m)\u001b[49m\u001b[43m.\u001b[49m\u001b[43mfit\u001b[49m\u001b[43m(\u001b[49m\u001b[43m*\u001b[49m\u001b[43margs\u001b[49m\u001b[43m,\u001b[49m\u001b[43m \u001b[49m\u001b[43m*\u001b[49m\u001b[43m*\u001b[49m\u001b[43mkwargs\u001b[49m\u001b[43m)\u001b[49m\n\u001b[32m    216\u001b[39m \u001b[38;5;28;01mexcept\u001b[39;00m \u001b[38;5;167;01mNameError\u001b[39;00m:\n\u001b[32m    217\u001b[39m     \u001b[38;5;28;01mimport\u001b[39;00m\u001b[38;5;250m \u001b[39m\u001b[34;01mgc\u001b[39;00m\n",
      "\u001b[36mFile \u001b[39m\u001b[32m~/miniforge3/envs/resolvi-env/lib/python3.11/site-packages/lightning/pytorch/trainer/trainer.py:561\u001b[39m, in \u001b[36mTrainer.fit\u001b[39m\u001b[34m(self, model, train_dataloaders, val_dataloaders, datamodule, ckpt_path)\u001b[39m\n\u001b[32m    559\u001b[39m \u001b[38;5;28mself\u001b[39m.training = \u001b[38;5;28;01mTrue\u001b[39;00m\n\u001b[32m    560\u001b[39m \u001b[38;5;28mself\u001b[39m.should_stop = \u001b[38;5;28;01mFalse\u001b[39;00m\n\u001b[32m--> \u001b[39m\u001b[32m561\u001b[39m \u001b[43mcall\u001b[49m\u001b[43m.\u001b[49m\u001b[43m_call_and_handle_interrupt\u001b[49m\u001b[43m(\u001b[49m\n\u001b[32m    562\u001b[39m \u001b[43m    \u001b[49m\u001b[38;5;28;43mself\u001b[39;49m\u001b[43m,\u001b[49m\u001b[43m \u001b[49m\u001b[38;5;28;43mself\u001b[39;49m\u001b[43m.\u001b[49m\u001b[43m_fit_impl\u001b[49m\u001b[43m,\u001b[49m\u001b[43m \u001b[49m\u001b[43mmodel\u001b[49m\u001b[43m,\u001b[49m\u001b[43m \u001b[49m\u001b[43mtrain_dataloaders\u001b[49m\u001b[43m,\u001b[49m\u001b[43m \u001b[49m\u001b[43mval_dataloaders\u001b[49m\u001b[43m,\u001b[49m\u001b[43m \u001b[49m\u001b[43mdatamodule\u001b[49m\u001b[43m,\u001b[49m\u001b[43m \u001b[49m\u001b[43mckpt_path\u001b[49m\n\u001b[32m    563\u001b[39m \u001b[43m\u001b[49m\u001b[43m)\u001b[49m\n",
      "\u001b[36mFile \u001b[39m\u001b[32m~/miniforge3/envs/resolvi-env/lib/python3.11/site-packages/lightning/pytorch/trainer/call.py:48\u001b[39m, in \u001b[36m_call_and_handle_interrupt\u001b[39m\u001b[34m(trainer, trainer_fn, *args, **kwargs)\u001b[39m\n\u001b[32m     46\u001b[39m     \u001b[38;5;28;01mif\u001b[39;00m trainer.strategy.launcher \u001b[38;5;129;01mis\u001b[39;00m \u001b[38;5;129;01mnot\u001b[39;00m \u001b[38;5;28;01mNone\u001b[39;00m:\n\u001b[32m     47\u001b[39m         \u001b[38;5;28;01mreturn\u001b[39;00m trainer.strategy.launcher.launch(trainer_fn, *args, trainer=trainer, **kwargs)\n\u001b[32m---> \u001b[39m\u001b[32m48\u001b[39m     \u001b[38;5;28;01mreturn\u001b[39;00m \u001b[43mtrainer_fn\u001b[49m\u001b[43m(\u001b[49m\u001b[43m*\u001b[49m\u001b[43margs\u001b[49m\u001b[43m,\u001b[49m\u001b[43m \u001b[49m\u001b[43m*\u001b[49m\u001b[43m*\u001b[49m\u001b[43mkwargs\u001b[49m\u001b[43m)\u001b[49m\n\u001b[32m     50\u001b[39m \u001b[38;5;28;01mexcept\u001b[39;00m _TunerExitException:\n\u001b[32m     51\u001b[39m     _call_teardown_hook(trainer)\n",
      "\u001b[36mFile \u001b[39m\u001b[32m~/miniforge3/envs/resolvi-env/lib/python3.11/site-packages/lightning/pytorch/trainer/trainer.py:599\u001b[39m, in \u001b[36mTrainer._fit_impl\u001b[39m\u001b[34m(self, model, train_dataloaders, val_dataloaders, datamodule, ckpt_path)\u001b[39m\n\u001b[32m    592\u001b[39m     download_model_from_registry(ckpt_path, \u001b[38;5;28mself\u001b[39m)\n\u001b[32m    593\u001b[39m ckpt_path = \u001b[38;5;28mself\u001b[39m._checkpoint_connector._select_ckpt_path(\n\u001b[32m    594\u001b[39m     \u001b[38;5;28mself\u001b[39m.state.fn,\n\u001b[32m    595\u001b[39m     ckpt_path,\n\u001b[32m    596\u001b[39m     model_provided=\u001b[38;5;28;01mTrue\u001b[39;00m,\n\u001b[32m    597\u001b[39m     model_connected=\u001b[38;5;28mself\u001b[39m.lightning_module \u001b[38;5;129;01mis\u001b[39;00m \u001b[38;5;129;01mnot\u001b[39;00m \u001b[38;5;28;01mNone\u001b[39;00m,\n\u001b[32m    598\u001b[39m )\n\u001b[32m--> \u001b[39m\u001b[32m599\u001b[39m \u001b[38;5;28;43mself\u001b[39;49m\u001b[43m.\u001b[49m\u001b[43m_run\u001b[49m\u001b[43m(\u001b[49m\u001b[43mmodel\u001b[49m\u001b[43m,\u001b[49m\u001b[43m \u001b[49m\u001b[43mckpt_path\u001b[49m\u001b[43m=\u001b[49m\u001b[43mckpt_path\u001b[49m\u001b[43m)\u001b[49m\n\u001b[32m    601\u001b[39m \u001b[38;5;28;01massert\u001b[39;00m \u001b[38;5;28mself\u001b[39m.state.stopped\n\u001b[32m    602\u001b[39m \u001b[38;5;28mself\u001b[39m.training = \u001b[38;5;28;01mFalse\u001b[39;00m\n",
      "\u001b[36mFile \u001b[39m\u001b[32m~/miniforge3/envs/resolvi-env/lib/python3.11/site-packages/lightning/pytorch/trainer/trainer.py:1012\u001b[39m, in \u001b[36mTrainer._run\u001b[39m\u001b[34m(self, model, ckpt_path)\u001b[39m\n\u001b[32m   1007\u001b[39m \u001b[38;5;28mself\u001b[39m._signal_connector.register_signal_handlers()\n\u001b[32m   1009\u001b[39m \u001b[38;5;66;03m# ----------------------------\u001b[39;00m\n\u001b[32m   1010\u001b[39m \u001b[38;5;66;03m# RUN THE TRAINER\u001b[39;00m\n\u001b[32m   1011\u001b[39m \u001b[38;5;66;03m# ----------------------------\u001b[39;00m\n\u001b[32m-> \u001b[39m\u001b[32m1012\u001b[39m results = \u001b[38;5;28;43mself\u001b[39;49m\u001b[43m.\u001b[49m\u001b[43m_run_stage\u001b[49m\u001b[43m(\u001b[49m\u001b[43m)\u001b[49m\n\u001b[32m   1014\u001b[39m \u001b[38;5;66;03m# ----------------------------\u001b[39;00m\n\u001b[32m   1015\u001b[39m \u001b[38;5;66;03m# POST-Training CLEAN UP\u001b[39;00m\n\u001b[32m   1016\u001b[39m \u001b[38;5;66;03m# ----------------------------\u001b[39;00m\n\u001b[32m   1017\u001b[39m log.debug(\u001b[33mf\u001b[39m\u001b[33m\"\u001b[39m\u001b[38;5;132;01m{\u001b[39;00m\u001b[38;5;28mself\u001b[39m.\u001b[34m__class__\u001b[39m.\u001b[34m__name__\u001b[39m\u001b[38;5;132;01m}\u001b[39;00m\u001b[33m: trainer tearing down\u001b[39m\u001b[33m\"\u001b[39m)\n",
      "\u001b[36mFile \u001b[39m\u001b[32m~/miniforge3/envs/resolvi-env/lib/python3.11/site-packages/lightning/pytorch/trainer/trainer.py:1056\u001b[39m, in \u001b[36mTrainer._run_stage\u001b[39m\u001b[34m(self)\u001b[39m\n\u001b[32m   1054\u001b[39m         \u001b[38;5;28mself\u001b[39m._run_sanity_check()\n\u001b[32m   1055\u001b[39m     \u001b[38;5;28;01mwith\u001b[39;00m torch.autograd.set_detect_anomaly(\u001b[38;5;28mself\u001b[39m._detect_anomaly):\n\u001b[32m-> \u001b[39m\u001b[32m1056\u001b[39m         \u001b[38;5;28;43mself\u001b[39;49m\u001b[43m.\u001b[49m\u001b[43mfit_loop\u001b[49m\u001b[43m.\u001b[49m\u001b[43mrun\u001b[49m\u001b[43m(\u001b[49m\u001b[43m)\u001b[49m\n\u001b[32m   1057\u001b[39m     \u001b[38;5;28;01mreturn\u001b[39;00m \u001b[38;5;28;01mNone\u001b[39;00m\n\u001b[32m   1058\u001b[39m \u001b[38;5;28;01mraise\u001b[39;00m \u001b[38;5;167;01mRuntimeError\u001b[39;00m(\u001b[33mf\u001b[39m\u001b[33m\"\u001b[39m\u001b[33mUnexpected state \u001b[39m\u001b[38;5;132;01m{\u001b[39;00m\u001b[38;5;28mself\u001b[39m.state\u001b[38;5;132;01m}\u001b[39;00m\u001b[33m\"\u001b[39m)\n",
      "\u001b[36mFile \u001b[39m\u001b[32m~/miniforge3/envs/resolvi-env/lib/python3.11/site-packages/lightning/pytorch/loops/fit_loop.py:216\u001b[39m, in \u001b[36m_FitLoop.run\u001b[39m\u001b[34m(self)\u001b[39m\n\u001b[32m    214\u001b[39m \u001b[38;5;28;01mtry\u001b[39;00m:\n\u001b[32m    215\u001b[39m     \u001b[38;5;28mself\u001b[39m.on_advance_start()\n\u001b[32m--> \u001b[39m\u001b[32m216\u001b[39m     \u001b[38;5;28;43mself\u001b[39;49m\u001b[43m.\u001b[49m\u001b[43madvance\u001b[49m\u001b[43m(\u001b[49m\u001b[43m)\u001b[49m\n\u001b[32m    217\u001b[39m     \u001b[38;5;28mself\u001b[39m.on_advance_end()\n\u001b[32m    218\u001b[39m \u001b[38;5;28;01mexcept\u001b[39;00m \u001b[38;5;167;01mStopIteration\u001b[39;00m:\n",
      "\u001b[36mFile \u001b[39m\u001b[32m~/miniforge3/envs/resolvi-env/lib/python3.11/site-packages/lightning/pytorch/loops/fit_loop.py:455\u001b[39m, in \u001b[36m_FitLoop.advance\u001b[39m\u001b[34m(self)\u001b[39m\n\u001b[32m    453\u001b[39m \u001b[38;5;28;01mwith\u001b[39;00m \u001b[38;5;28mself\u001b[39m.trainer.profiler.profile(\u001b[33m\"\u001b[39m\u001b[33mrun_training_epoch\u001b[39m\u001b[33m\"\u001b[39m):\n\u001b[32m    454\u001b[39m     \u001b[38;5;28;01massert\u001b[39;00m \u001b[38;5;28mself\u001b[39m._data_fetcher \u001b[38;5;129;01mis\u001b[39;00m \u001b[38;5;129;01mnot\u001b[39;00m \u001b[38;5;28;01mNone\u001b[39;00m\n\u001b[32m--> \u001b[39m\u001b[32m455\u001b[39m     \u001b[38;5;28;43mself\u001b[39;49m\u001b[43m.\u001b[49m\u001b[43mepoch_loop\u001b[49m\u001b[43m.\u001b[49m\u001b[43mrun\u001b[49m\u001b[43m(\u001b[49m\u001b[38;5;28;43mself\u001b[39;49m\u001b[43m.\u001b[49m\u001b[43m_data_fetcher\u001b[49m\u001b[43m)\u001b[49m\n",
      "\u001b[36mFile \u001b[39m\u001b[32m~/miniforge3/envs/resolvi-env/lib/python3.11/site-packages/lightning/pytorch/loops/training_epoch_loop.py:150\u001b[39m, in \u001b[36m_TrainingEpochLoop.run\u001b[39m\u001b[34m(self, data_fetcher)\u001b[39m\n\u001b[32m    148\u001b[39m \u001b[38;5;28;01mwhile\u001b[39;00m \u001b[38;5;129;01mnot\u001b[39;00m \u001b[38;5;28mself\u001b[39m.done:\n\u001b[32m    149\u001b[39m     \u001b[38;5;28;01mtry\u001b[39;00m:\n\u001b[32m--> \u001b[39m\u001b[32m150\u001b[39m         \u001b[38;5;28;43mself\u001b[39;49m\u001b[43m.\u001b[49m\u001b[43madvance\u001b[49m\u001b[43m(\u001b[49m\u001b[43mdata_fetcher\u001b[49m\u001b[43m)\u001b[49m\n\u001b[32m    151\u001b[39m         \u001b[38;5;28mself\u001b[39m.on_advance_end(data_fetcher)\n\u001b[32m    152\u001b[39m     \u001b[38;5;28;01mexcept\u001b[39;00m \u001b[38;5;167;01mStopIteration\u001b[39;00m:\n",
      "\u001b[36mFile \u001b[39m\u001b[32m~/miniforge3/envs/resolvi-env/lib/python3.11/site-packages/lightning/pytorch/loops/training_epoch_loop.py:322\u001b[39m, in \u001b[36m_TrainingEpochLoop.advance\u001b[39m\u001b[34m(self, data_fetcher)\u001b[39m\n\u001b[32m    320\u001b[39m             batch_output = \u001b[38;5;28mself\u001b[39m.automatic_optimization.run(trainer.optimizers[\u001b[32m0\u001b[39m], batch_idx, kwargs)\n\u001b[32m    321\u001b[39m         \u001b[38;5;28;01melse\u001b[39;00m:\n\u001b[32m--> \u001b[39m\u001b[32m322\u001b[39m             batch_output = \u001b[38;5;28;43mself\u001b[39;49m\u001b[43m.\u001b[49m\u001b[43mmanual_optimization\u001b[49m\u001b[43m.\u001b[49m\u001b[43mrun\u001b[49m\u001b[43m(\u001b[49m\u001b[43mkwargs\u001b[49m\u001b[43m)\u001b[49m\n\u001b[32m    324\u001b[39m \u001b[38;5;28mself\u001b[39m.batch_progress.increment_processed()\n\u001b[32m    326\u001b[39m \u001b[38;5;66;03m# update non-plateau LR schedulers\u001b[39;00m\n\u001b[32m    327\u001b[39m \u001b[38;5;66;03m# update epoch-interval ones only when we are at the end of training epoch\u001b[39;00m\n",
      "\u001b[36mFile \u001b[39m\u001b[32m~/miniforge3/envs/resolvi-env/lib/python3.11/site-packages/lightning/pytorch/loops/optimization/manual.py:94\u001b[39m, in \u001b[36m_ManualOptimization.run\u001b[39m\u001b[34m(self, kwargs)\u001b[39m\n\u001b[32m     92\u001b[39m \u001b[38;5;28mself\u001b[39m.on_run_start()\n\u001b[32m     93\u001b[39m \u001b[38;5;28;01mwith\u001b[39;00m suppress(\u001b[38;5;167;01mStopIteration\u001b[39;00m):  \u001b[38;5;66;03m# no loop to break at this level\u001b[39;00m\n\u001b[32m---> \u001b[39m\u001b[32m94\u001b[39m     \u001b[38;5;28;43mself\u001b[39;49m\u001b[43m.\u001b[49m\u001b[43madvance\u001b[49m\u001b[43m(\u001b[49m\u001b[43mkwargs\u001b[49m\u001b[43m)\u001b[49m\n\u001b[32m     95\u001b[39m \u001b[38;5;28mself\u001b[39m._restarting = \u001b[38;5;28;01mFalse\u001b[39;00m\n\u001b[32m     96\u001b[39m \u001b[38;5;28;01mreturn\u001b[39;00m \u001b[38;5;28mself\u001b[39m.on_run_end()\n",
      "\u001b[36mFile \u001b[39m\u001b[32m~/miniforge3/envs/resolvi-env/lib/python3.11/site-packages/lightning/pytorch/loops/optimization/manual.py:114\u001b[39m, in \u001b[36m_ManualOptimization.advance\u001b[39m\u001b[34m(self, kwargs)\u001b[39m\n\u001b[32m    111\u001b[39m trainer = \u001b[38;5;28mself\u001b[39m.trainer\n\u001b[32m    113\u001b[39m \u001b[38;5;66;03m# manually capture logged metrics\u001b[39;00m\n\u001b[32m--> \u001b[39m\u001b[32m114\u001b[39m training_step_output = \u001b[43mcall\u001b[49m\u001b[43m.\u001b[49m\u001b[43m_call_strategy_hook\u001b[49m\u001b[43m(\u001b[49m\u001b[43mtrainer\u001b[49m\u001b[43m,\u001b[49m\u001b[43m \u001b[49m\u001b[33;43m\"\u001b[39;49m\u001b[33;43mtraining_step\u001b[39;49m\u001b[33;43m\"\u001b[39;49m\u001b[43m,\u001b[49m\u001b[43m \u001b[49m\u001b[43m*\u001b[49m\u001b[43mkwargs\u001b[49m\u001b[43m.\u001b[49m\u001b[43mvalues\u001b[49m\u001b[43m(\u001b[49m\u001b[43m)\u001b[49m\u001b[43m)\u001b[49m\n\u001b[32m    115\u001b[39m \u001b[38;5;28;01mdel\u001b[39;00m kwargs  \u001b[38;5;66;03m# release the batch from memory\u001b[39;00m\n\u001b[32m    116\u001b[39m \u001b[38;5;28mself\u001b[39m.trainer.strategy.post_training_step()  \u001b[38;5;66;03m# unused hook - call anyway for backward compatibility\u001b[39;00m\n",
      "\u001b[36mFile \u001b[39m\u001b[32m~/miniforge3/envs/resolvi-env/lib/python3.11/site-packages/lightning/pytorch/trainer/call.py:328\u001b[39m, in \u001b[36m_call_strategy_hook\u001b[39m\u001b[34m(trainer, hook_name, *args, **kwargs)\u001b[39m\n\u001b[32m    325\u001b[39m     \u001b[38;5;28;01mreturn\u001b[39;00m \u001b[38;5;28;01mNone\u001b[39;00m\n\u001b[32m    327\u001b[39m \u001b[38;5;28;01mwith\u001b[39;00m trainer.profiler.profile(\u001b[33mf\u001b[39m\u001b[33m\"\u001b[39m\u001b[33m[Strategy]\u001b[39m\u001b[38;5;132;01m{\u001b[39;00mtrainer.strategy.\u001b[34m__class__\u001b[39m.\u001b[34m__name__\u001b[39m\u001b[38;5;132;01m}\u001b[39;00m\u001b[33m.\u001b[39m\u001b[38;5;132;01m{\u001b[39;00mhook_name\u001b[38;5;132;01m}\u001b[39;00m\u001b[33m\"\u001b[39m):\n\u001b[32m--> \u001b[39m\u001b[32m328\u001b[39m     output = \u001b[43mfn\u001b[49m\u001b[43m(\u001b[49m\u001b[43m*\u001b[49m\u001b[43margs\u001b[49m\u001b[43m,\u001b[49m\u001b[43m \u001b[49m\u001b[43m*\u001b[49m\u001b[43m*\u001b[49m\u001b[43mkwargs\u001b[49m\u001b[43m)\u001b[49m\n\u001b[32m    330\u001b[39m \u001b[38;5;66;03m# restore current_fx when nested context\u001b[39;00m\n\u001b[32m    331\u001b[39m pl_module._current_fx_name = prev_fx_name\n",
      "\u001b[36mFile \u001b[39m\u001b[32m~/miniforge3/envs/resolvi-env/lib/python3.11/site-packages/lightning/pytorch/strategies/strategy.py:391\u001b[39m, in \u001b[36mStrategy.training_step\u001b[39m\u001b[34m(self, *args, **kwargs)\u001b[39m\n\u001b[32m    389\u001b[39m \u001b[38;5;28;01mif\u001b[39;00m \u001b[38;5;28mself\u001b[39m.model != \u001b[38;5;28mself\u001b[39m.lightning_module:\n\u001b[32m    390\u001b[39m     \u001b[38;5;28;01mreturn\u001b[39;00m \u001b[38;5;28mself\u001b[39m._forward_redirection(\u001b[38;5;28mself\u001b[39m.model, \u001b[38;5;28mself\u001b[39m.lightning_module, \u001b[33m\"\u001b[39m\u001b[33mtraining_step\u001b[39m\u001b[33m\"\u001b[39m, *args, **kwargs)\n\u001b[32m--> \u001b[39m\u001b[32m391\u001b[39m \u001b[38;5;28;01mreturn\u001b[39;00m \u001b[38;5;28;43mself\u001b[39;49m\u001b[43m.\u001b[49m\u001b[43mlightning_module\u001b[49m\u001b[43m.\u001b[49m\u001b[43mtraining_step\u001b[49m\u001b[43m(\u001b[49m\u001b[43m*\u001b[49m\u001b[43margs\u001b[49m\u001b[43m,\u001b[49m\u001b[43m \u001b[49m\u001b[43m*\u001b[49m\u001b[43m*\u001b[49m\u001b[43mkwargs\u001b[49m\u001b[43m)\u001b[49m\n",
      "\u001b[36mFile \u001b[39m\u001b[32m~/Desktop/scvi-spatial/src/scvi/train/_trainingplans.py:1451\u001b[39m, in \u001b[36mPyroTrainingPlan.training_step\u001b[39m\u001b[34m(self, batch, batch_idx)\u001b[39m\n\u001b[32m   1449\u001b[39m     kwargs.update({\u001b[33m\"\u001b[39m\u001b[33mkl_weight\u001b[39m\u001b[33m\"\u001b[39m: \u001b[38;5;28mself\u001b[39m.kl_weight})\n\u001b[32m   1450\u001b[39m \u001b[38;5;66;03m# pytorch lightning requires a Tensor object for loss\u001b[39;00m\n\u001b[32m-> \u001b[39m\u001b[32m1451\u001b[39m loss = torch.Tensor([\u001b[38;5;28;43mself\u001b[39;49m\u001b[43m.\u001b[49m\u001b[43msvi\u001b[49m\u001b[43m.\u001b[49m\u001b[43mstep\u001b[49m\u001b[43m(\u001b[49m\u001b[43m*\u001b[49m\u001b[43margs\u001b[49m\u001b[43m,\u001b[49m\u001b[43m \u001b[49m\u001b[43m*\u001b[49m\u001b[43m*\u001b[49m\u001b[43mkwargs\u001b[49m\u001b[43m)\u001b[49m])\n\u001b[32m   1453\u001b[39m _opt = \u001b[38;5;28mself\u001b[39m.optimizers()\n\u001b[32m   1454\u001b[39m _opt.step()\n",
      "\u001b[36mFile \u001b[39m\u001b[32m~/miniforge3/envs/resolvi-env/lib/python3.11/site-packages/pyro/infer/svi.py:145\u001b[39m, in \u001b[36mSVI.step\u001b[39m\u001b[34m(self, *args, **kwargs)\u001b[39m\n\u001b[32m    143\u001b[39m \u001b[38;5;66;03m# get loss and compute gradients\u001b[39;00m\n\u001b[32m    144\u001b[39m \u001b[38;5;28;01mwith\u001b[39;00m poutine.trace(param_only=\u001b[38;5;28;01mTrue\u001b[39;00m) \u001b[38;5;28;01mas\u001b[39;00m param_capture:\n\u001b[32m--> \u001b[39m\u001b[32m145\u001b[39m     loss = \u001b[38;5;28;43mself\u001b[39;49m\u001b[43m.\u001b[49m\u001b[43mloss_and_grads\u001b[49m\u001b[43m(\u001b[49m\u001b[38;5;28;43mself\u001b[39;49m\u001b[43m.\u001b[49m\u001b[43mmodel\u001b[49m\u001b[43m,\u001b[49m\u001b[43m \u001b[49m\u001b[38;5;28;43mself\u001b[39;49m\u001b[43m.\u001b[49m\u001b[43mguide\u001b[49m\u001b[43m,\u001b[49m\u001b[43m \u001b[49m\u001b[43m*\u001b[49m\u001b[43margs\u001b[49m\u001b[43m,\u001b[49m\u001b[43m \u001b[49m\u001b[43m*\u001b[49m\u001b[43m*\u001b[49m\u001b[43mkwargs\u001b[49m\u001b[43m)\u001b[49m\n\u001b[32m    147\u001b[39m params = \u001b[38;5;28mset\u001b[39m(\n\u001b[32m    148\u001b[39m     site[\u001b[33m\"\u001b[39m\u001b[33mvalue\u001b[39m\u001b[33m\"\u001b[39m].unconstrained() \u001b[38;5;28;01mfor\u001b[39;00m site \u001b[38;5;129;01min\u001b[39;00m param_capture.trace.nodes.values()\n\u001b[32m    149\u001b[39m )\n\u001b[32m    151\u001b[39m \u001b[38;5;66;03m# actually perform gradient steps\u001b[39;00m\n\u001b[32m    152\u001b[39m \u001b[38;5;66;03m# torch.optim objects gets instantiated for any params that haven't been seen yet\u001b[39;00m\n",
      "\u001b[36mFile \u001b[39m\u001b[32m~/Desktop/scvi-spatial/src/scvi/external/resolvi/_module.py:75\u001b[39m, in \u001b[36mControlPenaltyELBO.loss_and_grads\u001b[39m\u001b[34m(self, model, guide, *args, **kwargs)\u001b[39m\n\u001b[32m     71\u001b[39m \u001b[38;5;250m\u001b[39m\u001b[33;03m\"\"\"\u001b[39;00m\n\u001b[32m     72\u001b[39m \u001b[33;03mComputes the loss and gradients for the total loss (ELBO + control penalty).\u001b[39;00m\n\u001b[32m     73\u001b[39m \u001b[33;03m\"\"\"\u001b[39;00m\n\u001b[32m     74\u001b[39m \u001b[38;5;66;03m# Compute total loss\u001b[39;00m\n\u001b[32m---> \u001b[39m\u001b[32m75\u001b[39m total_loss = \u001b[38;5;28;43mself\u001b[39;49m\u001b[43m.\u001b[49m\u001b[43mloss\u001b[49m\u001b[43m(\u001b[49m\u001b[43mmodel\u001b[49m\u001b[43m,\u001b[49m\u001b[43m \u001b[49m\u001b[43mguide\u001b[49m\u001b[43m,\u001b[49m\u001b[43m \u001b[49m\u001b[43m*\u001b[49m\u001b[43margs\u001b[49m\u001b[43m,\u001b[49m\u001b[43m \u001b[49m\u001b[43m*\u001b[49m\u001b[43m*\u001b[49m\u001b[43mkwargs\u001b[49m\u001b[43m)\u001b[49m\n\u001b[32m     77\u001b[39m \u001b[38;5;66;03m# Compute gradients on the total loss\u001b[39;00m\n\u001b[32m     78\u001b[39m total_loss.backward()\n",
      "\u001b[36mFile \u001b[39m\u001b[32m~/Desktop/scvi-spatial/src/scvi/external/resolvi/_module.py:52\u001b[39m, in \u001b[36mControlPenaltyELBO.loss\u001b[39m\u001b[34m(self, model, guide, *args, **kwargs)\u001b[39m\n\u001b[32m     49\u001b[39m control_penalty = \u001b[32m0.0\u001b[39m\n\u001b[32m     51\u001b[39m \u001b[38;5;66;03m# Use parent class's _get_traces method\u001b[39;00m\n\u001b[32m---> \u001b[39m\u001b[32m52\u001b[39m \u001b[43m\u001b[49m\u001b[38;5;28;43;01mfor\u001b[39;49;00m\u001b[43m \u001b[49m\u001b[43mguide_trace\u001b[49m\u001b[43m,\u001b[49m\u001b[43m \u001b[49m\u001b[43mmodel_trace\u001b[49m\u001b[43m \u001b[49m\u001b[38;5;129;43;01min\u001b[39;49;00m\u001b[43m \u001b[49m\u001b[38;5;28;43mself\u001b[39;49m\u001b[43m.\u001b[49m\u001b[43m_get_traces\u001b[49m\u001b[43m(\u001b[49m\u001b[43mmodel\u001b[49m\u001b[43m,\u001b[49m\u001b[43m \u001b[49m\u001b[43mguide\u001b[49m\u001b[43m,\u001b[49m\u001b[43m \u001b[49m\u001b[43margs\u001b[49m\u001b[43m,\u001b[49m\u001b[43m \u001b[49m\u001b[43mkwargs\u001b[49m\u001b[43m)\u001b[49m\u001b[43m:\u001b[49m\n\u001b[32m     53\u001b[39m \u001b[43m    \u001b[49m\u001b[43melbo_particle\u001b[49m\u001b[43m \u001b[49m\u001b[43m=\u001b[49m\u001b[43m \u001b[49m\u001b[43mguide_trace\u001b[49m\u001b[43m.\u001b[49m\u001b[43mlog_prob_sum\u001b[49m\u001b[43m(\u001b[49m\u001b[43m)\u001b[49m\u001b[43m \u001b[49m\u001b[43m-\u001b[49m\u001b[43m \u001b[49m\u001b[43mmodel_trace\u001b[49m\u001b[43m.\u001b[49m\u001b[43mlog_prob_sum\u001b[49m\u001b[43m(\u001b[49m\u001b[43m)\u001b[49m\n\u001b[32m     54\u001b[39m \u001b[43m    \u001b[49m\u001b[43melbo_loss\u001b[49m\u001b[43m \u001b[49m\u001b[43m+\u001b[49m\u001b[43m=\u001b[49m\u001b[43m \u001b[49m\u001b[43melbo_particle\u001b[49m\u001b[43m \u001b[49m\u001b[43m/\u001b[49m\u001b[43m \u001b[49m\u001b[38;5;28;43mself\u001b[39;49m\u001b[43m.\u001b[49m\u001b[43mnum_particles\u001b[49m\n",
      "\u001b[36mFile \u001b[39m\u001b[32m~/miniforge3/envs/resolvi-env/lib/python3.11/site-packages/pyro/infer/elbo.py:233\u001b[39m, in \u001b[36mELBO._get_traces\u001b[39m\u001b[34m(self, model, guide, args, kwargs)\u001b[39m\n\u001b[32m    231\u001b[39m \u001b[38;5;28;01mif\u001b[39;00m \u001b[38;5;28mself\u001b[39m.vectorize_particles:\n\u001b[32m    232\u001b[39m     \u001b[38;5;28;01mif\u001b[39;00m \u001b[38;5;28mself\u001b[39m.max_plate_nesting == \u001b[38;5;28mfloat\u001b[39m(\u001b[33m\"\u001b[39m\u001b[33minf\u001b[39m\u001b[33m\"\u001b[39m):\n\u001b[32m--> \u001b[39m\u001b[32m233\u001b[39m         \u001b[38;5;28;43mself\u001b[39;49m\u001b[43m.\u001b[49m\u001b[43m_guess_max_plate_nesting\u001b[49m\u001b[43m(\u001b[49m\u001b[43mmodel\u001b[49m\u001b[43m,\u001b[49m\u001b[43m \u001b[49m\u001b[43mguide\u001b[49m\u001b[43m,\u001b[49m\u001b[43m \u001b[49m\u001b[43margs\u001b[49m\u001b[43m,\u001b[49m\u001b[43m \u001b[49m\u001b[43mkwargs\u001b[49m\u001b[43m)\u001b[49m\n\u001b[32m    234\u001b[39m     \u001b[38;5;28;01myield\u001b[39;00m \u001b[38;5;28mself\u001b[39m._get_vectorized_trace(model, guide, args, kwargs)\n\u001b[32m    235\u001b[39m \u001b[38;5;28;01melse\u001b[39;00m:\n",
      "\u001b[36mFile \u001b[39m\u001b[32m~/miniforge3/envs/resolvi-env/lib/python3.11/site-packages/pyro/infer/elbo.py:153\u001b[39m, in \u001b[36mELBO._guess_max_plate_nesting\u001b[39m\u001b[34m(self, model, guide, args, kwargs)\u001b[39m\n\u001b[32m    151\u001b[39m \u001b[38;5;28;01mwith\u001b[39;00m poutine.block():\n\u001b[32m    152\u001b[39m     guide_trace = poutine.trace(guide).get_trace(*args, **kwargs)\n\u001b[32m--> \u001b[39m\u001b[32m153\u001b[39m     model_trace = \u001b[43mpoutine\u001b[49m\u001b[43m.\u001b[49m\u001b[43mtrace\u001b[49m\u001b[43m(\u001b[49m\n\u001b[32m    154\u001b[39m \u001b[43m        \u001b[49m\u001b[43mpoutine\u001b[49m\u001b[43m.\u001b[49m\u001b[43mreplay\u001b[49m\u001b[43m(\u001b[49m\u001b[43mmodel\u001b[49m\u001b[43m,\u001b[49m\u001b[43m \u001b[49m\u001b[43mtrace\u001b[49m\u001b[43m=\u001b[49m\u001b[43mguide_trace\u001b[49m\u001b[43m)\u001b[49m\n\u001b[32m    155\u001b[39m \u001b[43m    \u001b[49m\u001b[43m)\u001b[49m\u001b[43m.\u001b[49m\u001b[43mget_trace\u001b[49m\u001b[43m(\u001b[49m\u001b[43m*\u001b[49m\u001b[43margs\u001b[49m\u001b[43m,\u001b[49m\u001b[43m \u001b[49m\u001b[43m*\u001b[49m\u001b[43m*\u001b[49m\u001b[43mkwargs\u001b[49m\u001b[43m)\u001b[49m\n\u001b[32m    156\u001b[39m guide_trace = prune_subsample_sites(guide_trace)\n\u001b[32m    157\u001b[39m model_trace = prune_subsample_sites(model_trace)\n",
      "\u001b[36mFile \u001b[39m\u001b[32m~/miniforge3/envs/resolvi-env/lib/python3.11/site-packages/pyro/poutine/trace_messenger.py:216\u001b[39m, in \u001b[36mTraceHandler.get_trace\u001b[39m\u001b[34m(self, *args, **kwargs)\u001b[39m\n\u001b[32m    208\u001b[39m \u001b[38;5;28;01mdef\u001b[39;00m\u001b[38;5;250m \u001b[39m\u001b[34mget_trace\u001b[39m(\u001b[38;5;28mself\u001b[39m, *args, **kwargs) -> Trace:\n\u001b[32m    209\u001b[39m \u001b[38;5;250m    \u001b[39m\u001b[33;03m\"\"\"\u001b[39;00m\n\u001b[32m    210\u001b[39m \u001b[33;03m    :returns: data structure\u001b[39;00m\n\u001b[32m    211\u001b[39m \u001b[33;03m    :rtype: pyro.poutine.Trace\u001b[39;00m\n\u001b[32m   (...)\u001b[39m\u001b[32m    214\u001b[39m \u001b[33;03m    Calls this poutine and returns its trace instead of the function's return value.\u001b[39;00m\n\u001b[32m    215\u001b[39m \u001b[33;03m    \"\"\"\u001b[39;00m\n\u001b[32m--> \u001b[39m\u001b[32m216\u001b[39m     \u001b[38;5;28;43mself\u001b[39;49m\u001b[43m(\u001b[49m\u001b[43m*\u001b[49m\u001b[43margs\u001b[49m\u001b[43m,\u001b[49m\u001b[43m \u001b[49m\u001b[43m*\u001b[49m\u001b[43m*\u001b[49m\u001b[43mkwargs\u001b[49m\u001b[43m)\u001b[49m\n\u001b[32m    217\u001b[39m     \u001b[38;5;28;01mreturn\u001b[39;00m \u001b[38;5;28mself\u001b[39m.msngr.get_trace()\n",
      "\u001b[36mFile \u001b[39m\u001b[32m~/miniforge3/envs/resolvi-env/lib/python3.11/site-packages/pyro/poutine/trace_messenger.py:191\u001b[39m, in \u001b[36mTraceHandler.__call__\u001b[39m\u001b[34m(self, *args, **kwargs)\u001b[39m\n\u001b[32m    187\u001b[39m \u001b[38;5;28mself\u001b[39m.msngr.trace.add_node(\n\u001b[32m    188\u001b[39m     \u001b[33m\"\u001b[39m\u001b[33m_INPUT\u001b[39m\u001b[33m\"\u001b[39m, name=\u001b[33m\"\u001b[39m\u001b[33m_INPUT\u001b[39m\u001b[33m\"\u001b[39m, \u001b[38;5;28mtype\u001b[39m=\u001b[33m\"\u001b[39m\u001b[33margs\u001b[39m\u001b[33m\"\u001b[39m, args=args, kwargs=kwargs\n\u001b[32m    189\u001b[39m )\n\u001b[32m    190\u001b[39m \u001b[38;5;28;01mtry\u001b[39;00m:\n\u001b[32m--> \u001b[39m\u001b[32m191\u001b[39m     ret = \u001b[38;5;28;43mself\u001b[39;49m\u001b[43m.\u001b[49m\u001b[43mfn\u001b[49m\u001b[43m(\u001b[49m\u001b[43m*\u001b[49m\u001b[43margs\u001b[49m\u001b[43m,\u001b[49m\u001b[43m \u001b[49m\u001b[43m*\u001b[49m\u001b[43m*\u001b[49m\u001b[43mkwargs\u001b[49m\u001b[43m)\u001b[49m\n\u001b[32m    192\u001b[39m \u001b[38;5;28;01mexcept\u001b[39;00m (\u001b[38;5;167;01mValueError\u001b[39;00m, \u001b[38;5;167;01mRuntimeError\u001b[39;00m) \u001b[38;5;28;01mas\u001b[39;00m e:\n\u001b[32m    193\u001b[39m     exc_type, exc_value, traceback = sys.exc_info()\n",
      "\u001b[36mFile \u001b[39m\u001b[32m~/miniforge3/envs/resolvi-env/lib/python3.11/site-packages/pyro/poutine/messenger.py:32\u001b[39m, in \u001b[36m_context_wrap\u001b[39m\u001b[34m(context, fn, *args, **kwargs)\u001b[39m\n\u001b[32m     25\u001b[39m \u001b[38;5;28;01mdef\u001b[39;00m\u001b[38;5;250m \u001b[39m\u001b[34m_context_wrap\u001b[39m(\n\u001b[32m     26\u001b[39m     context: \u001b[33m\"\u001b[39m\u001b[33mMessenger\u001b[39m\u001b[33m\"\u001b[39m,\n\u001b[32m     27\u001b[39m     fn: Callable,\n\u001b[32m     28\u001b[39m     *args: Any,\n\u001b[32m     29\u001b[39m     **kwargs: Any,\n\u001b[32m     30\u001b[39m ) -> Any:\n\u001b[32m     31\u001b[39m     \u001b[38;5;28;01mwith\u001b[39;00m context:\n\u001b[32m---> \u001b[39m\u001b[32m32\u001b[39m         \u001b[38;5;28;01mreturn\u001b[39;00m \u001b[43mfn\u001b[49m\u001b[43m(\u001b[49m\u001b[43m*\u001b[49m\u001b[43margs\u001b[49m\u001b[43m,\u001b[49m\u001b[43m \u001b[49m\u001b[43m*\u001b[49m\u001b[43m*\u001b[49m\u001b[43mkwargs\u001b[49m\u001b[43m)\u001b[49m\n",
      "\u001b[36mFile \u001b[39m\u001b[32m~/miniforge3/envs/resolvi-env/lib/python3.11/site-packages/pyro/poutine/messenger.py:32\u001b[39m, in \u001b[36m_context_wrap\u001b[39m\u001b[34m(context, fn, *args, **kwargs)\u001b[39m\n\u001b[32m     25\u001b[39m \u001b[38;5;28;01mdef\u001b[39;00m\u001b[38;5;250m \u001b[39m\u001b[34m_context_wrap\u001b[39m(\n\u001b[32m     26\u001b[39m     context: \u001b[33m\"\u001b[39m\u001b[33mMessenger\u001b[39m\u001b[33m\"\u001b[39m,\n\u001b[32m     27\u001b[39m     fn: Callable,\n\u001b[32m     28\u001b[39m     *args: Any,\n\u001b[32m     29\u001b[39m     **kwargs: Any,\n\u001b[32m     30\u001b[39m ) -> Any:\n\u001b[32m     31\u001b[39m     \u001b[38;5;28;01mwith\u001b[39;00m context:\n\u001b[32m---> \u001b[39m\u001b[32m32\u001b[39m         \u001b[38;5;28;01mreturn\u001b[39;00m \u001b[43mfn\u001b[49m\u001b[43m(\u001b[49m\u001b[43m*\u001b[49m\u001b[43margs\u001b[49m\u001b[43m,\u001b[49m\u001b[43m \u001b[49m\u001b[43m*\u001b[49m\u001b[43m*\u001b[49m\u001b[43mkwargs\u001b[49m\u001b[43m)\u001b[49m\n",
      "\u001b[36mFile \u001b[39m\u001b[32m~/miniforge3/envs/resolvi-env/lib/python3.11/site-packages/pyro/nn/module.py:520\u001b[39m, in \u001b[36mPyroModule.__call__\u001b[39m\u001b[34m(self, *args, **kwargs)\u001b[39m\n\u001b[32m    518\u001b[39m \u001b[38;5;28;01mdef\u001b[39;00m\u001b[38;5;250m \u001b[39m\u001b[34m__call__\u001b[39m(\u001b[38;5;28mself\u001b[39m, *args: Any, **kwargs: Any) -> Any:\n\u001b[32m    519\u001b[39m     \u001b[38;5;28;01mwith\u001b[39;00m \u001b[38;5;28mself\u001b[39m._pyro_context:\n\u001b[32m--> \u001b[39m\u001b[32m520\u001b[39m         result = \u001b[38;5;28;43msuper\u001b[39;49m\u001b[43m(\u001b[49m\u001b[43m)\u001b[49m\u001b[43m.\u001b[49m\u001b[34;43m__call__\u001b[39;49m\u001b[43m(\u001b[49m\u001b[43m*\u001b[49m\u001b[43margs\u001b[49m\u001b[43m,\u001b[49m\u001b[43m \u001b[49m\u001b[43m*\u001b[49m\u001b[43m*\u001b[49m\u001b[43mkwargs\u001b[49m\u001b[43m)\u001b[49m\n\u001b[32m    521\u001b[39m     \u001b[38;5;28;01mif\u001b[39;00m (\n\u001b[32m    522\u001b[39m         pyro.settings.get(\u001b[33m\"\u001b[39m\u001b[33mvalidate_poutine\u001b[39m\u001b[33m\"\u001b[39m)\n\u001b[32m    523\u001b[39m         \u001b[38;5;129;01mand\u001b[39;00m \u001b[38;5;129;01mnot\u001b[39;00m \u001b[38;5;28mself\u001b[39m._pyro_context.active\n\u001b[32m    524\u001b[39m         \u001b[38;5;129;01mand\u001b[39;00m _is_module_local_param_enabled()\n\u001b[32m    525\u001b[39m     ):\n\u001b[32m    526\u001b[39m         \u001b[38;5;28mself\u001b[39m._check_module_local_param_usage()\n",
      "\u001b[36mFile \u001b[39m\u001b[32m~/miniforge3/envs/resolvi-env/lib/python3.11/site-packages/torch/nn/modules/module.py:1751\u001b[39m, in \u001b[36mModule._wrapped_call_impl\u001b[39m\u001b[34m(self, *args, **kwargs)\u001b[39m\n\u001b[32m   1749\u001b[39m     \u001b[38;5;28;01mreturn\u001b[39;00m \u001b[38;5;28mself\u001b[39m._compiled_call_impl(*args, **kwargs)  \u001b[38;5;66;03m# type: ignore[misc]\u001b[39;00m\n\u001b[32m   1750\u001b[39m \u001b[38;5;28;01melse\u001b[39;00m:\n\u001b[32m-> \u001b[39m\u001b[32m1751\u001b[39m     \u001b[38;5;28;01mreturn\u001b[39;00m \u001b[38;5;28;43mself\u001b[39;49m\u001b[43m.\u001b[49m\u001b[43m_call_impl\u001b[49m\u001b[43m(\u001b[49m\u001b[43m*\u001b[49m\u001b[43margs\u001b[49m\u001b[43m,\u001b[49m\u001b[43m \u001b[49m\u001b[43m*\u001b[49m\u001b[43m*\u001b[49m\u001b[43mkwargs\u001b[49m\u001b[43m)\u001b[49m\n",
      "\u001b[36mFile \u001b[39m\u001b[32m~/miniforge3/envs/resolvi-env/lib/python3.11/site-packages/torch/nn/modules/module.py:1762\u001b[39m, in \u001b[36mModule._call_impl\u001b[39m\u001b[34m(self, *args, **kwargs)\u001b[39m\n\u001b[32m   1757\u001b[39m \u001b[38;5;66;03m# If we don't have any hooks, we want to skip the rest of the logic in\u001b[39;00m\n\u001b[32m   1758\u001b[39m \u001b[38;5;66;03m# this function, and just call forward.\u001b[39;00m\n\u001b[32m   1759\u001b[39m \u001b[38;5;28;01mif\u001b[39;00m \u001b[38;5;129;01mnot\u001b[39;00m (\u001b[38;5;28mself\u001b[39m._backward_hooks \u001b[38;5;129;01mor\u001b[39;00m \u001b[38;5;28mself\u001b[39m._backward_pre_hooks \u001b[38;5;129;01mor\u001b[39;00m \u001b[38;5;28mself\u001b[39m._forward_hooks \u001b[38;5;129;01mor\u001b[39;00m \u001b[38;5;28mself\u001b[39m._forward_pre_hooks\n\u001b[32m   1760\u001b[39m         \u001b[38;5;129;01mor\u001b[39;00m _global_backward_pre_hooks \u001b[38;5;129;01mor\u001b[39;00m _global_backward_hooks\n\u001b[32m   1761\u001b[39m         \u001b[38;5;129;01mor\u001b[39;00m _global_forward_hooks \u001b[38;5;129;01mor\u001b[39;00m _global_forward_pre_hooks):\n\u001b[32m-> \u001b[39m\u001b[32m1762\u001b[39m     \u001b[38;5;28;01mreturn\u001b[39;00m \u001b[43mforward_call\u001b[49m\u001b[43m(\u001b[49m\u001b[43m*\u001b[49m\u001b[43margs\u001b[49m\u001b[43m,\u001b[49m\u001b[43m \u001b[49m\u001b[43m*\u001b[49m\u001b[43m*\u001b[49m\u001b[43mkwargs\u001b[49m\u001b[43m)\u001b[49m\n\u001b[32m   1764\u001b[39m result = \u001b[38;5;28;01mNone\u001b[39;00m\n\u001b[32m   1765\u001b[39m called_always_called_hooks = \u001b[38;5;28mset\u001b[39m()\n",
      "\u001b[36mFile \u001b[39m\u001b[32m~/Desktop/scvi-spatial/src/scvi/module/base/_decorators.py:32\u001b[39m, in \u001b[36mauto_move_data.<locals>.auto_transfer_args\u001b[39m\u001b[34m(self, *args, **kwargs)\u001b[39m\n\u001b[32m     30\u001b[39m \u001b[38;5;66;03m# decorator only necessary after training\u001b[39;00m\n\u001b[32m     31\u001b[39m \u001b[38;5;28;01mif\u001b[39;00m \u001b[38;5;28mself\u001b[39m.training:\n\u001b[32m---> \u001b[39m\u001b[32m32\u001b[39m     \u001b[38;5;28;01mreturn\u001b[39;00m \u001b[43mfn\u001b[49m\u001b[43m(\u001b[49m\u001b[38;5;28;43mself\u001b[39;49m\u001b[43m,\u001b[49m\u001b[43m \u001b[49m\u001b[43m*\u001b[49m\u001b[43margs\u001b[49m\u001b[43m,\u001b[49m\u001b[43m \u001b[49m\u001b[43m*\u001b[49m\u001b[43m*\u001b[49m\u001b[43mkwargs\u001b[49m\u001b[43m)\u001b[49m\n\u001b[32m     34\u001b[39m device = \u001b[38;5;28mlist\u001b[39m({p.device \u001b[38;5;28;01mfor\u001b[39;00m p \u001b[38;5;129;01min\u001b[39;00m \u001b[38;5;28mself\u001b[39m.parameters()})\n\u001b[32m     35\u001b[39m \u001b[38;5;28;01mif\u001b[39;00m \u001b[38;5;28mlen\u001b[39m(device) > \u001b[32m1\u001b[39m:\n",
      "\u001b[36mFile \u001b[39m\u001b[32m~/Desktop/scvi-spatial/src/scvi/external/resolvi/_module.py:821\u001b[39m, in \u001b[36mRESOLVAEModel.forward\u001b[39m\u001b[34m(self, x, ind_x, library, y, batch_index, cat_covs, perturbation_data, x_n, distances_n, spatial_coords, n_obs, kl_weight)\u001b[39m\n\u001b[32m    818\u001b[39m \u001b[38;5;250m\u001b[39m\u001b[33;03m\"\"\"Forward pass.\"\"\"\u001b[39;00m\n\u001b[32m    819\u001b[39m \u001b[38;5;66;03m# Pass spatial_coords directly to model_unconditioned where spatial processing happens\u001b[39;00m\n\u001b[32m    820\u001b[39m \u001b[38;5;66;03m# The spatial encoder will be called within model_unconditioned where it's actually used\u001b[39;00m\n\u001b[32m--> \u001b[39m\u001b[32m821\u001b[39m \u001b[43mpyro\u001b[49m\u001b[43m.\u001b[49m\u001b[43mcondition\u001b[49m\u001b[43m(\u001b[49m\u001b[38;5;28;43mself\u001b[39;49m\u001b[43m.\u001b[49m\u001b[43mmodel_unconditioned\u001b[49m\u001b[43m,\u001b[49m\u001b[43m \u001b[49m\u001b[43mdata\u001b[49m\u001b[43m=\u001b[49m\u001b[43m{\u001b[49m\u001b[33;43m\"\u001b[39;49m\u001b[33;43mobs\u001b[39;49m\u001b[33;43m\"\u001b[39;49m\u001b[43m:\u001b[49m\u001b[43m \u001b[49m\u001b[43mx\u001b[49m\u001b[43m}\u001b[49m\u001b[43m)\u001b[49m\u001b[43m(\u001b[49m\n\u001b[32m    822\u001b[39m \u001b[43m    \u001b[49m\u001b[43mx\u001b[49m\u001b[43m,\u001b[49m\u001b[43m \u001b[49m\u001b[43mind_x\u001b[49m\u001b[43m,\u001b[49m\u001b[43m \u001b[49m\u001b[43mlibrary\u001b[49m\u001b[43m,\u001b[49m\u001b[43m \u001b[49m\u001b[43my\u001b[49m\u001b[43m,\u001b[49m\u001b[43m \u001b[49m\u001b[43mbatch_index\u001b[49m\u001b[43m,\u001b[49m\u001b[43m \u001b[49m\u001b[43mcat_covs\u001b[49m\u001b[43m,\u001b[49m\u001b[43m \u001b[49m\u001b[43mperturbation_data\u001b[49m\u001b[43m,\u001b[49m\u001b[43m \u001b[49m\u001b[43mx_n\u001b[49m\u001b[43m,\u001b[49m\u001b[43m \u001b[49m\u001b[43mdistances_n\u001b[49m\u001b[43m,\u001b[49m\u001b[43m \u001b[49m\u001b[43mspatial_coords\u001b[49m\u001b[43m,\u001b[49m\u001b[43m \u001b[49m\u001b[43mn_obs\u001b[49m\u001b[43m,\u001b[49m\u001b[43m \u001b[49m\u001b[43mkl_weight\u001b[49m\n\u001b[32m    823\u001b[39m \u001b[43m\u001b[49m\u001b[43m)\u001b[49m\n",
      "\u001b[36mFile \u001b[39m\u001b[32m~/miniforge3/envs/resolvi-env/lib/python3.11/site-packages/pyro/poutine/messenger.py:32\u001b[39m, in \u001b[36m_context_wrap\u001b[39m\u001b[34m(context, fn, *args, **kwargs)\u001b[39m\n\u001b[32m     25\u001b[39m \u001b[38;5;28;01mdef\u001b[39;00m\u001b[38;5;250m \u001b[39m\u001b[34m_context_wrap\u001b[39m(\n\u001b[32m     26\u001b[39m     context: \u001b[33m\"\u001b[39m\u001b[33mMessenger\u001b[39m\u001b[33m\"\u001b[39m,\n\u001b[32m     27\u001b[39m     fn: Callable,\n\u001b[32m     28\u001b[39m     *args: Any,\n\u001b[32m     29\u001b[39m     **kwargs: Any,\n\u001b[32m     30\u001b[39m ) -> Any:\n\u001b[32m     31\u001b[39m     \u001b[38;5;28;01mwith\u001b[39;00m context:\n\u001b[32m---> \u001b[39m\u001b[32m32\u001b[39m         \u001b[38;5;28;01mreturn\u001b[39;00m \u001b[43mfn\u001b[49m\u001b[43m(\u001b[49m\u001b[43m*\u001b[49m\u001b[43margs\u001b[49m\u001b[43m,\u001b[49m\u001b[43m \u001b[49m\u001b[43m*\u001b[49m\u001b[43m*\u001b[49m\u001b[43mkwargs\u001b[49m\u001b[43m)\u001b[49m\n",
      "\u001b[36mFile \u001b[39m\u001b[32m~/Desktop/scvi-spatial/src/scvi/module/base/_decorators.py:32\u001b[39m, in \u001b[36mauto_move_data.<locals>.auto_transfer_args\u001b[39m\u001b[34m(self, *args, **kwargs)\u001b[39m\n\u001b[32m     30\u001b[39m \u001b[38;5;66;03m# decorator only necessary after training\u001b[39;00m\n\u001b[32m     31\u001b[39m \u001b[38;5;28;01mif\u001b[39;00m \u001b[38;5;28mself\u001b[39m.training:\n\u001b[32m---> \u001b[39m\u001b[32m32\u001b[39m     \u001b[38;5;28;01mreturn\u001b[39;00m \u001b[43mfn\u001b[49m\u001b[43m(\u001b[49m\u001b[38;5;28;43mself\u001b[39;49m\u001b[43m,\u001b[49m\u001b[43m \u001b[49m\u001b[43m*\u001b[49m\u001b[43margs\u001b[49m\u001b[43m,\u001b[49m\u001b[43m \u001b[49m\u001b[43m*\u001b[49m\u001b[43m*\u001b[49m\u001b[43mkwargs\u001b[49m\u001b[43m)\u001b[49m\n\u001b[32m     34\u001b[39m device = \u001b[38;5;28mlist\u001b[39m({p.device \u001b[38;5;28;01mfor\u001b[39;00m p \u001b[38;5;129;01min\u001b[39;00m \u001b[38;5;28mself\u001b[39m.parameters()})\n\u001b[32m     35\u001b[39m \u001b[38;5;28;01mif\u001b[39;00m \u001b[38;5;28mlen\u001b[39m(device) > \u001b[32m1\u001b[39m:\n",
      "\u001b[36mFile \u001b[39m\u001b[32m~/Desktop/scvi-spatial/src/scvi/external/resolvi/_module.py:530\u001b[39m, in \u001b[36mRESOLVAEModel.model_unconditioned\u001b[39m\u001b[34m(self, x, ind_x, library, y, batch_index, cat_covs, perturbation_data, x_n, distances_n, spatial_coords, n_obs, kl_weight)\u001b[39m\n\u001b[32m    517\u001b[39m background_mixture_proportion = pyro.deterministic(\n\u001b[32m    518\u001b[39m     \u001b[33m\"\u001b[39m\u001b[33mbackground_mixture_proportion\u001b[39m\u001b[33m\"\u001b[39m, mixture_proportions[..., \u001b[32m2\u001b[39m]\n\u001b[32m    519\u001b[39m )\n\u001b[32m    521\u001b[39m v = pyro.deterministic(\n\u001b[32m    522\u001b[39m     \u001b[33m\"\u001b[39m\u001b[33mdiffusion_proportion_per_neighbor\u001b[39m\u001b[33m\"\u001b[39m,\n\u001b[32m    523\u001b[39m     per_neighbor_diffusion * diffusion_mixture_proportion.unsqueeze(-\u001b[32m1\u001b[39m),\n\u001b[32m    524\u001b[39m     event_dim=\u001b[32m1\u001b[39m,\n\u001b[32m    525\u001b[39m )\n\u001b[32m    527\u001b[39m background = pyro.deterministic(\n\u001b[32m    528\u001b[39m     \u001b[33m\"\u001b[39m\u001b[33mbackground\u001b[39m\u001b[33m\"\u001b[39m,\n\u001b[32m    529\u001b[39m     background_mixture_proportion.unsqueeze(-\u001b[32m1\u001b[39m)\n\u001b[32m--> \u001b[39m\u001b[32m530\u001b[39m     * \u001b[43mtorch\u001b[49m\u001b[43m.\u001b[49m\u001b[43mexp\u001b[49m\u001b[43m(\u001b[49m\u001b[43mlibrary\u001b[49m\u001b[43m)\u001b[49m\n\u001b[32m    531\u001b[39m     * torch.matmul(\n\u001b[32m    532\u001b[39m         torch.nn.functional.one_hot(batch_index.flatten(), \u001b[38;5;28mself\u001b[39m.n_batch).float(),\n\u001b[32m    533\u001b[39m         per_gene_background,\n\u001b[32m    534\u001b[39m     ),\n\u001b[32m    535\u001b[39m     event_dim=\u001b[32m1\u001b[39m,\n\u001b[32m    536\u001b[39m )\n\u001b[32m    538\u001b[39m \u001b[38;5;28;01mif\u001b[39;00m \u001b[38;5;28mself\u001b[39m.semisupervised:\n\u001b[32m    539\u001b[39m     \u001b[38;5;66;03m# Get the actual mixture_k from the registered buffers\u001b[39;00m\n\u001b[32m    540\u001b[39m     current_mixture_k = u_prior_logits.shape[\u001b[32m0\u001b[39m]\n",
      "\u001b[31mTypeError\u001b[39m: exp(): argument 'input' (position 1) must be Tensor, not NoneType"
     ]
    }
   ],
   "source": [
    "# Train with perturbation focus (following your methodology)\n",
    "import torch\n",
    "torch.autograd.set_detect_anomaly(True)\n",
    "\n",
    "print(\"Starting training with spatial integration...\")\n",
    "spatial_resolvi.train(\n",
    "    max_epochs=100,\n",
    "    check_val_every_n_epoch=100,\n",
    "    lr=3e-4,       # Following your parameters\n",
    "    train_on_perturbed_only=True  # Following your methodology\n",
    ")"
   ]
  }
 ],
 "metadata": {
  "kernelspec": {
   "display_name": "resolvi-env",
   "language": "python",
   "name": "python3"
  },
  "language_info": {
   "codemirror_mode": {
    "name": "ipython",
    "version": 3
   },
   "file_extension": ".py",
   "mimetype": "text/x-python",
   "name": "python",
   "nbconvert_exporter": "python",
   "pygments_lexer": "ipython3",
   "version": "3.11.12"
  }
 },
 "nbformat": 4,
 "nbformat_minor": 5
}
