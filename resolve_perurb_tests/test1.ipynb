{
 "cells": [
  {
   "cell_type": "code",
   "execution_count": 1,
   "metadata": {},
   "outputs": [],
   "source": [
    "import os\n",
    "import tempfile\n",
    "import matplotlib.pyplot as plt\n",
    "import numpy as np\n",
    "import scanpy as sc\n",
    "import pandas as pd\n",
    "import seaborn as sns\n",
    "from scipy.spatial import distance_matrix\n"
   ]
  },
  {
   "cell_type": "code",
   "execution_count": 2,
   "metadata": {},
   "outputs": [],
   "source": [
    "path_to_query_adata = \"/mnt/sata2/Analysis_Alex_2/perturb4_no_baysor/final_object_corrected.h5ad\"\n",
    "query_adata = sc.read(path_to_query_adata)"
   ]
  },
  {
   "cell_type": "code",
   "execution_count": 2,
   "metadata": {},
   "outputs": [
    {
     "name": "stdout",
     "output_type": "stream",
     "text": [
      "Added to path: /home/amonell/piloting/scvi-tools/src\n",
      "Importing from: /home/amonell/piloting/scvi-tools/src/scvi/external/resolvi/__init__.py\n"
     ]
    }
   ],
   "source": [
    "import sys\n",
    "sys.path.insert(0, '/home/amonell/piloting/scvi-tools/src')\n",
    "print(\"Added to path:\", sys.path[0])\n",
    "\n",
    "import scvi.external.resolvi as RESOLVI\n",
    "import scvi\n",
    "print(\"Importing from:\", scvi.external.resolvi.__file__)"
   ]
  },
  {
   "cell_type": "code",
   "execution_count": 4,
   "metadata": {},
   "outputs": [],
   "source": [
    "#sc.pp.subsample(query_adata, fraction=0.1)"
   ]
  },
  {
   "cell_type": "code",
   "execution_count": 5,
   "metadata": {},
   "outputs": [
    {
     "data": {
      "text/plain": [
       "AnnData object with n_obs × n_vars = 810225 × 480\n",
       "    obs: 'x_centroid', 'y_centroid', 'transcript_counts', 'control_probe_counts', 'genomic_control_counts', 'control_codeword_counts', 'unassigned_codeword_counts', 'deprecated_codeword_counts', 'total_counts', 'cell_area', 'nucleus_area', 'nucleus_count', 'segmentation_method', 'total_transcripts', 'nuclear_transcripts', 'cytoplasmic_transcripts', 'nuclear_transcript_percentage', 'topic', 'batch', '_scvi_batch', '_scvi_labels', 'leiden', 'Class', 'reference_crypt_villi', 'villi_number', 'peyers', 'Topic 1', 'Topic 2', 'Topic 3', 'Topic 4', 'Topic 5', 'Topic 6', 'Topic 7', 'Topic 8', 'Topic 9', 'Topic 10', 'Topic 11', 'Topic 12', 'Topic 13', 'Topic 14', 'Topic 15', 'crypt_villi_axis', 'epithelial_distance', 'epithelial_distance_clipped', 'epithelial_distance_transformed', 'guide_rnas', 'cell_types', 'cluster_cellcharter', 'epithelial_distance_scaled'\n",
       "    uns: '_cellcharter', '_scvi_manager_uuid', '_scvi_uuid', 'cluster_cellcharter_colors', 'filtering_downsize', 'leiden', 'leiden_colors', 'neighbors', 'spatial_neighbors', 'topic_colors'\n",
       "    obsm: 'X_cellcharter', 'X_mde', 'X_pca', 'X_scVI_replicates', 'X_spatial'\n",
       "    layers: 'raw'\n",
       "    obsp: 'spatial_connectivities', 'spatial_distances'"
      ]
     },
     "execution_count": 5,
     "metadata": {},
     "output_type": "execute_result"
    }
   ],
   "source": [
    "query_adata"
   ]
  },
  {
   "cell_type": "code",
   "execution_count": 6,
   "metadata": {},
   "outputs": [
    {
     "name": "stderr",
     "output_type": "stream",
     "text": [
      "/home/amonell/mambaforge/envs/resolVI/lib/python3.11/site-packages/numba/np/ufunc/parallel.py:371: NumbaWarning: \u001b[1mThe TBB threading layer requires TBB version 2021 update 6 or later i.e., TBB_INTERFACE_VERSION >= 12060. Found TBB_INTERFACE_VERSION = 12050. The TBB threading layer is disabled.\u001b[0m\n",
      "  warnings.warn(problem)\n"
     ]
    },
    {
     "name": "stdout",
     "output_type": "stream",
     "text": [
      "\u001b[34mINFO    \u001b[0m Generating sequential column names                                                                        \n",
      "\u001b[34mINFO    \u001b[0m Generating sequential column names                                                                        \n"
     ]
    },
    {
     "name": "stderr",
     "output_type": "stream",
     "text": [
      "/home/amonell/piloting/scvi-tools/src/scvi/data/fields/_dataframe_field.py:187: UserWarning: Category 0 in adata.obs['_scvi_ind_x'] has fewer than 3 cells. Models may not train properly.\n",
      "  categorical_mapping = _make_column_categorical(\n"
     ]
    }
   ],
   "source": [
    "RESOLVI.RESOLVI.setup_anndata(query_adata, labels_key=\"cell_types\", layer=\"raw\", batch_key=\"batch\", perturbation_key='guide_rnas', control_perturbation='Other cells')"
   ]
  },
  {
   "cell_type": "code",
   "execution_count": 7,
   "metadata": {},
   "outputs": [],
   "source": [
    "supervised_resolvi = RESOLVI.RESOLVI(\n",
    "    query_adata, semisupervised=True\n",
    ")"
   ]
  },
  {
   "cell_type": "code",
   "execution_count": 8,
   "metadata": {},
   "outputs": [
    {
     "name": "stdout",
     "output_type": "stream",
     "text": [
      "{'background_ratio': 0.00067531277, 'median_distance': 372.9849853515625, 'mean_log_counts': 5.433722, 'std_log_counts': 0.8109416}\n"
     ]
    }
   ],
   "source": [
    "\n",
    "\n",
    "priors = supervised_resolvi.compute_dataset_dependent_priors()\n",
    "print(priors)\n"
   ]
  },
  {
   "cell_type": "code",
   "execution_count": 9,
   "metadata": {},
   "outputs": [
    {
     "name": "stderr",
     "output_type": "stream",
     "text": [
      "GPU available: True (cuda), used: True\n",
      "TPU available: False, using: 0 TPU cores\n",
      "HPU available: False, using: 0 HPUs\n",
      "/home/amonell/mambaforge/envs/resolVI/lib/python3.11/site-packages/lightning/pytorch/trainer/configuration_validator.py:68: You passed in a `val_dataloader` but have no `validation_step`. Skipping val loop.\n",
      "You are using a CUDA device ('NVIDIA RTX A6000') that has Tensor Cores. To properly utilize them, you should set `torch.set_float32_matmul_precision('medium' | 'high')` which will trade-off precision for performance. For more details, read https://pytorch.org/docs/stable/generated/torch.set_float32_matmul_precision.html#torch.set_float32_matmul_precision\n",
      "LOCAL_RANK: 0 - CUDA_VISIBLE_DEVICES: [0]\n",
      "/home/amonell/mambaforge/envs/resolVI/lib/python3.11/site-packages/lightning/pytorch/trainer/connectors/data_connector.py:425: The 'train_dataloader' does not have many workers which may be a bottleneck. Consider increasing the value of the `num_workers` argument` to `num_workers=127` in the `DataLoader` to improve performance.\n"
     ]
    },
    {
     "data": {
      "application/vnd.jupyter.widget-view+json": {
       "model_id": "ae63095945bf4faba8d6b4b1299be1cf",
       "version_major": 2,
       "version_minor": 0
      },
      "text/plain": [
       "Training:   0%|          | 0/100 [00:00<?, ?it/s]"
      ]
     },
     "metadata": {},
     "output_type": "display_data"
    },
    {
     "name": "stderr",
     "output_type": "stream",
     "text": [
      "`Trainer.fit` stopped: `max_epochs=100` reached.\n"
     ]
    }
   ],
   "source": [
    "supervised_resolvi.module.guide.downsample_counts_mean = float(\n",
    "    supervised_resolvi.module.guide.downsample_counts_mean\n",
    ")\n",
    "supervised_resolvi.module.guide.downsample_counts_std = float(\n",
    "    supervised_resolvi.module.guide.downsample_counts_std\n",
    ")\n",
    "supervised_resolvi.train(\n",
    "    max_epochs=100,\n",
    "    check_val_every_n_epoch=1,\n",
    "    lr=3e-4\n",
    ")"
   ]
  },
  {
   "cell_type": "code",
   "execution_count": 83,
   "metadata": {},
   "outputs": [],
   "source": [
    "supervised_resolvi.save('perturb_model.model')"
   ]
  },
  {
   "cell_type": "code",
   "execution_count": 84,
   "metadata": {},
   "outputs": [],
   "source": [
    "query_adata.write('perturb_model.model/query_adata.h5ad')"
   ]
  },
  {
   "cell_type": "code",
   "execution_count": 3,
   "metadata": {},
   "outputs": [],
   "source": [
    "query_adata =  sc.read('perturb_model.model/query_adata.h5ad')"
   ]
  },
  {
   "cell_type": "code",
   "execution_count": 4,
   "metadata": {},
   "outputs": [
    {
     "name": "stdout",
     "output_type": "stream",
     "text": [
      "\u001b[34mINFO    \u001b[0m File perturb_model.model/model.pt already downloaded                                                      \n"
     ]
    },
    {
     "name": "stderr",
     "output_type": "stream",
     "text": [
      "/home/amonell/mambaforge/envs/resolVI/lib/python3.11/site-packages/numba/np/ufunc/parallel.py:371: NumbaWarning: \u001b[1mThe TBB threading layer requires TBB version 2021 update 6 or later i.e., TBB_INTERFACE_VERSION >= 12060. Found TBB_INTERFACE_VERSION = 12050. The TBB threading layer is disabled.\u001b[0m\n",
      "  warnings.warn(problem)\n",
      "/home/amonell/piloting/scvi-tools/src/scvi/data/fields/_dataframe_field.py:227: UserWarning: Category 0 in adata.obs['_scvi_ind_x'] has fewer than 3 cells. Models may not train properly.\n",
      "  new_mapping = _make_column_categorical(\n",
      "GPU available: True (cuda), used: True\n",
      "TPU available: False, using: 0 TPU cores\n",
      "HPU available: False, using: 0 HPUs\n",
      "/home/amonell/mambaforge/envs/resolVI/lib/python3.11/site-packages/lightning/pytorch/trainer/configuration_validator.py:68: You passed in a `val_dataloader` but have no `validation_step`. Skipping val loop.\n",
      "You are using a CUDA device ('NVIDIA RTX A6000') that has Tensor Cores. To properly utilize them, you should set `torch.set_float32_matmul_precision('medium' | 'high')` which will trade-off precision for performance. For more details, read https://pytorch.org/docs/stable/generated/torch.set_float32_matmul_precision.html#torch.set_float32_matmul_precision\n",
      "LOCAL_RANK: 0 - CUDA_VISIBLE_DEVICES: [0]\n",
      "/home/amonell/mambaforge/envs/resolVI/lib/python3.11/site-packages/lightning/pytorch/trainer/connectors/data_connector.py:425: The 'train_dataloader' does not have many workers which may be a bottleneck. Consider increasing the value of the `num_workers` argument` to `num_workers=127` in the `DataLoader` to improve performance.\n"
     ]
    },
    {
     "data": {
      "application/vnd.jupyter.widget-view+json": {
       "model_id": "144b9c9b7fcd497a932a095cd8d688d3",
       "version_major": 2,
       "version_minor": 0
      },
      "text/plain": [
       "Training:   0%|          | 0/50 [00:00<?, ?it/s]"
      ]
     },
     "metadata": {},
     "output_type": "display_data"
    },
    {
     "name": "stderr",
     "output_type": "stream",
     "text": [
      "`Trainer.fit` stopped: `max_steps=1` reached.\n"
     ]
    }
   ],
   "source": [
    "supervised_resolvi = RESOLVI.RESOLVI.load('perturb_model.model',query_adata)"
   ]
  },
  {
   "cell_type": "code",
   "execution_count": 5,
   "metadata": {},
   "outputs": [],
   "source": [
    "celltype = 'CD8 T Cells'"
   ]
  },
  {
   "cell_type": "code",
   "execution_count": 6,
   "metadata": {},
   "outputs": [
    {
     "data": {
      "application/vnd.jupyter.widget-view+json": {
       "model_id": "3e8c8ddeb7584a808c264bff20edd3fb",
       "version_major": 2,
       "version_minor": 0
      },
      "text/plain": [
       "Processing 4 batches (≈14 perturbations × 50 samples each):   0%|          | 0/4 [00:00<?, ?it/s]"
      ]
     },
     "metadata": {},
     "output_type": "display_data"
    },
    {
     "data": {
      "application/vnd.jupyter.widget-view+json": {
       "model_id": "e90c96aabb4c4febacf26244c4a047c8",
       "version_major": 2,
       "version_minor": 0
      },
      "text/plain": [
       "Batch 1/4: Running 13 perturbations (50 samples each):   0%|          | 0/13 [00:00<?, ?it/s]"
      ]
     },
     "metadata": {},
     "output_type": "display_data"
    },
    {
     "data": {
      "application/vnd.jupyter.widget-view+json": {
       "model_id": "3558895dd64648ea914f04ee76ece1fa",
       "version_major": 2,
       "version_minor": 0
      },
      "text/plain": [
       "Batch 2/4: Running 13 perturbations (50 samples each):   0%|          | 0/13 [00:00<?, ?it/s]"
      ]
     },
     "metadata": {},
     "output_type": "display_data"
    },
    {
     "data": {
      "application/vnd.jupyter.widget-view+json": {
       "model_id": "dc99929e15f44cc0b7a2b9099daf4fba",
       "version_major": 2,
       "version_minor": 0
      },
      "text/plain": [
       "Batch 3/4: Running 13 perturbations (50 samples each):   0%|          | 0/13 [00:00<?, ?it/s]"
      ]
     },
     "metadata": {},
     "output_type": "display_data"
    },
    {
     "data": {
      "application/vnd.jupyter.widget-view+json": {
       "model_id": "16c1c0cc169b4aa1adaf06c6906fa862",
       "version_major": 2,
       "version_minor": 0
      },
      "text/plain": [
       "Batch 4/4: Running 13 perturbations (50 samples each):   0%|          | 0/13 [00:00<?, ?it/s]"
      ]
     },
     "metadata": {},
     "output_type": "display_data"
    },
    {
     "data": {
      "application/vnd.jupyter.widget-view+json": {
       "model_id": "9d2ed5f08ab141e4b9a5bcbccfa47d0b",
       "version_major": 2,
       "version_minor": 0
      },
      "text/plain": [
       "Computing uncertainty metrics (3 metrics for 13 perturbations × 480 genes):   0%|          | 0/3 [00:00<?, ?it…"
      ]
     },
     "metadata": {},
     "output_type": "display_data"
    }
   ],
   "source": [
    "cell_indices = np.where(query_adata.obs['guide_rnas'] == 'sgCd19')[0]\n",
    "effects_cells = supervised_resolvi.get_perturbation_effects(\n",
    "    indices=cell_indices,\n",
    "    n_samples=50,\n",
    "    preserve_cell_heterogeneity=True,  # Enable new approach\n",
    "    cell_summary_fn=\"median\",           # Robust to outliers\n",
    "    return_uncertainty=True,\n",
    "    uncertainty_metrics=[\"std\", \"ci_95\", \"prob_significant\"]\n",
    ")"
   ]
  },
  {
   "cell_type": "code",
   "execution_count": 7,
   "metadata": {},
   "outputs": [],
   "source": [
    "effects = effects_cells[\"effects\"]\n",
    "uncertainty = effects_cells[\"uncertainty\"]"
   ]
  },
  {
   "cell_type": "code",
   "execution_count": 8,
   "metadata": {},
   "outputs": [],
   "source": [
    "df = pd.DataFrame(list(zip(query_adata.obs['guide_rnas'].values, query_adata.obsm['_scvi_extra_categorical_covs']['guide_rnas'].values)), columns = ['celltype', 'perturb_number'])\n",
    "celltype_to_perturb_number = dict(zip(df['perturb_number'], df['celltype']))\n",
    "\n",
    "celltype_to_perturb_number = {f'perturbation_{k}': v for k, v in celltype_to_perturb_number.items()}\n"
   ]
  },
  {
   "cell_type": "markdown",
   "metadata": {},
   "source": [
    "check with not just sgCD19 cells to see if the effects are correct per perturbation"
   ]
  },
  {
   "cell_type": "code",
   "execution_count": 9,
   "metadata": {},
   "outputs": [],
   "source": [
    "effects.index = effects.index.map(celltype_to_perturb_number)"
   ]
  },
  {
   "cell_type": "code",
   "execution_count": 10,
   "metadata": {},
   "outputs": [
    {
     "data": {
      "application/vnd.jupyter.widget-view+json": {
       "model_id": "539f4feb65444d1f95eba37b4d4ab46b",
       "version_major": 2,
       "version_minor": 0
      },
      "text/plain": [
       "Processing 4 batches (≈14 perturbations × 50 samples each):   0%|          | 0/4 [00:00<?, ?it/s]"
      ]
     },
     "metadata": {},
     "output_type": "display_data"
    },
    {
     "data": {
      "application/vnd.jupyter.widget-view+json": {
       "model_id": "202ea969936d4525b632d10d20448a77",
       "version_major": 2,
       "version_minor": 0
      },
      "text/plain": [
       "Batch 1/4: Running 13 perturbations (50 samples each):   0%|          | 0/13 [00:00<?, ?it/s]"
      ]
     },
     "metadata": {},
     "output_type": "display_data"
    },
    {
     "data": {
      "application/vnd.jupyter.widget-view+json": {
       "model_id": "e03b2ae068ba43a3bacbee0d005ed03c",
       "version_major": 2,
       "version_minor": 0
      },
      "text/plain": [
       "Batch 2/4: Running 13 perturbations (50 samples each):   0%|          | 0/13 [00:00<?, ?it/s]"
      ]
     },
     "metadata": {},
     "output_type": "display_data"
    },
    {
     "data": {
      "application/vnd.jupyter.widget-view+json": {
       "model_id": "687a52cfc39542db943d0becfb9f6196",
       "version_major": 2,
       "version_minor": 0
      },
      "text/plain": [
       "Batch 3/4: Running 13 perturbations (50 samples each):   0%|          | 0/13 [00:00<?, ?it/s]"
      ]
     },
     "metadata": {},
     "output_type": "display_data"
    },
    {
     "data": {
      "application/vnd.jupyter.widget-view+json": {
       "model_id": "04eb2021f4254400a59d0a2664e2a351",
       "version_major": 2,
       "version_minor": 0
      },
      "text/plain": [
       "Batch 4/4: Running 13 perturbations (50 samples each):   0%|          | 0/13 [00:00<?, ?it/s]"
      ]
     },
     "metadata": {},
     "output_type": "display_data"
    },
    {
     "data": {
      "application/vnd.jupyter.widget-view+json": {
       "model_id": "dca3756622d1410db7ac8cf8e3794ab0",
       "version_major": 2,
       "version_minor": 0
      },
      "text/plain": [
       "Computing p-values (13 perturbations × 480 genes):   0%|          | 0/6240 [00:00<?, ?it/s]"
      ]
     },
     "metadata": {},
     "output_type": "display_data"
    }
   ],
   "source": [
    "pvalues = supervised_resolvi.get_perturbation_pvalues(\n",
    "    indices=cell_indices,\n",
    "    n_samples=50,\n",
    "    preserve_cell_heterogeneity=True,\n",
    "    cell_summary_fn=\"median\",\n",
    "    test_type=\"two_sided\"\n",
    ")"
   ]
  },
  {
   "cell_type": "code",
   "execution_count": 11,
   "metadata": {},
   "outputs": [],
   "source": [
    "pvalues.index = pvalues.index.map(celltype_to_perturb_number)"
   ]
  },
  {
   "cell_type": "code",
   "execution_count": 12,
   "metadata": {},
   "outputs": [],
   "source": [
    "corrected_expression = supervised_resolvi.get_normalized_expression(\n",
    "    adata=query_adata\n",
    ")\n"
   ]
  },
  {
   "cell_type": "code",
   "execution_count": 13,
   "metadata": {},
   "outputs": [],
   "source": [
    "query_adata.layers['resolvi_expression'] = corrected_expression"
   ]
  },
  {
   "cell_type": "code",
   "execution_count": 14,
   "metadata": {},
   "outputs": [
    {
     "data": {
      "text/html": [
       "<div>\n",
       "<style scoped>\n",
       "    .dataframe tbody tr th:only-of-type {\n",
       "        vertical-align: middle;\n",
       "    }\n",
       "\n",
       "    .dataframe tbody tr th {\n",
       "        vertical-align: top;\n",
       "    }\n",
       "\n",
       "    .dataframe thead th {\n",
       "        text-align: right;\n",
       "    }\n",
       "</style>\n",
       "<table border=\"1\" class=\"dataframe\">\n",
       "  <thead>\n",
       "    <tr style=\"text-align: right;\">\n",
       "      <th></th>\n",
       "      <th>Perturbation_0</th>\n",
       "      <th>Perturbation_1</th>\n",
       "      <th>Perturbation_2</th>\n",
       "      <th>Perturbation_3</th>\n",
       "      <th>Perturbation_4</th>\n",
       "      <th>Perturbation_5</th>\n",
       "      <th>Perturbation_6</th>\n",
       "      <th>Perturbation_7</th>\n",
       "      <th>Perturbation_8</th>\n",
       "      <th>Perturbation_9</th>\n",
       "      <th>Perturbation_10</th>\n",
       "      <th>Perturbation_11</th>\n",
       "      <th>Perturbation_12</th>\n",
       "    </tr>\n",
       "  </thead>\n",
       "  <tbody>\n",
       "    <tr>\n",
       "      <th>sgCcl3</th>\n",
       "      <td>2.352268</td>\n",
       "      <td>19.362654</td>\n",
       "      <td>-0.792324</td>\n",
       "      <td>-0.971122</td>\n",
       "      <td>-19.189100</td>\n",
       "      <td>5.366446</td>\n",
       "      <td>-2.367046</td>\n",
       "      <td>0.526113</td>\n",
       "      <td>-2.493390</td>\n",
       "      <td>-1.958580</td>\n",
       "      <td>3.680950</td>\n",
       "      <td>0.565626</td>\n",
       "      <td>-2.159902</td>\n",
       "    </tr>\n",
       "    <tr>\n",
       "      <th>sgCcl5</th>\n",
       "      <td>-3.143523</td>\n",
       "      <td>1.714105</td>\n",
       "      <td>-0.804666</td>\n",
       "      <td>-0.008078</td>\n",
       "      <td>-19.929455</td>\n",
       "      <td>18.789488</td>\n",
       "      <td>-4.440085</td>\n",
       "      <td>4.749594</td>\n",
       "      <td>5.163743</td>\n",
       "      <td>0.249630</td>\n",
       "      <td>-1.111245</td>\n",
       "      <td>0.316941</td>\n",
       "      <td>4.806079</td>\n",
       "    </tr>\n",
       "    <tr>\n",
       "      <th>sgCcr2</th>\n",
       "      <td>7.482359</td>\n",
       "      <td>-1.701509</td>\n",
       "      <td>9.566525</td>\n",
       "      <td>6.450493</td>\n",
       "      <td>-18.092815</td>\n",
       "      <td>2.961879</td>\n",
       "      <td>-4.001521</td>\n",
       "      <td>19.756664</td>\n",
       "      <td>1.089058</td>\n",
       "      <td>5.752869</td>\n",
       "      <td>-1.884034</td>\n",
       "      <td>1.416892</td>\n",
       "      <td>-0.973897</td>\n",
       "    </tr>\n",
       "    <tr>\n",
       "      <th>sgCcr5</th>\n",
       "      <td>-2.564555</td>\n",
       "      <td>-1.168265</td>\n",
       "      <td>-0.366090</td>\n",
       "      <td>-0.475992</td>\n",
       "      <td>-13.605577</td>\n",
       "      <td>-1.969797</td>\n",
       "      <td>15.567545</td>\n",
       "      <td>-1.145843</td>\n",
       "      <td>3.496986</td>\n",
       "      <td>-2.099330</td>\n",
       "      <td>8.500484</td>\n",
       "      <td>-0.042175</td>\n",
       "      <td>-0.143142</td>\n",
       "    </tr>\n",
       "    <tr>\n",
       "      <th>sgCcr7</th>\n",
       "      <td>-3.055438</td>\n",
       "      <td>5.693442</td>\n",
       "      <td>12.725003</td>\n",
       "      <td>6.489112</td>\n",
       "      <td>-20.664402</td>\n",
       "      <td>-0.523648</td>\n",
       "      <td>0.099094</td>\n",
       "      <td>-1.200208</td>\n",
       "      <td>-3.867555</td>\n",
       "      <td>3.141559</td>\n",
       "      <td>0.537597</td>\n",
       "      <td>20.235800</td>\n",
       "      <td>0.572790</td>\n",
       "    </tr>\n",
       "    <tr>\n",
       "      <th>sgCcr9</th>\n",
       "      <td>-1.042092</td>\n",
       "      <td>-1.759447</td>\n",
       "      <td>2.022285</td>\n",
       "      <td>0.072560</td>\n",
       "      <td>-17.402168</td>\n",
       "      <td>1.451494</td>\n",
       "      <td>6.390713</td>\n",
       "      <td>3.451496</td>\n",
       "      <td>15.894573</td>\n",
       "      <td>-0.910748</td>\n",
       "      <td>3.848792</td>\n",
       "      <td>0.002191</td>\n",
       "      <td>-3.502354</td>\n",
       "    </tr>\n",
       "    <tr>\n",
       "      <th>sgCd19</th>\n",
       "      <td>0.000000</td>\n",
       "      <td>0.000000</td>\n",
       "      <td>0.000000</td>\n",
       "      <td>0.000000</td>\n",
       "      <td>0.000000</td>\n",
       "      <td>0.000000</td>\n",
       "      <td>0.000000</td>\n",
       "      <td>0.000000</td>\n",
       "      <td>0.000000</td>\n",
       "      <td>0.000000</td>\n",
       "      <td>0.000000</td>\n",
       "      <td>0.000000</td>\n",
       "      <td>0.000000</td>\n",
       "    </tr>\n",
       "    <tr>\n",
       "      <th>sgCx3cl1</th>\n",
       "      <td>3.945927</td>\n",
       "      <td>-1.739303</td>\n",
       "      <td>9.408682</td>\n",
       "      <td>19.050518</td>\n",
       "      <td>-16.867224</td>\n",
       "      <td>-0.496920</td>\n",
       "      <td>2.158355</td>\n",
       "      <td>-1.195327</td>\n",
       "      <td>-1.679472</td>\n",
       "      <td>1.140340</td>\n",
       "      <td>8.258946</td>\n",
       "      <td>0.897346</td>\n",
       "      <td>-0.808125</td>\n",
       "    </tr>\n",
       "    <tr>\n",
       "      <th>sgCxcl10</th>\n",
       "      <td>17.567839</td>\n",
       "      <td>-0.399379</td>\n",
       "      <td>1.974664</td>\n",
       "      <td>2.916560</td>\n",
       "      <td>-20.110268</td>\n",
       "      <td>-1.568259</td>\n",
       "      <td>-3.554911</td>\n",
       "      <td>-0.914502</td>\n",
       "      <td>-0.615746</td>\n",
       "      <td>-1.363591</td>\n",
       "      <td>0.761548</td>\n",
       "      <td>-0.034043</td>\n",
       "      <td>-3.570996</td>\n",
       "    </tr>\n",
       "    <tr>\n",
       "      <th>sgCxcr3</th>\n",
       "      <td>-3.370699</td>\n",
       "      <td>-1.673115</td>\n",
       "      <td>-0.806555</td>\n",
       "      <td>-0.946136</td>\n",
       "      <td>-20.110668</td>\n",
       "      <td>-1.500100</td>\n",
       "      <td>-0.305584</td>\n",
       "      <td>-1.152651</td>\n",
       "      <td>-3.691843</td>\n",
       "      <td>-2.085057</td>\n",
       "      <td>17.567442</td>\n",
       "      <td>-0.046828</td>\n",
       "      <td>-3.577264</td>\n",
       "    </tr>\n",
       "    <tr>\n",
       "      <th>sgCxcr4</th>\n",
       "      <td>0.076301</td>\n",
       "      <td>-1.546763</td>\n",
       "      <td>18.740313</td>\n",
       "      <td>8.211576</td>\n",
       "      <td>-18.415081</td>\n",
       "      <td>-1.238914</td>\n",
       "      <td>1.346232</td>\n",
       "      <td>-1.099488</td>\n",
       "      <td>-2.628146</td>\n",
       "      <td>-0.527840</td>\n",
       "      <td>1.630359</td>\n",
       "      <td>6.098758</td>\n",
       "      <td>-2.043109</td>\n",
       "    </tr>\n",
       "    <tr>\n",
       "      <th>sgCxcr6</th>\n",
       "      <td>-3.239562</td>\n",
       "      <td>2.308549</td>\n",
       "      <td>2.376744</td>\n",
       "      <td>0.811297</td>\n",
       "      <td>-17.583315</td>\n",
       "      <td>-0.847546</td>\n",
       "      <td>-2.559383</td>\n",
       "      <td>0.438516</td>\n",
       "      <td>-3.527846</td>\n",
       "      <td>-2.063240</td>\n",
       "      <td>-1.412947</td>\n",
       "      <td>4.498819</td>\n",
       "      <td>17.472288</td>\n",
       "    </tr>\n",
       "    <tr>\n",
       "      <th>sgXcl1</th>\n",
       "      <td>-1.980932</td>\n",
       "      <td>0.807731</td>\n",
       "      <td>9.870992</td>\n",
       "      <td>5.928040</td>\n",
       "      <td>-19.846617</td>\n",
       "      <td>8.152225</td>\n",
       "      <td>-5.087031</td>\n",
       "      <td>-1.159038</td>\n",
       "      <td>-2.171262</td>\n",
       "      <td>17.774984</td>\n",
       "      <td>-1.513683</td>\n",
       "      <td>9.975343</td>\n",
       "      <td>-3.522498</td>\n",
       "    </tr>\n",
       "  </tbody>\n",
       "</table>\n",
       "</div>"
      ],
      "text/plain": [
       "          Perturbation_0  Perturbation_1  Perturbation_2  Perturbation_3  \\\n",
       "sgCcl3          2.352268       19.362654       -0.792324       -0.971122   \n",
       "sgCcl5         -3.143523        1.714105       -0.804666       -0.008078   \n",
       "sgCcr2          7.482359       -1.701509        9.566525        6.450493   \n",
       "sgCcr5         -2.564555       -1.168265       -0.366090       -0.475992   \n",
       "sgCcr7         -3.055438        5.693442       12.725003        6.489112   \n",
       "sgCcr9         -1.042092       -1.759447        2.022285        0.072560   \n",
       "sgCd19          0.000000        0.000000        0.000000        0.000000   \n",
       "sgCx3cl1        3.945927       -1.739303        9.408682       19.050518   \n",
       "sgCxcl10       17.567839       -0.399379        1.974664        2.916560   \n",
       "sgCxcr3        -3.370699       -1.673115       -0.806555       -0.946136   \n",
       "sgCxcr4         0.076301       -1.546763       18.740313        8.211576   \n",
       "sgCxcr6        -3.239562        2.308549        2.376744        0.811297   \n",
       "sgXcl1         -1.980932        0.807731        9.870992        5.928040   \n",
       "\n",
       "          Perturbation_4  Perturbation_5  Perturbation_6  Perturbation_7  \\\n",
       "sgCcl3        -19.189100        5.366446       -2.367046        0.526113   \n",
       "sgCcl5        -19.929455       18.789488       -4.440085        4.749594   \n",
       "sgCcr2        -18.092815        2.961879       -4.001521       19.756664   \n",
       "sgCcr5        -13.605577       -1.969797       15.567545       -1.145843   \n",
       "sgCcr7        -20.664402       -0.523648        0.099094       -1.200208   \n",
       "sgCcr9        -17.402168        1.451494        6.390713        3.451496   \n",
       "sgCd19          0.000000        0.000000        0.000000        0.000000   \n",
       "sgCx3cl1      -16.867224       -0.496920        2.158355       -1.195327   \n",
       "sgCxcl10      -20.110268       -1.568259       -3.554911       -0.914502   \n",
       "sgCxcr3       -20.110668       -1.500100       -0.305584       -1.152651   \n",
       "sgCxcr4       -18.415081       -1.238914        1.346232       -1.099488   \n",
       "sgCxcr6       -17.583315       -0.847546       -2.559383        0.438516   \n",
       "sgXcl1        -19.846617        8.152225       -5.087031       -1.159038   \n",
       "\n",
       "          Perturbation_8  Perturbation_9  Perturbation_10  Perturbation_11  \\\n",
       "sgCcl3         -2.493390       -1.958580         3.680950         0.565626   \n",
       "sgCcl5          5.163743        0.249630        -1.111245         0.316941   \n",
       "sgCcr2          1.089058        5.752869        -1.884034         1.416892   \n",
       "sgCcr5          3.496986       -2.099330         8.500484        -0.042175   \n",
       "sgCcr7         -3.867555        3.141559         0.537597        20.235800   \n",
       "sgCcr9         15.894573       -0.910748         3.848792         0.002191   \n",
       "sgCd19          0.000000        0.000000         0.000000         0.000000   \n",
       "sgCx3cl1       -1.679472        1.140340         8.258946         0.897346   \n",
       "sgCxcl10       -0.615746       -1.363591         0.761548        -0.034043   \n",
       "sgCxcr3        -3.691843       -2.085057        17.567442        -0.046828   \n",
       "sgCxcr4        -2.628146       -0.527840         1.630359         6.098758   \n",
       "sgCxcr6        -3.527846       -2.063240        -1.412947         4.498819   \n",
       "sgXcl1         -2.171262       17.774984        -1.513683         9.975343   \n",
       "\n",
       "          Perturbation_12  \n",
       "sgCcl3          -2.159902  \n",
       "sgCcl5           4.806079  \n",
       "sgCcr2          -0.973897  \n",
       "sgCcr5          -0.143142  \n",
       "sgCcr7           0.572790  \n",
       "sgCcr9          -3.502354  \n",
       "sgCd19           0.000000  \n",
       "sgCx3cl1        -0.808125  \n",
       "sgCxcl10        -3.570996  \n",
       "sgCxcr3         -3.577264  \n",
       "sgCxcr4         -2.043109  \n",
       "sgCxcr6         17.472288  \n",
       "sgXcl1          -3.522498  "
      ]
     },
     "execution_count": 14,
     "metadata": {},
     "output_type": "execute_result"
    }
   ],
   "source": [
    "effects[['Perturbation_0', 'Perturbation_1', 'Perturbation_2', 'Perturbation_3', 'Perturbation_4', 'Perturbation_5', 'Perturbation_6', 'Perturbation_7', 'Perturbation_8', 'Perturbation_9','Perturbation_10', 'Perturbation_11', 'Perturbation_12']]"
   ]
  },
  {
   "cell_type": "code",
   "execution_count": 15,
   "metadata": {},
   "outputs": [
    {
     "data": {
      "text/html": [
       "<div>\n",
       "<style scoped>\n",
       "    .dataframe tbody tr th:only-of-type {\n",
       "        vertical-align: middle;\n",
       "    }\n",
       "\n",
       "    .dataframe tbody tr th {\n",
       "        vertical-align: top;\n",
       "    }\n",
       "\n",
       "    .dataframe thead th {\n",
       "        text-align: right;\n",
       "    }\n",
       "</style>\n",
       "<table border=\"1\" class=\"dataframe\">\n",
       "  <thead>\n",
       "    <tr style=\"text-align: right;\">\n",
       "      <th></th>\n",
       "      <th>Cxcr3</th>\n",
       "      <th>Ccr5</th>\n",
       "      <th>Ccl5</th>\n",
       "      <th>Ccr7</th>\n",
       "      <th>Cxcr4</th>\n",
       "      <th>Ccl3</th>\n",
       "      <th>Cxcr6</th>\n",
       "      <th>Xcl1</th>\n",
       "    </tr>\n",
       "  </thead>\n",
       "  <tbody>\n",
       "    <tr>\n",
       "      <th>sgCcl3</th>\n",
       "      <td>-0.022942</td>\n",
       "      <td>-0.007582</td>\n",
       "      <td>-0.011173</td>\n",
       "      <td>-0.519196</td>\n",
       "      <td>-0.182886</td>\n",
       "      <td>-1.345942</td>\n",
       "      <td>-0.024073</td>\n",
       "      <td>-0.460204</td>\n",
       "    </tr>\n",
       "    <tr>\n",
       "      <th>sgCcl5</th>\n",
       "      <td>0.015859</td>\n",
       "      <td>0.361282</td>\n",
       "      <td>-1.720599</td>\n",
       "      <td>0.054897</td>\n",
       "      <td>0.107274</td>\n",
       "      <td>0.018413</td>\n",
       "      <td>0.054165</td>\n",
       "      <td>-0.581714</td>\n",
       "    </tr>\n",
       "    <tr>\n",
       "      <th>sgCcr2</th>\n",
       "      <td>-0.028926</td>\n",
       "      <td>0.198660</td>\n",
       "      <td>-0.071901</td>\n",
       "      <td>-0.351072</td>\n",
       "      <td>-0.330845</td>\n",
       "      <td>-0.537681</td>\n",
       "      <td>-0.331714</td>\n",
       "      <td>-1.354571</td>\n",
       "    </tr>\n",
       "    <tr>\n",
       "      <th>sgCcr5</th>\n",
       "      <td>-0.054614</td>\n",
       "      <td>-0.296905</td>\n",
       "      <td>-0.113129</td>\n",
       "      <td>-1.567828</td>\n",
       "      <td>-0.143983</td>\n",
       "      <td>-0.588304</td>\n",
       "      <td>0.171093</td>\n",
       "      <td>0.766818</td>\n",
       "    </tr>\n",
       "    <tr>\n",
       "      <th>sgCcr7</th>\n",
       "      <td>-0.251230</td>\n",
       "      <td>0.209353</td>\n",
       "      <td>0.097996</td>\n",
       "      <td>-3.379035</td>\n",
       "      <td>0.238460</td>\n",
       "      <td>-1.477705</td>\n",
       "      <td>-0.337220</td>\n",
       "      <td>0.130018</td>\n",
       "    </tr>\n",
       "    <tr>\n",
       "      <th>sgCcr9</th>\n",
       "      <td>0.080180</td>\n",
       "      <td>0.024488</td>\n",
       "      <td>-0.054880</td>\n",
       "      <td>-1.859534</td>\n",
       "      <td>0.259467</td>\n",
       "      <td>-0.004069</td>\n",
       "      <td>-0.035642</td>\n",
       "      <td>-1.221545</td>\n",
       "    </tr>\n",
       "    <tr>\n",
       "      <th>sgCd19</th>\n",
       "      <td>0.000000</td>\n",
       "      <td>0.000000</td>\n",
       "      <td>0.000000</td>\n",
       "      <td>0.000000</td>\n",
       "      <td>0.000000</td>\n",
       "      <td>0.000000</td>\n",
       "      <td>0.000000</td>\n",
       "      <td>0.000000</td>\n",
       "    </tr>\n",
       "    <tr>\n",
       "      <th>sgCx3cl1</th>\n",
       "      <td>-0.113508</td>\n",
       "      <td>-0.089590</td>\n",
       "      <td>-0.022332</td>\n",
       "      <td>-2.187845</td>\n",
       "      <td>-0.161048</td>\n",
       "      <td>-0.386662</td>\n",
       "      <td>0.182091</td>\n",
       "      <td>-0.466096</td>\n",
       "    </tr>\n",
       "    <tr>\n",
       "      <th>sgCxcl10</th>\n",
       "      <td>-0.038722</td>\n",
       "      <td>0.014156</td>\n",
       "      <td>0.018507</td>\n",
       "      <td>-7.339547</td>\n",
       "      <td>-0.980635</td>\n",
       "      <td>-0.848284</td>\n",
       "      <td>0.114744</td>\n",
       "      <td>-1.206951</td>\n",
       "    </tr>\n",
       "    <tr>\n",
       "      <th>sgCxcr3</th>\n",
       "      <td>-0.242618</td>\n",
       "      <td>0.210938</td>\n",
       "      <td>0.124234</td>\n",
       "      <td>-9.751227</td>\n",
       "      <td>0.247942</td>\n",
       "      <td>0.612190</td>\n",
       "      <td>0.168225</td>\n",
       "      <td>0.655588</td>\n",
       "    </tr>\n",
       "    <tr>\n",
       "      <th>sgCxcr4</th>\n",
       "      <td>0.166544</td>\n",
       "      <td>0.224154</td>\n",
       "      <td>-0.041803</td>\n",
       "      <td>-4.347479</td>\n",
       "      <td>-0.625713</td>\n",
       "      <td>-0.034890</td>\n",
       "      <td>0.245169</td>\n",
       "      <td>0.671885</td>\n",
       "    </tr>\n",
       "    <tr>\n",
       "      <th>sgCxcr6</th>\n",
       "      <td>-0.122101</td>\n",
       "      <td>-0.084027</td>\n",
       "      <td>-0.232721</td>\n",
       "      <td>-1.292765</td>\n",
       "      <td>-0.546812</td>\n",
       "      <td>-0.573411</td>\n",
       "      <td>-0.366843</td>\n",
       "      <td>0.811668</td>\n",
       "    </tr>\n",
       "    <tr>\n",
       "      <th>sgXcl1</th>\n",
       "      <td>-0.145405</td>\n",
       "      <td>0.490686</td>\n",
       "      <td>-0.023597</td>\n",
       "      <td>-3.932328</td>\n",
       "      <td>-1.354046</td>\n",
       "      <td>-0.467182</td>\n",
       "      <td>-0.306392</td>\n",
       "      <td>-0.228524</td>\n",
       "    </tr>\n",
       "  </tbody>\n",
       "</table>\n",
       "</div>"
      ],
      "text/plain": [
       "             Cxcr3      Ccr5      Ccl5      Ccr7     Cxcr4      Ccl3  \\\n",
       "sgCcl3   -0.022942 -0.007582 -0.011173 -0.519196 -0.182886 -1.345942   \n",
       "sgCcl5    0.015859  0.361282 -1.720599  0.054897  0.107274  0.018413   \n",
       "sgCcr2   -0.028926  0.198660 -0.071901 -0.351072 -0.330845 -0.537681   \n",
       "sgCcr5   -0.054614 -0.296905 -0.113129 -1.567828 -0.143983 -0.588304   \n",
       "sgCcr7   -0.251230  0.209353  0.097996 -3.379035  0.238460 -1.477705   \n",
       "sgCcr9    0.080180  0.024488 -0.054880 -1.859534  0.259467 -0.004069   \n",
       "sgCd19    0.000000  0.000000  0.000000  0.000000  0.000000  0.000000   \n",
       "sgCx3cl1 -0.113508 -0.089590 -0.022332 -2.187845 -0.161048 -0.386662   \n",
       "sgCxcl10 -0.038722  0.014156  0.018507 -7.339547 -0.980635 -0.848284   \n",
       "sgCxcr3  -0.242618  0.210938  0.124234 -9.751227  0.247942  0.612190   \n",
       "sgCxcr4   0.166544  0.224154 -0.041803 -4.347479 -0.625713 -0.034890   \n",
       "sgCxcr6  -0.122101 -0.084027 -0.232721 -1.292765 -0.546812 -0.573411   \n",
       "sgXcl1   -0.145405  0.490686 -0.023597 -3.932328 -1.354046 -0.467182   \n",
       "\n",
       "             Cxcr6      Xcl1  \n",
       "sgCcl3   -0.024073 -0.460204  \n",
       "sgCcl5    0.054165 -0.581714  \n",
       "sgCcr2   -0.331714 -1.354571  \n",
       "sgCcr5    0.171093  0.766818  \n",
       "sgCcr7   -0.337220  0.130018  \n",
       "sgCcr9   -0.035642 -1.221545  \n",
       "sgCd19    0.000000  0.000000  \n",
       "sgCx3cl1  0.182091 -0.466096  \n",
       "sgCxcl10  0.114744 -1.206951  \n",
       "sgCxcr3   0.168225  0.655588  \n",
       "sgCxcr4   0.245169  0.671885  \n",
       "sgCxcr6  -0.366843  0.811668  \n",
       "sgXcl1   -0.306392 -0.228524  "
      ]
     },
     "execution_count": 15,
     "metadata": {},
     "output_type": "execute_result"
    }
   ],
   "source": [
    "effects[['Cxcr3', 'Ccr5', 'Ccl5', 'Ccr7', 'Cxcr4', 'Ccl3', 'Cxcr6', 'Xcl1']]"
   ]
  },
  {
   "cell_type": "code",
   "execution_count": 27,
   "metadata": {},
   "outputs": [
    {
     "data": {
      "text/html": [
       "<div>\n",
       "<style scoped>\n",
       "    .dataframe tbody tr th:only-of-type {\n",
       "        vertical-align: middle;\n",
       "    }\n",
       "\n",
       "    .dataframe tbody tr th {\n",
       "        vertical-align: top;\n",
       "    }\n",
       "\n",
       "    .dataframe thead th {\n",
       "        text-align: right;\n",
       "    }\n",
       "</style>\n",
       "<table border=\"1\" class=\"dataframe\">\n",
       "  <thead>\n",
       "    <tr style=\"text-align: right;\">\n",
       "      <th></th>\n",
       "      <th>Itgae</th>\n",
       "      <th>Gzma</th>\n",
       "      <th>Tcf7</th>\n",
       "      <th>Cxcr3</th>\n",
       "      <th>Id3</th>\n",
       "      <th>Klrg1</th>\n",
       "      <th>Klf2</th>\n",
       "    </tr>\n",
       "  </thead>\n",
       "  <tbody>\n",
       "    <tr>\n",
       "      <th>sgCcr2</th>\n",
       "      <td>0.472637</td>\n",
       "      <td>0.110446</td>\n",
       "      <td>-0.931252</td>\n",
       "      <td>-0.028926</td>\n",
       "      <td>0.132665</td>\n",
       "      <td>-0.523073</td>\n",
       "      <td>-0.154008</td>\n",
       "    </tr>\n",
       "    <tr>\n",
       "      <th>sgCd19</th>\n",
       "      <td>0.000000</td>\n",
       "      <td>0.000000</td>\n",
       "      <td>0.000000</td>\n",
       "      <td>0.000000</td>\n",
       "      <td>0.000000</td>\n",
       "      <td>0.000000</td>\n",
       "      <td>0.000000</td>\n",
       "    </tr>\n",
       "  </tbody>\n",
       "</table>\n",
       "</div>"
      ],
      "text/plain": [
       "           Itgae      Gzma      Tcf7     Cxcr3       Id3     Klrg1      Klf2\n",
       "sgCcr2  0.472637  0.110446 -0.931252 -0.028926  0.132665 -0.523073 -0.154008\n",
       "sgCd19  0.000000  0.000000  0.000000  0.000000  0.000000  0.000000  0.000000"
      ]
     },
     "execution_count": 27,
     "metadata": {},
     "output_type": "execute_result"
    }
   ],
   "source": [
    "effects[['Itgae', 'Gzma', 'Tcf7', 'Cxcr3', 'Id3', 'Klrg1', 'Klf2']].loc[['sgCcr2', 'sgCd19']]"
   ]
  },
  {
   "cell_type": "code",
   "execution_count": 35,
   "metadata": {},
   "outputs": [
    {
     "ename": "AttributeError",
     "evalue": "'dict' object has no attribute 'loc'",
     "output_type": "error",
     "traceback": [
      "\u001b[31m---------------------------------------------------------------------------\u001b[39m",
      "\u001b[31mAttributeError\u001b[39m                            Traceback (most recent call last)",
      "\u001b[36mCell\u001b[39m\u001b[36m \u001b[39m\u001b[32mIn[35]\u001b[39m\u001b[32m, line 4\u001b[39m\n\u001b[32m      1\u001b[39m \u001b[38;5;28;01mfrom\u001b[39;00m\u001b[38;5;250m \u001b[39m\u001b[34;01mscipy\u001b[39;00m\u001b[34;01m.\u001b[39;00m\u001b[34;01mstats\u001b[39;00m\u001b[38;5;250m \u001b[39m\u001b[38;5;28;01mimport\u001b[39;00m spearmanr\n\u001b[32m      2\u001b[39m \u001b[38;5;28;01mimport\u001b[39;00m\u001b[38;5;250m \u001b[39m\u001b[34;01mnumpy\u001b[39;00m\u001b[38;5;250m \u001b[39m\u001b[38;5;28;01mas\u001b[39;00m\u001b[38;5;250m \u001b[39m\u001b[34;01mnp\u001b[39;00m\n\u001b[32m----> \u001b[39m\u001b[32m4\u001b[39m perturbation_effects = \u001b[43meffects_cells\u001b[49m\u001b[43m.\u001b[49m\u001b[43mloc\u001b[49m[\u001b[33m'\u001b[39m\u001b[33msgCxcr3\u001b[39m\u001b[33m'\u001b[39m].values\n\u001b[32m      5\u001b[39m \u001b[38;5;66;03m# Calculate the difference in gene counts between the two batches\u001b[39;00m\n\u001b[32m      6\u001b[39m batch1_counts = query_adata[query_adata.obs[\u001b[33m'\u001b[39m\u001b[33mguide_rnas\u001b[39m\u001b[33m'\u001b[39m] == \u001b[33m'\u001b[39m\u001b[33msgCxcr3\u001b[39m\u001b[33m'\u001b[39m].X.mean(axis=\u001b[32m0\u001b[39m)\n",
      "\u001b[31mAttributeError\u001b[39m: 'dict' object has no attribute 'loc'"
     ]
    }
   ],
   "source": [
    "\n",
    "from scipy.stats import spearmanr\n",
    "import numpy as np\n",
    "\n",
    "perturbation_effects = effects_cells.loc['sgCxcr3'].values\n",
    "# Calculate the difference in gene counts between the two batches\n",
    "batch1_counts = query_adata[query_adata.obs['guide_rnas'] == 'sgCxcr3'].X.mean(axis=0)\n",
    "batch2_counts = query_adata[query_adata.obs['guide_rnas'] == 'sgCd19'].X.mean(axis=0)\n",
    "gene_count_diff = batch1_counts - batch2_counts\n",
    "\n",
    "# Filter perturbation effects where values are less than 0.05\n",
    "valid_indices = np.abs(perturbation_effects) >= 0\n",
    "gene_count_diff_filtered = gene_count_diff[valid_indices]\n",
    "perturbation_effects_filtered = perturbation_effects[valid_indices]\n",
    "\n",
    "# Get gene names for annotation\n",
    "gene_names = query_adata.var.index.values if hasattr(query_adata.var, \"index\") else np.arange(len(perturbation_effects))\n",
    "gene_names_filtered = gene_names[valid_indices]\n",
    "\n",
    "# Calculate Spearman correlation\n",
    "spearman_corr, _ = spearmanr(gene_count_diff_filtered, perturbation_effects_filtered)\n",
    "\n",
    "# Plot the perturbation effects against the gene count differences\n",
    "plt.figure(figsize=(10, 6))\n",
    "plt.scatter(gene_count_diff_filtered, perturbation_effects_filtered, color='purple', alpha=0.7)\n",
    "\n",
    "# Annotate each point with the gene name (optionally, only annotate top N by abs effect for clarity)\n",
    "# Annotate only the gene 'Cxcr3' and the gene at index corresponding to 'Perturbation_4' (if present)\n",
    "# Annotate 'Cxcr3' if it is in gene_names_filtered\n",
    "if 'Cxcr3' in gene_names_filtered:\n",
    "    idx_cxcr3 = np.where(gene_names_filtered == 'Cxcr3')[0][0]\n",
    "    plt.annotate('Cxcr3',\n",
    "                 (gene_count_diff_filtered[idx_cxcr3], perturbation_effects_filtered[idx_cxcr3]),\n",
    "                 textcoords=\"offset points\", xytext=(5,2), ha='left', fontsize=8, color='black')\n",
    "\n",
    "# Annotate 'Perturbation_4' if it is in gene_names_filtered\n",
    "if 'Perturbation_4' in gene_names_filtered:\n",
    "    idx_pert4 = np.where(gene_names_filtered == 'Perturbation_4')[0][0]\n",
    "    plt.annotate('Perturbation_4',\n",
    "                 (gene_count_diff_filtered[idx_pert4], perturbation_effects_filtered[idx_pert4]),\n",
    "                 textcoords=\"offset points\", xytext=(5,2), ha='left', fontsize=8, color='black')\n",
    "    \n",
    "# Annotate 'Perturbation_10' if it is in gene_names_filtered\n",
    "if 'Perturbation_10' in gene_names_filtered:\n",
    "    idx_pert4 = np.where(gene_names_filtered == 'Perturbation_10')[0][0]\n",
    "    plt.annotate('Perturbation_10',\n",
    "                 (gene_count_diff_filtered[idx_pert4], perturbation_effects_filtered[idx_pert4]),\n",
    "                 textcoords=\"offset points\", xytext=(5,2), ha='left', fontsize=8, color='black')\n",
    "\n",
    "# Add line of best fit\n",
    "m, b = np.polyfit(gene_count_diff_filtered, perturbation_effects_filtered, 1)\n",
    "plt.plot(gene_count_diff_filtered, m * gene_count_diff_filtered + b, color='red', linestyle='--')\n",
    "\n",
    "plt.xlabel('Difference in Gene Counts (sgCxcr3 vs sgCd19)')\n",
    "plt.ylabel('Perturbation Effects')\n",
    "plt.title(f'Perturbation Effects vs Gene Count Differences\\nSpearman Correlation: {spearman_corr:.2f}')\n",
    "plt.grid(True)\n",
    "plt.tight_layout()\n",
    "plt.show()"
   ]
  },
  {
   "cell_type": "code",
   "execution_count": 16,
   "metadata": {},
   "outputs": [],
   "source": [
    "from statsmodels.stats.multitest import multipletests\n",
    "\n",
    "# Apply multiple testing correction\n",
    "def correct_pvalues(pval_df, method='fdr_bh'):\n",
    "    \"\"\"Apply multiple testing correction to p-values DataFrame, removing rows with any NaN p-values.\"\"\"\n",
    "    # Remove rows with any NaN p-values\n",
    "    pval_df_clean = pval_df[~pval_df.isna().any(axis=1)].copy()\n",
    "    # Flatten p-values while keeping track of structure\n",
    "    pval_flat = pval_df_clean.values.flatten()\n",
    "    \n",
    "    # Apply correction\n",
    "    rejected, pval_corrected, alpha_sidak, alpha_bonf = multipletests(\n",
    "        pval_flat, method=method, alpha=0.05\n",
    "    )\n",
    "    \n",
    "    # Reshape back to original structure\n",
    "    pval_corrected_df = pd.DataFrame(\n",
    "        pval_corrected.reshape(pval_df_clean.shape),\n",
    "        index=pval_df_clean.index,\n",
    "        columns=pval_df_clean.columns\n",
    "    )\n",
    "    \n",
    "    significant_df = pd.DataFrame(\n",
    "        rejected.reshape(pval_df_clean.shape),\n",
    "        index=pval_df_clean.index, \n",
    "        columns=pval_df_clean.columns\n",
    "    )\n",
    "    \n",
    "    return pval_corrected_df, significant_df\n",
    "\n",
    "# Apply different correction methods\n",
    "pval_fdr, sig_fdr = correct_pvalues(pvalues, method='fdr_bh')        # Benjamini-Hochberg (recommended)"
   ]
  },
  {
   "cell_type": "code",
   "execution_count": 28,
   "metadata": {},
   "outputs": [
    {
     "data": {
      "image/png": "[encoded data removed]",
      "text/plain": [
       "<Figure size 800x600 with 1 Axes>"
      ]
     },
     "metadata": {},
     "output_type": "display_data"
    }
   ],
   "source": [
    "import numpy as np\n",
    "import pandas as pd\n",
    "import matplotlib.pyplot as plt\n",
    "\n",
    "effects_list = effects.loc['sgCcl5'].values\n",
    "prob_positive_list = -1*np.log10(pval_fdr.loc['sgCcl5'].values)\n",
    "# max_prob_pos_prob_neg = np.stack([prob_positive_list, prob_negative_list], axis=1)\n",
    "# prob_positive_list = np.max(max_prob_pos_prob_neg, axis=1)\n",
    "\n",
    "# build a DataFrame\n",
    "df = pd.DataFrame({\n",
    "    'gene': query_adata.var.index.values if hasattr(query_adata.var, \"index\") else np.arange(len(effects_list)),\n",
    "    'effect': effects_list,\n",
    "    'mean_expr': prob_positive_list\n",
    "})\n",
    "\n",
    "# --- 2) Select top N by absolute effect for annotation ---\n",
    "N = 400\n",
    "topN = df.iloc[np.argsort(np.abs(df['effect']))[::-1][:N]]\n",
    "\n",
    "# always include your genes of special interest\n",
    "for g in ['Cxcr3','Perturbation_4','Perturbation_10']:\n",
    "    if g in df['gene'].values:\n",
    "        topN = pd.concat([topN, df[df['gene']==g]])\n",
    "topN = topN.drop_duplicates('gene')\n",
    "\n",
    "# --- 3) Plot volcano‐style scatter: effect vs mean expression ---\n",
    "plt.figure(figsize=(8,6))\n",
    "plt.scatter(df['effect'], df['mean_expr'], alpha=0.6)\n",
    "\n",
    "# highlight the top hits\n",
    "plt.scatter(topN['effect'], topN['mean_expr'], color='red', edgecolor='k', s=50)\n",
    "\n",
    "# annotate\n",
    "for _, row in topN.iterrows():\n",
    "    if row['gene'] in ['Ccl5','Perturbation_4','Perturbation_10']:\n",
    "        plt.text(row['effect'], row['mean_expr'], row['gene'],\n",
    "                fontsize=8,\n",
    "                ha='right' if row['effect']<0 else 'left',\n",
    "                va='bottom')\n",
    "\n",
    "plt.xlabel('Perturbation Effect (sgCxcr3 vs sgCd19)')\n",
    "plt.ylabel('Mean Gene Expression in Perturbed Cells')\n",
    "plt.title('Perturbation Effect vs Mean Expression')\n",
    "plt.grid(True, linestyle='--', alpha=0.5)\n",
    "plt.tight_layout()\n",
    "plt.show()"
   ]
  },
  {
   "cell_type": "code",
   "execution_count": 10,
   "metadata": {},
   "outputs": [],
   "source": [
    "\n",
    "\n",
    "# 4. Get uncertainty estimates (multiple samples)\n",
    "effects_with_uncertainty = supervised_resolvi.get_perturbation_effects(\n",
    "    n_samples=100,\n",
    "    return_mean=False  # Returns (n_samples, n_perturbations, n_genes)\n",
    ")\n",
    "\n",
    "# Calculate mean and standard deviation\n",
    "effects_mean = effects_with_uncertainty.mean(axis=0)\n",
    "effects_std = effects_with_uncertainty.std(axis=0)\n",
    "\n",
    "# 5. Return as numpy array instead of DataFrame\n",
    "effects_numpy = supervised_resolvi.get_perturbation_effects(\n",
    "    return_numpy=True\n",
    ")"
   ]
  },
  {
   "cell_type": "code",
   "execution_count": 9,
   "metadata": {},
   "outputs": [
    {
     "name": "stdout",
     "output_type": "stream",
     "text": [
      "\n",
      "perturbation_1 - Top upregulated genes:\n",
      "Olfm4      0.160932\n",
      "S100a4     0.146479\n",
      "Cd74       0.140134\n",
      "Il17a      0.136326\n",
      "Lgr5       0.132411\n",
      "Jchain     0.131299\n",
      "Meg3       0.128033\n",
      "Neurog3    0.125850\n",
      "Mzb1       0.125348\n",
      "Scn7a      0.124500\n",
      "Name: perturbation_1, dtype: float32\n",
      "\n",
      "perturbation_1 - Top downregulated genes:\n",
      "Muc13    -0.125823\n",
      "mt-Co1   -0.117608\n",
      "Rbp2     -0.101208\n",
      "Fabp2    -0.093622\n",
      "Apoa1    -0.074589\n",
      "Slc9a3   -0.073016\n",
      "Ifngr1   -0.072394\n",
      "Il18     -0.068574\n",
      "Pcsk5    -0.060879\n",
      "Ifngr2   -0.060798\n",
      "Name: perturbation_1, dtype: float32\n",
      "\n",
      "perturbation_2 - Top upregulated genes:\n",
      "Upp1      0.180055\n",
      "Cd74      0.155298\n",
      "H2-Aa     0.086877\n",
      "Itga6     0.075242\n",
      "Ccl20     0.074872\n",
      "Cd8b1     0.061757\n",
      "Irf8      0.057358\n",
      "H2-Eb1    0.054356\n",
      "Il1a      0.053360\n",
      "Atp1b1    0.047624\n",
      "Name: perturbation_2, dtype: float32\n",
      "\n",
      "perturbation_2 - Top downregulated genes:\n",
      "Tyrobp   -0.097767\n",
      "Muc13    -0.093395\n",
      "C1qb     -0.084836\n",
      "Csf1r    -0.083398\n",
      "C1qa     -0.076835\n",
      "Il2rg    -0.075518\n",
      "Pecam1   -0.072680\n",
      "Acta2    -0.068449\n",
      "Enpp2    -0.068057\n",
      "Olfm4    -0.066046\n",
      "Name: perturbation_2, dtype: float32\n"
     ]
    },
    {
     "data": {
      "image/png": "[encoded data removed]",
      "text/plain": [
       "<Figure size 1200x800 with 2 Axes>"
      ]
     },
     "metadata": {},
     "output_type": "display_data"
    }
   ],
   "source": [
    "# Extract effects\n",
    "effects_df = supervised_resolvi.get_perturbation_effects()\n",
    "\n",
    "# Find genes most affected by each perturbation\n",
    "for perturbation in effects_df.index:\n",
    "    # Get top 10 upregulated genes\n",
    "    top_up = effects_df.loc[perturbation].nlargest(10)\n",
    "    print(f\"\\n{perturbation} - Top upregulated genes:\")\n",
    "    print(top_up)\n",
    "    \n",
    "    # Get top 10 downregulated genes  \n",
    "    top_down = effects_df.loc[perturbation].nsmallest(10)\n",
    "    print(f\"\\n{perturbation} - Top downregulated genes:\")\n",
    "    print(top_down)\n",
    "\n",
    "# Visualize effects\n",
    "import matplotlib.pyplot as plt\n",
    "import seaborn as sns\n",
    "\n",
    "# Heatmap of perturbation effects\n",
    "plt.figure(figsize=(12, 8))\n",
    "sns.heatmap(effects_df.iloc[:, :50], cmap='RdBu_r', center=0)  # First 50 genes\n",
    "plt.title('Perturbation Effects on Gene Expression')\n",
    "plt.xlabel('Genes')\n",
    "plt.ylabel('Perturbations')\n",
    "plt.show()\n"
   ]
  }
 ],
 "metadata": {
  "kernelspec": {
   "display_name": "resolVI",
   "language": "python",
   "name": "python3"
  },
  "language_info": {
   "codemirror_mode": {
    "name": "ipython",
    "version": 3
   },
   "file_extension": ".py",
   "mimetype": "text/x-python",
   "name": "python",
   "nbconvert_exporter": "python",
   "pygments_lexer": "ipython3",
   "version": "3.11.12"
  }
 },
 "nbformat": 4,
 "nbformat_minor": 2
}
