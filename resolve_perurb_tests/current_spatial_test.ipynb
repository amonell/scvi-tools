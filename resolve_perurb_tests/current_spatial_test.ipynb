{
 "cells": [
  {
   "cell_type": "markdown",
   "id": "26f836ca",
   "metadata": {},
   "source": [
    "# Spatial ResolVI Integration Testing\n",
    "\n",
    "This notebook tests the spatial encoder integration in ResolVI using real spatial transcriptomics data. It follows the proven methodology from test_arrayed_perturb.ipynb but validates that the spatial encoder is properly integrated and provides meaningful spatial-aware perturbation predictions.\n",
    "\n",
    "## Test Objectives:\n",
    "1. **Validate Spatial Encoder Integration** - Ensure spatial encoder is properly connected to shift network\n",
    "2. **Test Spatial Data Pipeline** - Verify spatial coordinates flow through the model correctly  \n",
    "3. **Compare Spatial vs Non-Spatial Effects** - Demonstrate spatial context improves perturbation predictions\n",
    "4. **Spatial Pattern Analysis** - Show spatial relationships in perturbation effects"
   ]
  },
  {
   "cell_type": "code",
   "execution_count": 1,
   "id": "bba3e744",
   "metadata": {},
   "outputs": [],
   "source": [
    "# Standard imports\n",
    "import os\n",
    "import tempfile\n",
    "import warnings\n",
    "import matplotlib.pyplot as plt\n",
    "import numpy as np\n",
    "import scanpy as sc\n",
    "import pandas as pd\n",
    "import seaborn as sns\n",
    "import torch\n",
    "from scipy.spatial import distance_matrix\n",
    "from scipy.stats import pearsonr\n",
    "import anndata as ad"
   ]
  },
  {
   "cell_type": "markdown",
   "id": "c58e26e0",
   "metadata": {},
   "source": [
    "Data Loading"
   ]
  },
  {
   "cell_type": "code",
   "execution_count": 2,
   "id": "cf88a53c",
   "metadata": {},
   "outputs": [
    {
     "name": "stdout",
     "output_type": "stream",
     "text": [
      "Loaded data shape: (810225, 480)\n",
      "Available obs keys: ['x_centroid', 'y_centroid', 'transcript_counts', 'control_probe_counts', 'genomic_control_counts', 'control_codeword_counts', 'unassigned_codeword_counts', 'deprecated_codeword_counts', 'total_counts', 'cell_area', 'nucleus_area', 'nucleus_count', 'segmentation_method', 'total_transcripts', 'nuclear_transcripts', 'cytoplasmic_transcripts', 'nuclear_transcript_percentage', 'topic', 'batch', '_scvi_batch', '_scvi_labels', 'leiden', 'Class', 'reference_crypt_villi', 'villi_number', 'peyers', 'Topic 1', 'Topic 2', 'Topic 3', 'Topic 4', 'Topic 5', 'Topic 6', 'Topic 7', 'Topic 8', 'Topic 9', 'Topic 10', 'Topic 11', 'Topic 12', 'Topic 13', 'Topic 14', 'Topic 15', 'crypt_villi_axis', 'epithelial_distance', 'epithelial_distance_clipped', 'epithelial_distance_transformed', 'guide_rnas', 'cell_types', 'cluster_cellcharter', 'epithelial_distance_scaled']\n",
      "Available obsm keys: ['X_cellcharter', 'X_mde', 'X_pca', 'X_scVI_replicates', 'X_spatial']\n"
     ]
    }
   ],
   "source": [
    "# Load real data (using your exact path)\n",
    "path_to_query_adata = \"/mnt/sata2/Analysis_Alex_2/perturb4_no_baysor/final_object_corrected.h5ad\"\n",
    "query_adata = sc.read(path_to_query_adata)\n",
    "\n",
    "print(f\"Loaded data shape: {query_adata.shape}\")\n",
    "print(f\"Available obs keys: {list(query_adata.obs.keys())}\")\n",
    "print(f\"Available obsm keys: {list(query_adata.obsm.keys())}\")"
   ]
  },
  {
   "cell_type": "markdown",
   "id": "3ebadc51",
   "metadata": {},
   "source": [
    "ResolVI Import"
   ]
  },
  {
   "cell_type": "code",
   "execution_count": 3,
   "id": "dddfab8c",
   "metadata": {},
   "outputs": [
    {
     "name": "stdout",
     "output_type": "stream",
     "text": [
      "Added to path: /home/dpatravali/Desktop/scvi-spatial/src\n"
     ]
    },
    {
     "name": "stderr",
     "output_type": "stream",
     "text": [
      "/home/dpatravali/miniforge3/envs/resolvi-env/lib/python3.11/site-packages/tqdm/auto.py:21: TqdmWarning: IProgress not found. Please update jupyter and ipywidgets. See https://ipywidgets.readthedocs.io/en/stable/user_install.html\n",
      "  from .autonotebook import tqdm as notebook_tqdm\n"
     ]
    },
    {
     "name": "stdout",
     "output_type": "stream",
     "text": [
      "Importing from: /home/dpatravali/Desktop/scvi-spatial/src/scvi/external/resolvi/__init__.py\n"
     ]
    },
    {
     "name": "stderr",
     "output_type": "stream",
     "text": [
      "/home/dpatravali/miniforge3/envs/resolvi-env/lib/python3.11/site-packages/docrep/decorators.py:43: SyntaxWarning: 'setup_anndata.full_desc' is not a valid key!\n",
      "  doc = func(self, args[0].__doc__, *args[1:], **kwargs)\n",
      "/home/dpatravali/miniforge3/envs/resolvi-env/lib/python3.11/site-packages/docrep/decorators.py:43: SyntaxWarning: 'setup_anndata.parameters' is not a valid key!\n",
      "  doc = func(self, args[0].__doc__, *args[1:], **kwargs)\n"
     ]
    }
   ],
   "source": [
    "import sys\n",
    "sys.path.insert(0, '/home/dpatravali/Desktop/scvi-spatial/src')\n",
    "print(\"Added to path:\", sys.path[0])\n",
    "\n",
    "import scvi.external.resolvi as RESOLVI\n",
    "import scvi\n",
    "print(\"Importing from:\", scvi.external.resolvi.__file__)\n",
    "\n",
    "# Import spatial encoder for direct testing\n",
    "from scvi.external.resolvi import SpatialEncoder"
   ]
  },
  {
   "cell_type": "markdown",
   "id": "b0903678",
   "metadata": {},
   "source": [
    "Setup"
   ]
  },
  {
   "cell_type": "markdown",
   "id": "c2e9c45f",
   "metadata": {},
   "source": [
    "# Spatial ResolVI Integration Testing\n",
    "\n",
    "This notebook tests the spatial encoder integration in ResolVI using real spatial transcriptomics data. It follows the proven methodology from test_arrayed_perturb.ipynb but validates that the spatial encoder is properly integrated and provides meaningful spatial-aware perturbation predictions.\n",
    "\n",
    "## Test Objectives:\n",
    "1. **Validate Spatial Encoder Integration** - Ensure spatial encoder is properly connected to shift network\n",
    "2. **Test Spatial Data Pipeline** - Verify spatial coordinates flow through the model correctly  \n",
    "3. **Compare Spatial vs Non-Spatial Effects** - Demonstrate spatial context improves perturbation predictions\n",
    "4. **Spatial Pattern Analysis** - Show spatial relationships in perturbation effects"
   ]
  },
  {
   "cell_type": "markdown",
   "id": "818485f7",
   "metadata": {},
   "source": [
    "Model Initialization"
   ]
  },
  {
   "cell_type": "markdown",
   "id": "602f966b",
   "metadata": {},
   "source": [
    "Training Setup"
   ]
  },
  {
   "cell_type": "code",
   "execution_count": 4,
   "id": "69de66ce",
   "metadata": {},
   "outputs": [
    {
     "name": "stdout",
     "output_type": "stream",
     "text": [
      "Loaded data shape: (810225, 480)\n",
      "Available obs keys: ['x_centroid', 'y_centroid', 'transcript_counts', 'control_probe_counts', 'genomic_control_counts', 'control_codeword_counts', 'unassigned_codeword_counts', 'deprecated_codeword_counts', 'total_counts', 'cell_area', 'nucleus_area', 'nucleus_count', 'segmentation_method', 'total_transcripts', 'nuclear_transcripts', 'cytoplasmic_transcripts', 'nuclear_transcript_percentage', 'topic', 'batch', '_scvi_batch', '_scvi_labels', 'leiden', 'Class', 'reference_crypt_villi', 'villi_number', 'peyers', 'Topic 1', 'Topic 2', 'Topic 3', 'Topic 4', 'Topic 5', 'Topic 6', 'Topic 7', 'Topic 8', 'Topic 9', 'Topic 10', 'Topic 11', 'Topic 12', 'Topic 13', 'Topic 14', 'Topic 15', 'crypt_villi_axis', 'epithelial_distance', 'epithelial_distance_clipped', 'epithelial_distance_transformed', 'guide_rnas', 'cell_types', 'cluster_cellcharter', 'epithelial_distance_scaled']\n",
      "Available obsm keys: ['X_cellcharter', 'X_mde', 'X_pca', 'X_scVI_replicates', 'X_spatial']\n"
     ]
    }
   ],
   "source": [
    "# Load real data (using your exact path)\n",
    "path_to_query_adata = \"/mnt/sata2/Analysis_Alex_2/perturb4_no_baysor/final_object_corrected.h5ad\"\n",
    "query_adata = sc.read(path_to_query_adata)\n",
    "\n",
    "print(f\"Loaded data shape: {query_adata.shape}\")\n",
    "print(f\"Available obs keys: {list(query_adata.obs.keys())}\")\n",
    "print(f\"Available obsm keys: {list(query_adata.obsm.keys())}\")"
   ]
  },
  {
   "cell_type": "markdown",
   "id": "09b86c0f",
   "metadata": {},
   "source": [
    "Training"
   ]
  },
  {
   "cell_type": "code",
   "execution_count": 5,
   "id": "dd6f92a7",
   "metadata": {},
   "outputs": [],
   "source": [
    "# # Import ResolVI with spatial capabilities\n",
    "# import sys\n",
    "# sys.path.insert(0, 'src')  # Adjust path to your scvi-tools source\n",
    "# print(\"Added to path:\", sys.path[0])\n",
    "\n",
    "# import scvi.external.resolvi as RESOLVI\n",
    "# import scvi\n",
    "# print(\"Importing from:\", scvi.external.resolvi.__file__)\n",
    "\n",
    "# # Import spatial encoder for direct testing\n",
    "# from scvi.external.resolvi import SpatialEncoder"
   ]
  },
  {
   "cell_type": "code",
   "execution_count": 6,
   "id": "9638e766",
   "metadata": {},
   "outputs": [
    {
     "data": {
      "text/plain": [
       "array([[ 703.83251953, 2350.98022461],\n",
       "       [ 717.39398193, 2364.40039062],\n",
       "       [ 706.7855835 , 2360.75854492],\n",
       "       ...,\n",
       "       [5484.81005859, 7346.80517578],\n",
       "       [5478.77685547, 7352.08691406],\n",
       "       [5532.67822266, 7486.91748047]], shape=(810225, 2))"
      ]
     },
     "execution_count": 6,
     "metadata": {},
     "output_type": "execute_result"
    }
   ],
   "source": [
    "query_adata.obsm[\"X_spatial\"]"
   ]
  },
  {
   "cell_type": "markdown",
   "id": "8bda35d0",
   "metadata": {},
   "source": [
    "Analysis"
   ]
  },
  {
   "cell_type": "code",
   "execution_count": 7,
   "id": "21300284",
   "metadata": {},
   "outputs": [
    {
     "data": {
      "text/html": [
       "<div>\n",
       "<style scoped>\n",
       "    .dataframe tbody tr th:only-of-type {\n",
       "        vertical-align: middle;\n",
       "    }\n",
       "\n",
       "    .dataframe tbody tr th {\n",
       "        vertical-align: top;\n",
       "    }\n",
       "\n",
       "    .dataframe thead th {\n",
       "        text-align: right;\n",
       "    }\n",
       "</style>\n",
       "<table border=\"1\" class=\"dataframe\">\n",
       "  <thead>\n",
       "    <tr style=\"text-align: right;\">\n",
       "      <th></th>\n",
       "      <th>x_centroid</th>\n",
       "      <th>y_centroid</th>\n",
       "      <th>transcript_counts</th>\n",
       "      <th>control_probe_counts</th>\n",
       "      <th>genomic_control_counts</th>\n",
       "      <th>control_codeword_counts</th>\n",
       "      <th>unassigned_codeword_counts</th>\n",
       "      <th>deprecated_codeword_counts</th>\n",
       "      <th>total_counts</th>\n",
       "      <th>cell_area</th>\n",
       "      <th>...</th>\n",
       "      <th>Topic 14</th>\n",
       "      <th>Topic 15</th>\n",
       "      <th>crypt_villi_axis</th>\n",
       "      <th>epithelial_distance</th>\n",
       "      <th>epithelial_distance_clipped</th>\n",
       "      <th>epithelial_distance_transformed</th>\n",
       "      <th>guide_rnas</th>\n",
       "      <th>cell_types</th>\n",
       "      <th>cluster_cellcharter</th>\n",
       "      <th>epithelial_distance_scaled</th>\n",
       "    </tr>\n",
       "  </thead>\n",
       "  <tbody>\n",
       "    <tr>\n",
       "      <th>aaaackdi-1</th>\n",
       "      <td>703.832520</td>\n",
       "      <td>2350.980225</td>\n",
       "      <td>256</td>\n",
       "      <td>0</td>\n",
       "      <td>0</td>\n",
       "      <td>0</td>\n",
       "      <td>0</td>\n",
       "      <td>0</td>\n",
       "      <td>256</td>\n",
       "      <td>50.123439</td>\n",
       "      <td>...</td>\n",
       "      <td>0.037465</td>\n",
       "      <td>2.026178</td>\n",
       "      <td>0.934038</td>\n",
       "      <td>0.076727</td>\n",
       "      <td>0.071227</td>\n",
       "      <td>-0.936883</td>\n",
       "      <td>Other cells</td>\n",
       "      <td>Enterocytes</td>\n",
       "      <td>1</td>\n",
       "      <td>0.071227</td>\n",
       "    </tr>\n",
       "    <tr>\n",
       "      <th>aaaaddii-1</th>\n",
       "      <td>717.393982</td>\n",
       "      <td>2364.400391</td>\n",
       "      <td>487</td>\n",
       "      <td>0</td>\n",
       "      <td>0</td>\n",
       "      <td>0</td>\n",
       "      <td>0</td>\n",
       "      <td>0</td>\n",
       "      <td>487</td>\n",
       "      <td>111.897192</td>\n",
       "      <td>...</td>\n",
       "      <td>0.878993</td>\n",
       "      <td>1.372876</td>\n",
       "      <td>0.920061</td>\n",
       "      <td>0.076727</td>\n",
       "      <td>0.073572</td>\n",
       "      <td>-0.936883</td>\n",
       "      <td>Other cells</td>\n",
       "      <td>Enterocytes</td>\n",
       "      <td>1</td>\n",
       "      <td>0.073572</td>\n",
       "    </tr>\n",
       "    <tr>\n",
       "      <th>aaaafjep-1</th>\n",
       "      <td>706.785583</td>\n",
       "      <td>2360.758545</td>\n",
       "      <td>317</td>\n",
       "      <td>0</td>\n",
       "      <td>0</td>\n",
       "      <td>0</td>\n",
       "      <td>0</td>\n",
       "      <td>0</td>\n",
       "      <td>317</td>\n",
       "      <td>73.424065</td>\n",
       "      <td>...</td>\n",
       "      <td>0.296977</td>\n",
       "      <td>1.588671</td>\n",
       "      <td>0.925218</td>\n",
       "      <td>0.076727</td>\n",
       "      <td>0.067487</td>\n",
       "      <td>-0.936883</td>\n",
       "      <td>Other cells</td>\n",
       "      <td>Enterocytes</td>\n",
       "      <td>1</td>\n",
       "      <td>0.067487</td>\n",
       "    </tr>\n",
       "    <tr>\n",
       "      <th>aaaaklej-1</th>\n",
       "      <td>709.713379</td>\n",
       "      <td>2355.399902</td>\n",
       "      <td>402</td>\n",
       "      <td>0</td>\n",
       "      <td>0</td>\n",
       "      <td>0</td>\n",
       "      <td>0</td>\n",
       "      <td>0</td>\n",
       "      <td>402</td>\n",
       "      <td>72.791878</td>\n",
       "      <td>...</td>\n",
       "      <td>0.232374</td>\n",
       "      <td>1.598706</td>\n",
       "      <td>0.926149</td>\n",
       "      <td>0.076727</td>\n",
       "      <td>0.073855</td>\n",
       "      <td>-0.936883</td>\n",
       "      <td>Other cells</td>\n",
       "      <td>Enterocytes</td>\n",
       "      <td>1</td>\n",
       "      <td>0.073855</td>\n",
       "    </tr>\n",
       "    <tr>\n",
       "      <th>aaaakpai-1</th>\n",
       "      <td>744.997314</td>\n",
       "      <td>2352.819092</td>\n",
       "      <td>172</td>\n",
       "      <td>0</td>\n",
       "      <td>0</td>\n",
       "      <td>0</td>\n",
       "      <td>0</td>\n",
       "      <td>0</td>\n",
       "      <td>172</td>\n",
       "      <td>41.543752</td>\n",
       "      <td>...</td>\n",
       "      <td>1.491616</td>\n",
       "      <td>1.023234</td>\n",
       "      <td>0.906294</td>\n",
       "      <td>0.087120</td>\n",
       "      <td>0.087120</td>\n",
       "      <td>-0.807832</td>\n",
       "      <td>Other cells</td>\n",
       "      <td>Enterocytes</td>\n",
       "      <td>1</td>\n",
       "      <td>0.087120</td>\n",
       "    </tr>\n",
       "    <tr>\n",
       "      <th>...</th>\n",
       "      <td>...</td>\n",
       "      <td>...</td>\n",
       "      <td>...</td>\n",
       "      <td>...</td>\n",
       "      <td>...</td>\n",
       "      <td>...</td>\n",
       "      <td>...</td>\n",
       "      <td>...</td>\n",
       "      <td>...</td>\n",
       "      <td>...</td>\n",
       "      <td>...</td>\n",
       "      <td>...</td>\n",
       "      <td>...</td>\n",
       "      <td>...</td>\n",
       "      <td>...</td>\n",
       "      <td>...</td>\n",
       "      <td>...</td>\n",
       "      <td>...</td>\n",
       "      <td>...</td>\n",
       "      <td>...</td>\n",
       "      <td>...</td>\n",
       "    </tr>\n",
       "    <tr>\n",
       "      <th>oinanmfc-1</th>\n",
       "      <td>5558.731445</td>\n",
       "      <td>7586.157227</td>\n",
       "      <td>45</td>\n",
       "      <td>0</td>\n",
       "      <td>0</td>\n",
       "      <td>0</td>\n",
       "      <td>0</td>\n",
       "      <td>0</td>\n",
       "      <td>45</td>\n",
       "      <td>43.124220</td>\n",
       "      <td>...</td>\n",
       "      <td>-0.279271</td>\n",
       "      <td>-0.579267</td>\n",
       "      <td>0.387358</td>\n",
       "      <td>0.151869</td>\n",
       "      <td>0.151869</td>\n",
       "      <td>-0.075063</td>\n",
       "      <td>Other cells</td>\n",
       "      <td>Macrophages</td>\n",
       "      <td>2</td>\n",
       "      <td>0.151869</td>\n",
       "    </tr>\n",
       "    <tr>\n",
       "      <th>oinaojph-1</th>\n",
       "      <td>5561.004395</td>\n",
       "      <td>7594.268555</td>\n",
       "      <td>25</td>\n",
       "      <td>0</td>\n",
       "      <td>0</td>\n",
       "      <td>0</td>\n",
       "      <td>0</td>\n",
       "      <td>0</td>\n",
       "      <td>25</td>\n",
       "      <td>32.377032</td>\n",
       "      <td>...</td>\n",
       "      <td>-0.279271</td>\n",
       "      <td>-0.579267</td>\n",
       "      <td>0.405426</td>\n",
       "      <td>0.125362</td>\n",
       "      <td>0.125362</td>\n",
       "      <td>-0.360792</td>\n",
       "      <td>Other cells</td>\n",
       "      <td>Plasma Cells</td>\n",
       "      <td>4</td>\n",
       "      <td>0.125362</td>\n",
       "    </tr>\n",
       "    <tr>\n",
       "      <th>oinbbbgh-1</th>\n",
       "      <td>5484.810059</td>\n",
       "      <td>7346.805176</td>\n",
       "      <td>32</td>\n",
       "      <td>0</td>\n",
       "      <td>0</td>\n",
       "      <td>0</td>\n",
       "      <td>0</td>\n",
       "      <td>0</td>\n",
       "      <td>32</td>\n",
       "      <td>67.327971</td>\n",
       "      <td>...</td>\n",
       "      <td>1.618375</td>\n",
       "      <td>0.876619</td>\n",
       "      <td>0.920581</td>\n",
       "      <td>0.114040</td>\n",
       "      <td>0.114040</td>\n",
       "      <td>-0.488728</td>\n",
       "      <td>Other cells</td>\n",
       "      <td>Fibroblasts/Mesenchymal Cells</td>\n",
       "      <td>4</td>\n",
       "      <td>0.114040</td>\n",
       "    </tr>\n",
       "    <tr>\n",
       "      <th>oinbfame-1</th>\n",
       "      <td>5478.776855</td>\n",
       "      <td>7352.086914</td>\n",
       "      <td>26</td>\n",
       "      <td>0</td>\n",
       "      <td>0</td>\n",
       "      <td>0</td>\n",
       "      <td>0</td>\n",
       "      <td>0</td>\n",
       "      <td>26</td>\n",
       "      <td>37.615158</td>\n",
       "      <td>...</td>\n",
       "      <td>2.359092</td>\n",
       "      <td>0.677170</td>\n",
       "      <td>0.934221</td>\n",
       "      <td>0.116618</td>\n",
       "      <td>0.116618</td>\n",
       "      <td>-0.459282</td>\n",
       "      <td>Other cells</td>\n",
       "      <td>Endothelial Cells</td>\n",
       "      <td>4</td>\n",
       "      <td>0.116618</td>\n",
       "    </tr>\n",
       "    <tr>\n",
       "      <th>oinccnoo-1</th>\n",
       "      <td>5532.678223</td>\n",
       "      <td>7486.917480</td>\n",
       "      <td>38</td>\n",
       "      <td>0</td>\n",
       "      <td>0</td>\n",
       "      <td>0</td>\n",
       "      <td>0</td>\n",
       "      <td>0</td>\n",
       "      <td>38</td>\n",
       "      <td>17.204532</td>\n",
       "      <td>...</td>\n",
       "      <td>-0.279271</td>\n",
       "      <td>-0.579267</td>\n",
       "      <td>0.204679</td>\n",
       "      <td>0.256284</td>\n",
       "      <td>0.200000</td>\n",
       "      <td>0.883241</td>\n",
       "      <td>Other cells</td>\n",
       "      <td>Smooth Muscle Cells</td>\n",
       "      <td>2</td>\n",
       "      <td>0.256284</td>\n",
       "    </tr>\n",
       "  </tbody>\n",
       "</table>\n",
       "<p>810225 rows × 49 columns</p>\n",
       "</div>"
      ],
      "text/plain": [
       "             x_centroid   y_centroid  transcript_counts  control_probe_counts  \\\n",
       "aaaackdi-1   703.832520  2350.980225                256                     0   \n",
       "aaaaddii-1   717.393982  2364.400391                487                     0   \n",
       "aaaafjep-1   706.785583  2360.758545                317                     0   \n",
       "aaaaklej-1   709.713379  2355.399902                402                     0   \n",
       "aaaakpai-1   744.997314  2352.819092                172                     0   \n",
       "...                 ...          ...                ...                   ...   \n",
       "oinanmfc-1  5558.731445  7586.157227                 45                     0   \n",
       "oinaojph-1  5561.004395  7594.268555                 25                     0   \n",
       "oinbbbgh-1  5484.810059  7346.805176                 32                     0   \n",
       "oinbfame-1  5478.776855  7352.086914                 26                     0   \n",
       "oinccnoo-1  5532.678223  7486.917480                 38                     0   \n",
       "\n",
       "            genomic_control_counts  control_codeword_counts  \\\n",
       "aaaackdi-1                       0                        0   \n",
       "aaaaddii-1                       0                        0   \n",
       "aaaafjep-1                       0                        0   \n",
       "aaaaklej-1                       0                        0   \n",
       "aaaakpai-1                       0                        0   \n",
       "...                            ...                      ...   \n",
       "oinanmfc-1                       0                        0   \n",
       "oinaojph-1                       0                        0   \n",
       "oinbbbgh-1                       0                        0   \n",
       "oinbfame-1                       0                        0   \n",
       "oinccnoo-1                       0                        0   \n",
       "\n",
       "            unassigned_codeword_counts  deprecated_codeword_counts  \\\n",
       "aaaackdi-1                           0                           0   \n",
       "aaaaddii-1                           0                           0   \n",
       "aaaafjep-1                           0                           0   \n",
       "aaaaklej-1                           0                           0   \n",
       "aaaakpai-1                           0                           0   \n",
       "...                                ...                         ...   \n",
       "oinanmfc-1                           0                           0   \n",
       "oinaojph-1                           0                           0   \n",
       "oinbbbgh-1                           0                           0   \n",
       "oinbfame-1                           0                           0   \n",
       "oinccnoo-1                           0                           0   \n",
       "\n",
       "            total_counts   cell_area  ...  Topic 14  Topic 15  \\\n",
       "aaaackdi-1           256   50.123439  ...  0.037465  2.026178   \n",
       "aaaaddii-1           487  111.897192  ...  0.878993  1.372876   \n",
       "aaaafjep-1           317   73.424065  ...  0.296977  1.588671   \n",
       "aaaaklej-1           402   72.791878  ...  0.232374  1.598706   \n",
       "aaaakpai-1           172   41.543752  ...  1.491616  1.023234   \n",
       "...                  ...         ...  ...       ...       ...   \n",
       "oinanmfc-1            45   43.124220  ... -0.279271 -0.579267   \n",
       "oinaojph-1            25   32.377032  ... -0.279271 -0.579267   \n",
       "oinbbbgh-1            32   67.327971  ...  1.618375  0.876619   \n",
       "oinbfame-1            26   37.615158  ...  2.359092  0.677170   \n",
       "oinccnoo-1            38   17.204532  ... -0.279271 -0.579267   \n",
       "\n",
       "           crypt_villi_axis  epithelial_distance  epithelial_distance_clipped  \\\n",
       "aaaackdi-1         0.934038             0.076727                     0.071227   \n",
       "aaaaddii-1         0.920061             0.076727                     0.073572   \n",
       "aaaafjep-1         0.925218             0.076727                     0.067487   \n",
       "aaaaklej-1         0.926149             0.076727                     0.073855   \n",
       "aaaakpai-1         0.906294             0.087120                     0.087120   \n",
       "...                     ...                  ...                          ...   \n",
       "oinanmfc-1         0.387358             0.151869                     0.151869   \n",
       "oinaojph-1         0.405426             0.125362                     0.125362   \n",
       "oinbbbgh-1         0.920581             0.114040                     0.114040   \n",
       "oinbfame-1         0.934221             0.116618                     0.116618   \n",
       "oinccnoo-1         0.204679             0.256284                     0.200000   \n",
       "\n",
       "            epithelial_distance_transformed   guide_rnas  \\\n",
       "aaaackdi-1                        -0.936883  Other cells   \n",
       "aaaaddii-1                        -0.936883  Other cells   \n",
       "aaaafjep-1                        -0.936883  Other cells   \n",
       "aaaaklej-1                        -0.936883  Other cells   \n",
       "aaaakpai-1                        -0.807832  Other cells   \n",
       "...                                     ...          ...   \n",
       "oinanmfc-1                        -0.075063  Other cells   \n",
       "oinaojph-1                        -0.360792  Other cells   \n",
       "oinbbbgh-1                        -0.488728  Other cells   \n",
       "oinbfame-1                        -0.459282  Other cells   \n",
       "oinccnoo-1                         0.883241  Other cells   \n",
       "\n",
       "                               cell_types cluster_cellcharter  \\\n",
       "aaaackdi-1                    Enterocytes                   1   \n",
       "aaaaddii-1                    Enterocytes                   1   \n",
       "aaaafjep-1                    Enterocytes                   1   \n",
       "aaaaklej-1                    Enterocytes                   1   \n",
       "aaaakpai-1                    Enterocytes                   1   \n",
       "...                                   ...                 ...   \n",
       "oinanmfc-1                    Macrophages                   2   \n",
       "oinaojph-1                   Plasma Cells                   4   \n",
       "oinbbbgh-1  Fibroblasts/Mesenchymal Cells                   4   \n",
       "oinbfame-1              Endothelial Cells                   4   \n",
       "oinccnoo-1            Smooth Muscle Cells                   2   \n",
       "\n",
       "            epithelial_distance_scaled  \n",
       "aaaackdi-1                    0.071227  \n",
       "aaaaddii-1                    0.073572  \n",
       "aaaafjep-1                    0.067487  \n",
       "aaaaklej-1                    0.073855  \n",
       "aaaakpai-1                    0.087120  \n",
       "...                                ...  \n",
       "oinanmfc-1                    0.151869  \n",
       "oinaojph-1                    0.125362  \n",
       "oinbbbgh-1                    0.114040  \n",
       "oinbfame-1                    0.116618  \n",
       "oinccnoo-1                    0.256284  \n",
       "\n",
       "[810225 rows x 49 columns]"
      ]
     },
     "execution_count": 7,
     "metadata": {},
     "output_type": "execute_result"
    }
   ],
   "source": [
    "query_adata.obs"
   ]
  },
  {
   "cell_type": "code",
   "execution_count": 8,
   "id": "74fc73df",
   "metadata": {},
   "outputs": [
    {
     "name": "stderr",
     "output_type": "stream",
     "text": [
      "/home/dpatravali/miniforge3/envs/resolvi-env/lib/python3.11/site-packages/numba/np/ufunc/parallel.py:371: NumbaWarning: \u001b[1mThe TBB threading layer requires TBB version 2021 update 6 or later i.e., TBB_INTERFACE_VERSION >= 12060. Found TBB_INTERFACE_VERSION = 12050. The TBB threading layer is disabled.\u001b[0m\n",
      "  warnings.warn(problem)\n"
     ]
    },
    {
     "name": "stdout",
     "output_type": "stream",
     "text": [
      "\u001b[34mINFO    \u001b[0m Generating sequential column names                                                                        \n",
      "\u001b[34mINFO    \u001b[0m Generating sequential column names                                                                        \n"
     ]
    },
    {
     "name": "stderr",
     "output_type": "stream",
     "text": [
      "/home/dpatravali/Desktop/scvi-spatial/src/scvi/data/fields/_dataframe_field.py:187: UserWarning: Category 0 in adata.obs['_scvi_ind_x'] has fewer than 3 cells. Models may not train properly.\n",
      "  categorical_mapping = _make_column_categorical(\n"
     ]
    },
    {
     "name": "stdout",
     "output_type": "stream",
     "text": [
      "\u001b[34mINFO    \u001b[0m Generating sequential column names                                                                        \n"
     ]
    }
   ],
   "source": [
    "# Setup anndata with spatial coordinates\n",
    "RESOLVI.RESOLVI.setup_anndata(\n",
    "    query_adata, \n",
    "    labels_key=\"cell_types\",\n",
    "    layer=\"raw\",\n",
    "    batch_key=\"batch\", \n",
    "    perturbation_key=\"guide_rnas\", \n",
    "    control_perturbation=\"sgCd19\",\n",
    "    spatial_key=\"X_spatial\",\n",
    "    background_key=\"guide_rnas\",\n",
    "    background_category=\"Other cells\",\n",
    "    categorical_covariate_keys=[\"batch\"]\n",
    ")"
   ]
  },
  {
   "cell_type": "markdown",
   "id": "82d5be0d",
   "metadata": {},
   "source": [
    "Effects Calculation"
   ]
  },
  {
   "cell_type": "code",
   "execution_count": 9,
   "id": "748edd62",
   "metadata": {},
   "outputs": [
    {
     "name": "stdout",
     "output_type": "stream",
     "text": [
      "✅ Spatial RESOLVI model initialized successfully\n",
      "✅ Model has spatial encoder: True\n",
      "   Spatial encoder type: SpatialEncoder\n",
      "   Spatial encoder input dim: 2\n",
      "   Spatial encoder output dim: 32\n"
     ]
    }
   ],
   "source": [
    "# Initialize model with spatial parameters (following your methodology)\n",
    "spatial_resolvi = RESOLVI.RESOLVI(\n",
    "    query_adata,\n",
    "    semisupervised=True,  # Following your approach\n",
    "    n_latent=32,          # Following your parameters\n",
    "    perturbation_hidden_dim=128,  # Following your parameters\n",
    "    n_input_spatial=2,    # NEW: spatial input dimension\n",
    "    control_penalty_weight=1.0\n",
    ")\n",
    "\n",
    "print(\"✅ Spatial RESOLVI model initialized successfully\")\n",
    "\n",
    "# Verify spatial encoder is present\n",
    "has_spatial_encoder = hasattr(spatial_resolvi.module.model, 'spatial_encoder')\n",
    "print(f\"✅ Model has spatial encoder: {has_spatial_encoder}\")\n",
    "\n",
    "if has_spatial_encoder:\n",
    "    spatial_encoder = spatial_resolvi.module.model.spatial_encoder\n",
    "    print(f\"   Spatial encoder type: {type(spatial_encoder).__name__}\")\n",
    "    print(f\"   Spatial encoder input dim: {spatial_encoder.encoder[0].in_features}\")\n",
    "    print(f\"   Spatial encoder output dim: {spatial_encoder.mean_encoder.out_features}\")"
   ]
  },
  {
   "cell_type": "markdown",
   "id": "7f8cdaf8",
   "metadata": {},
   "source": [
    "Spatial Analysis"
   ]
  },
  {
   "cell_type": "code",
   "execution_count": 10,
   "id": "5d62d48e",
   "metadata": {},
   "outputs": [
    {
     "name": "stdout",
     "output_type": "stream",
     "text": [
      "Dataset priors: {'background_ratio': np.float32(0.00067531277), 'median_distance': np.float64(372.9849853515625), 'mean_log_counts': np.float32(5.433722), 'std_log_counts': np.float32(0.8109416)}\n"
     ]
    }
   ],
   "source": [
    "# Get dataset-dependent priors (following your methodology)\n",
    "priors = spatial_resolvi.compute_dataset_dependent_priors()\n",
    "print(f\"Dataset priors: {priors}\")\n",
    "\n",
    "spatial_resolvi.module.guide.downsample_counts_mean = priors[\"mean_log_counts\"]\n",
    "spatial_resolvi.module.guide.downsample_counts_std  = priors[\"std_log_counts\"]\n",
    "\n",
    "# Convert downsample parameters (following your approach)\n",
    "spatial_resolvi.module.guide.downsample_counts_mean = float(\n",
    "    spatial_resolvi.module.guide.downsample_counts_mean\n",
    ")\n",
    "spatial_resolvi.module.guide.downsample_counts_std = float(\n",
    "    spatial_resolvi.module.guide.downsample_counts_std\n",
    ")"
   ]
  },
  {
   "cell_type": "markdown",
   "id": "f6611ad1",
   "metadata": {},
   "source": [
    "Save Results"
   ]
  },
  {
   "cell_type": "code",
   "execution_count": 11,
   "id": "a58f26e8",
   "metadata": {},
   "outputs": [
    {
     "name": "stderr",
     "output_type": "stream",
     "text": [
      "GPU available: True (cuda), used: True\n",
      "TPU available: False, using: 0 TPU cores\n",
      "HPU available: False, using: 0 HPUs\n",
      "/home/dpatravali/miniforge3/envs/resolvi-env/lib/python3.11/site-packages/lightning/pytorch/trainer/configuration_validator.py:68: You passed in a `val_dataloader` but have no `validation_step`. Skipping val loop.\n",
      "You are using a CUDA device ('NVIDIA RTX A6000') that has Tensor Cores. To properly utilize them, you should set `torch.set_float32_matmul_precision('medium' | 'high')` which will trade-off precision for performance. For more details, read https://pytorch.org/docs/stable/generated/torch.set_float32_matmul_precision.html#torch.set_float32_matmul_precision\n",
      "LOCAL_RANK: 0 - CUDA_VISIBLE_DEVICES: [0]\n"
     ]
    },
    {
     "name": "stdout",
     "output_type": "stream",
     "text": [
      "Starting training with spatial integration...\n",
      "Training configuration with train_on_perturbed_only=True:\n",
      "  Training set: 2465 perturbation-relevant cells (0.3%)\n",
      "    - Control cells: 454 (0.1%)\n",
      "    - Perturbed cells: 2011 (0.2%)\n",
      "  Excluded from training: 807760 background cells (99.7%)\n",
      "  Background/neighbor computations: all 810225 cells\n"
     ]
    },
    {
     "name": "stderr",
     "output_type": "stream",
     "text": [
      "/home/dpatravali/miniforge3/envs/resolvi-env/lib/python3.11/site-packages/lightning/pytorch/trainer/connectors/data_connector.py:425: The 'train_dataloader' does not have many workers which may be a bottleneck. Consider increasing the value of the `num_workers` argument` to `num_workers=127` in the `DataLoader` to improve performance.\n",
      "/home/dpatravali/miniforge3/envs/resolvi-env/lib/python3.11/site-packages/lightning/pytorch/loops/fit_loop.py:310: The number of training batches (5) is smaller than the logging interval Trainer(log_every_n_steps=10). Set a lower value for log_every_n_steps if you want to see logs for the training epoch.\n"
     ]
    },
    {
     "ename": "TypeError",
     "evalue": "unsupported operand type(s) for /: 'NoneType' and 'float'",
     "output_type": "error",
     "traceback": [
      "\u001b[31m---------------------------------------------------------------------------\u001b[39m",
      "\u001b[31mTypeError\u001b[39m                                 Traceback (most recent call last)",
      "\u001b[36mCell\u001b[39m\u001b[36m \u001b[39m\u001b[32mIn[11]\u001b[39m\u001b[32m, line 3\u001b[39m\n\u001b[32m      1\u001b[39m \u001b[38;5;66;03m# Train with perturbation focus (following your methodology)\u001b[39;00m\n\u001b[32m      2\u001b[39m \u001b[38;5;28mprint\u001b[39m(\u001b[33m\"\u001b[39m\u001b[33mStarting training with spatial integration...\u001b[39m\u001b[33m\"\u001b[39m)\n\u001b[32m----> \u001b[39m\u001b[32m3\u001b[39m \u001b[43mspatial_resolvi\u001b[49m\u001b[43m.\u001b[49m\u001b[43mtrain\u001b[49m\u001b[43m(\u001b[49m\n\u001b[32m      4\u001b[39m \u001b[43m    \u001b[49m\u001b[43mmax_epochs\u001b[49m\u001b[43m=\u001b[49m\u001b[32;43m100\u001b[39;49m\u001b[43m,\u001b[49m\n\u001b[32m      5\u001b[39m \u001b[43m    \u001b[49m\u001b[43mcheck_val_every_n_epoch\u001b[49m\u001b[43m=\u001b[49m\u001b[32;43m100\u001b[39;49m\u001b[43m,\u001b[49m\n\u001b[32m      6\u001b[39m \u001b[43m    \u001b[49m\u001b[43mlr\u001b[49m\u001b[43m=\u001b[49m\u001b[32;43m3e-4\u001b[39;49m\u001b[43m,\u001b[49m\u001b[43m       \u001b[49m\u001b[38;5;66;43;03m# Following your parameters\u001b[39;49;00m\n\u001b[32m      7\u001b[39m \u001b[43m    \u001b[49m\u001b[43mtrain_on_perturbed_only\u001b[49m\u001b[43m=\u001b[49m\u001b[38;5;28;43;01mTrue\u001b[39;49;00m\u001b[43m  \u001b[49m\u001b[38;5;66;43;03m# Following your methodology\u001b[39;49;00m\n\u001b[32m      8\u001b[39m \u001b[43m)\u001b[49m\n",
      "\u001b[36mFile \u001b[39m\u001b[32m~/Desktop/scvi-spatial/src/scvi/external/resolvi/_model.py:498\u001b[39m, in \u001b[36mRESOLVI.train\u001b[39m\u001b[34m(self, max_epochs, lr, lr_extra, extra_lr_parameters, batch_size, weight_decay, eps, n_steps_kl_warmup, n_epochs_kl_warmup, plan_kwargs, expose_params, train_on_perturbed_only, **kwargs)\u001b[39m\n\u001b[32m    481\u001b[39m     plan_kwargs = {}\n\u001b[32m    482\u001b[39m plan_kwargs.update(\n\u001b[32m    483\u001b[39m     {\n\u001b[32m    484\u001b[39m         \u001b[33m\"\u001b[39m\u001b[33moptim_kwargs\u001b[39m\u001b[33m\"\u001b[39m: {\u001b[33m\"\u001b[39m\u001b[33mlr\u001b[39m\u001b[33m\"\u001b[39m: lr, \u001b[33m\"\u001b[39m\u001b[33mweight_decay\u001b[39m\u001b[33m\"\u001b[39m: weight_decay, \u001b[33m\"\u001b[39m\u001b[33meps\u001b[39m\u001b[33m\"\u001b[39m: eps},\n\u001b[32m   (...)\u001b[39m\u001b[32m    495\u001b[39m     }\n\u001b[32m    496\u001b[39m )\n\u001b[32m--> \u001b[39m\u001b[32m498\u001b[39m \u001b[38;5;28;43msuper\u001b[39;49m\u001b[43m(\u001b[49m\u001b[43m)\u001b[49m\u001b[43m.\u001b[49m\u001b[43mtrain\u001b[49m\u001b[43m(\u001b[49m\n\u001b[32m    499\u001b[39m \u001b[43m    \u001b[49m\u001b[43mmax_epochs\u001b[49m\u001b[43m=\u001b[49m\u001b[43mmax_epochs\u001b[49m\u001b[43m,\u001b[49m\n\u001b[32m    500\u001b[39m \u001b[43m    \u001b[49m\u001b[43mtrain_size\u001b[49m\u001b[43m=\u001b[49m\u001b[32;43m1.0\u001b[39;49m\u001b[43m,\u001b[49m\n\u001b[32m    501\u001b[39m \u001b[43m    \u001b[49m\u001b[43mplan_kwargs\u001b[49m\u001b[43m=\u001b[49m\u001b[43mplan_kwargs\u001b[49m\u001b[43m,\u001b[49m\n\u001b[32m    502\u001b[39m \u001b[43m    \u001b[49m\u001b[43mbatch_size\u001b[49m\u001b[43m=\u001b[49m\u001b[43mbatch_size\u001b[49m\u001b[43m,\u001b[49m\n\u001b[32m    503\u001b[39m \u001b[43m    \u001b[49m\u001b[43m*\u001b[49m\u001b[43m*\u001b[49m\u001b[43mkwargs\u001b[49m\u001b[43m,\u001b[49m\n\u001b[32m    504\u001b[39m \u001b[43m\u001b[49m\u001b[43m)\u001b[49m\n",
      "\u001b[36mFile \u001b[39m\u001b[32m~/Desktop/scvi-spatial/src/scvi/model/base/_pyromixin.py:199\u001b[39m, in \u001b[36mPyroSviTrainMixin.train\u001b[39m\u001b[34m(self, max_epochs, accelerator, device, train_size, validation_size, shuffle_set_split, batch_size, early_stopping, lr, training_plan, datasplitter_kwargs, plan_kwargs, **trainer_kwargs)\u001b[39m\n\u001b[32m    188\u001b[39m trainer_kwargs[\u001b[33m\"\u001b[39m\u001b[33mcallbacks\u001b[39m\u001b[33m\"\u001b[39m].append(PyroJitGuideWarmup())\n\u001b[32m    190\u001b[39m runner = \u001b[38;5;28mself\u001b[39m._train_runner_cls(\n\u001b[32m    191\u001b[39m     \u001b[38;5;28mself\u001b[39m,\n\u001b[32m    192\u001b[39m     training_plan=training_plan,\n\u001b[32m   (...)\u001b[39m\u001b[32m    197\u001b[39m     **trainer_kwargs,\n\u001b[32m    198\u001b[39m )\n\u001b[32m--> \u001b[39m\u001b[32m199\u001b[39m \u001b[38;5;28;01mreturn\u001b[39;00m \u001b[43mrunner\u001b[49m\u001b[43m(\u001b[49m\u001b[43m)\u001b[49m\n",
      "\u001b[36mFile \u001b[39m\u001b[32m~/Desktop/scvi-spatial/src/scvi/train/_trainrunner.py:113\u001b[39m, in \u001b[36mTrainRunner.__call__\u001b[39m\u001b[34m(self)\u001b[39m\n\u001b[32m    110\u001b[39m     \u001b[38;5;28mself\u001b[39m.training_plan.n_obs_validation = \u001b[38;5;28mself\u001b[39m.data_splitter.n_val\n\u001b[32m    112\u001b[39m \u001b[38;5;28;01mtry\u001b[39;00m:\n\u001b[32m--> \u001b[39m\u001b[32m113\u001b[39m     \u001b[38;5;28;43mself\u001b[39;49m\u001b[43m.\u001b[49m\u001b[43mtrainer\u001b[49m\u001b[43m.\u001b[49m\u001b[43mfit\u001b[49m\u001b[43m(\u001b[49m\u001b[38;5;28;43mself\u001b[39;49m\u001b[43m.\u001b[49m\u001b[43mtraining_plan\u001b[49m\u001b[43m,\u001b[49m\u001b[43m \u001b[49m\u001b[38;5;28;43mself\u001b[39;49m\u001b[43m.\u001b[49m\u001b[43mdata_splitter\u001b[49m\u001b[43m)\u001b[49m\n\u001b[32m    114\u001b[39m \u001b[38;5;28;01mexcept\u001b[39;00m \u001b[38;5;167;01mNameError\u001b[39;00m:\n\u001b[32m    115\u001b[39m     \u001b[38;5;28;01mimport\u001b[39;00m\u001b[38;5;250m \u001b[39m\u001b[34;01mgc\u001b[39;00m\n",
      "\u001b[36mFile \u001b[39m\u001b[32m~/Desktop/scvi-spatial/src/scvi/train/_trainer.py:215\u001b[39m, in \u001b[36mTrainer.fit\u001b[39m\u001b[34m(self, *args, **kwargs)\u001b[39m\n\u001b[32m    209\u001b[39m     warnings.filterwarnings(\n\u001b[32m    210\u001b[39m         action=\u001b[33m\"\u001b[39m\u001b[33mignore\u001b[39m\u001b[33m\"\u001b[39m,\n\u001b[32m    211\u001b[39m         category=\u001b[38;5;167;01mUserWarning\u001b[39;00m,\n\u001b[32m    212\u001b[39m         message=\u001b[33m\"\u001b[39m\u001b[33m`LightningModule.configure_optimizers` returned `None`\u001b[39m\u001b[33m\"\u001b[39m,\n\u001b[32m    213\u001b[39m     )\n\u001b[32m    214\u001b[39m \u001b[38;5;28;01mtry\u001b[39;00m:\n\u001b[32m--> \u001b[39m\u001b[32m215\u001b[39m     \u001b[38;5;28;43msuper\u001b[39;49m\u001b[43m(\u001b[49m\u001b[43m)\u001b[49m\u001b[43m.\u001b[49m\u001b[43mfit\u001b[49m\u001b[43m(\u001b[49m\u001b[43m*\u001b[49m\u001b[43margs\u001b[49m\u001b[43m,\u001b[49m\u001b[43m \u001b[49m\u001b[43m*\u001b[49m\u001b[43m*\u001b[49m\u001b[43mkwargs\u001b[49m\u001b[43m)\u001b[49m\n\u001b[32m    216\u001b[39m \u001b[38;5;28;01mexcept\u001b[39;00m \u001b[38;5;167;01mNameError\u001b[39;00m:\n\u001b[32m    217\u001b[39m     \u001b[38;5;28;01mimport\u001b[39;00m\u001b[38;5;250m \u001b[39m\u001b[34;01mgc\u001b[39;00m\n",
      "\u001b[36mFile \u001b[39m\u001b[32m~/miniforge3/envs/resolvi-env/lib/python3.11/site-packages/lightning/pytorch/trainer/trainer.py:561\u001b[39m, in \u001b[36mTrainer.fit\u001b[39m\u001b[34m(self, model, train_dataloaders, val_dataloaders, datamodule, ckpt_path)\u001b[39m\n\u001b[32m    559\u001b[39m \u001b[38;5;28mself\u001b[39m.training = \u001b[38;5;28;01mTrue\u001b[39;00m\n\u001b[32m    560\u001b[39m \u001b[38;5;28mself\u001b[39m.should_stop = \u001b[38;5;28;01mFalse\u001b[39;00m\n\u001b[32m--> \u001b[39m\u001b[32m561\u001b[39m \u001b[43mcall\u001b[49m\u001b[43m.\u001b[49m\u001b[43m_call_and_handle_interrupt\u001b[49m\u001b[43m(\u001b[49m\n\u001b[32m    562\u001b[39m \u001b[43m    \u001b[49m\u001b[38;5;28;43mself\u001b[39;49m\u001b[43m,\u001b[49m\u001b[43m \u001b[49m\u001b[38;5;28;43mself\u001b[39;49m\u001b[43m.\u001b[49m\u001b[43m_fit_impl\u001b[49m\u001b[43m,\u001b[49m\u001b[43m \u001b[49m\u001b[43mmodel\u001b[49m\u001b[43m,\u001b[49m\u001b[43m \u001b[49m\u001b[43mtrain_dataloaders\u001b[49m\u001b[43m,\u001b[49m\u001b[43m \u001b[49m\u001b[43mval_dataloaders\u001b[49m\u001b[43m,\u001b[49m\u001b[43m \u001b[49m\u001b[43mdatamodule\u001b[49m\u001b[43m,\u001b[49m\u001b[43m \u001b[49m\u001b[43mckpt_path\u001b[49m\n\u001b[32m    563\u001b[39m \u001b[43m\u001b[49m\u001b[43m)\u001b[49m\n",
      "\u001b[36mFile \u001b[39m\u001b[32m~/miniforge3/envs/resolvi-env/lib/python3.11/site-packages/lightning/pytorch/trainer/call.py:48\u001b[39m, in \u001b[36m_call_and_handle_interrupt\u001b[39m\u001b[34m(trainer, trainer_fn, *args, **kwargs)\u001b[39m\n\u001b[32m     46\u001b[39m     \u001b[38;5;28;01mif\u001b[39;00m trainer.strategy.launcher \u001b[38;5;129;01mis\u001b[39;00m \u001b[38;5;129;01mnot\u001b[39;00m \u001b[38;5;28;01mNone\u001b[39;00m:\n\u001b[32m     47\u001b[39m         \u001b[38;5;28;01mreturn\u001b[39;00m trainer.strategy.launcher.launch(trainer_fn, *args, trainer=trainer, **kwargs)\n\u001b[32m---> \u001b[39m\u001b[32m48\u001b[39m     \u001b[38;5;28;01mreturn\u001b[39;00m \u001b[43mtrainer_fn\u001b[49m\u001b[43m(\u001b[49m\u001b[43m*\u001b[49m\u001b[43margs\u001b[49m\u001b[43m,\u001b[49m\u001b[43m \u001b[49m\u001b[43m*\u001b[49m\u001b[43m*\u001b[49m\u001b[43mkwargs\u001b[49m\u001b[43m)\u001b[49m\n\u001b[32m     50\u001b[39m \u001b[38;5;28;01mexcept\u001b[39;00m _TunerExitException:\n\u001b[32m     51\u001b[39m     _call_teardown_hook(trainer)\n",
      "\u001b[36mFile \u001b[39m\u001b[32m~/miniforge3/envs/resolvi-env/lib/python3.11/site-packages/lightning/pytorch/trainer/trainer.py:599\u001b[39m, in \u001b[36mTrainer._fit_impl\u001b[39m\u001b[34m(self, model, train_dataloaders, val_dataloaders, datamodule, ckpt_path)\u001b[39m\n\u001b[32m    592\u001b[39m     download_model_from_registry(ckpt_path, \u001b[38;5;28mself\u001b[39m)\n\u001b[32m    593\u001b[39m ckpt_path = \u001b[38;5;28mself\u001b[39m._checkpoint_connector._select_ckpt_path(\n\u001b[32m    594\u001b[39m     \u001b[38;5;28mself\u001b[39m.state.fn,\n\u001b[32m    595\u001b[39m     ckpt_path,\n\u001b[32m    596\u001b[39m     model_provided=\u001b[38;5;28;01mTrue\u001b[39;00m,\n\u001b[32m    597\u001b[39m     model_connected=\u001b[38;5;28mself\u001b[39m.lightning_module \u001b[38;5;129;01mis\u001b[39;00m \u001b[38;5;129;01mnot\u001b[39;00m \u001b[38;5;28;01mNone\u001b[39;00m,\n\u001b[32m    598\u001b[39m )\n\u001b[32m--> \u001b[39m\u001b[32m599\u001b[39m \u001b[38;5;28;43mself\u001b[39;49m\u001b[43m.\u001b[49m\u001b[43m_run\u001b[49m\u001b[43m(\u001b[49m\u001b[43mmodel\u001b[49m\u001b[43m,\u001b[49m\u001b[43m \u001b[49m\u001b[43mckpt_path\u001b[49m\u001b[43m=\u001b[49m\u001b[43mckpt_path\u001b[49m\u001b[43m)\u001b[49m\n\u001b[32m    601\u001b[39m \u001b[38;5;28;01massert\u001b[39;00m \u001b[38;5;28mself\u001b[39m.state.stopped\n\u001b[32m    602\u001b[39m \u001b[38;5;28mself\u001b[39m.training = \u001b[38;5;28;01mFalse\u001b[39;00m\n",
      "\u001b[36mFile \u001b[39m\u001b[32m~/miniforge3/envs/resolvi-env/lib/python3.11/site-packages/lightning/pytorch/trainer/trainer.py:1012\u001b[39m, in \u001b[36mTrainer._run\u001b[39m\u001b[34m(self, model, ckpt_path)\u001b[39m\n\u001b[32m   1007\u001b[39m \u001b[38;5;28mself\u001b[39m._signal_connector.register_signal_handlers()\n\u001b[32m   1009\u001b[39m \u001b[38;5;66;03m# ----------------------------\u001b[39;00m\n\u001b[32m   1010\u001b[39m \u001b[38;5;66;03m# RUN THE TRAINER\u001b[39;00m\n\u001b[32m   1011\u001b[39m \u001b[38;5;66;03m# ----------------------------\u001b[39;00m\n\u001b[32m-> \u001b[39m\u001b[32m1012\u001b[39m results = \u001b[38;5;28;43mself\u001b[39;49m\u001b[43m.\u001b[49m\u001b[43m_run_stage\u001b[49m\u001b[43m(\u001b[49m\u001b[43m)\u001b[49m\n\u001b[32m   1014\u001b[39m \u001b[38;5;66;03m# ----------------------------\u001b[39;00m\n\u001b[32m   1015\u001b[39m \u001b[38;5;66;03m# POST-Training CLEAN UP\u001b[39;00m\n\u001b[32m   1016\u001b[39m \u001b[38;5;66;03m# ----------------------------\u001b[39;00m\n\u001b[32m   1017\u001b[39m log.debug(\u001b[33mf\u001b[39m\u001b[33m\"\u001b[39m\u001b[38;5;132;01m{\u001b[39;00m\u001b[38;5;28mself\u001b[39m.\u001b[34m__class__\u001b[39m.\u001b[34m__name__\u001b[39m\u001b[38;5;132;01m}\u001b[39;00m\u001b[33m: trainer tearing down\u001b[39m\u001b[33m\"\u001b[39m)\n",
      "\u001b[36mFile \u001b[39m\u001b[32m~/miniforge3/envs/resolvi-env/lib/python3.11/site-packages/lightning/pytorch/trainer/trainer.py:1056\u001b[39m, in \u001b[36mTrainer._run_stage\u001b[39m\u001b[34m(self)\u001b[39m\n\u001b[32m   1054\u001b[39m         \u001b[38;5;28mself\u001b[39m._run_sanity_check()\n\u001b[32m   1055\u001b[39m     \u001b[38;5;28;01mwith\u001b[39;00m torch.autograd.set_detect_anomaly(\u001b[38;5;28mself\u001b[39m._detect_anomaly):\n\u001b[32m-> \u001b[39m\u001b[32m1056\u001b[39m         \u001b[38;5;28;43mself\u001b[39;49m\u001b[43m.\u001b[49m\u001b[43mfit_loop\u001b[49m\u001b[43m.\u001b[49m\u001b[43mrun\u001b[49m\u001b[43m(\u001b[49m\u001b[43m)\u001b[49m\n\u001b[32m   1057\u001b[39m     \u001b[38;5;28;01mreturn\u001b[39;00m \u001b[38;5;28;01mNone\u001b[39;00m\n\u001b[32m   1058\u001b[39m \u001b[38;5;28;01mraise\u001b[39;00m \u001b[38;5;167;01mRuntimeError\u001b[39;00m(\u001b[33mf\u001b[39m\u001b[33m\"\u001b[39m\u001b[33mUnexpected state \u001b[39m\u001b[38;5;132;01m{\u001b[39;00m\u001b[38;5;28mself\u001b[39m.state\u001b[38;5;132;01m}\u001b[39;00m\u001b[33m\"\u001b[39m)\n",
      "\u001b[36mFile \u001b[39m\u001b[32m~/miniforge3/envs/resolvi-env/lib/python3.11/site-packages/lightning/pytorch/loops/fit_loop.py:212\u001b[39m, in \u001b[36m_FitLoop.run\u001b[39m\u001b[34m(self)\u001b[39m\n\u001b[32m    210\u001b[39m     \u001b[38;5;28;01mreturn\u001b[39;00m\n\u001b[32m    211\u001b[39m \u001b[38;5;28mself\u001b[39m.reset()\n\u001b[32m--> \u001b[39m\u001b[32m212\u001b[39m \u001b[38;5;28;43mself\u001b[39;49m\u001b[43m.\u001b[49m\u001b[43mon_run_start\u001b[49m\u001b[43m(\u001b[49m\u001b[43m)\u001b[49m\n\u001b[32m    213\u001b[39m \u001b[38;5;28;01mwhile\u001b[39;00m \u001b[38;5;129;01mnot\u001b[39;00m \u001b[38;5;28mself\u001b[39m.done:\n\u001b[32m    214\u001b[39m     \u001b[38;5;28;01mtry\u001b[39;00m:\n",
      "\u001b[36mFile \u001b[39m\u001b[32m~/miniforge3/envs/resolvi-env/lib/python3.11/site-packages/lightning/pytorch/loops/fit_loop.py:417\u001b[39m, in \u001b[36m_FitLoop.on_run_start\u001b[39m\u001b[34m(self)\u001b[39m\n\u001b[32m    414\u001b[39m     \u001b[38;5;28mself\u001b[39m.epoch_loop.val_loop.setup_data()\n\u001b[32m    415\u001b[39m     trainer.training = \u001b[38;5;28;01mTrue\u001b[39;00m\n\u001b[32m--> \u001b[39m\u001b[32m417\u001b[39m \u001b[43mcall\u001b[49m\u001b[43m.\u001b[49m\u001b[43m_call_callback_hooks\u001b[49m\u001b[43m(\u001b[49m\u001b[43mtrainer\u001b[49m\u001b[43m,\u001b[49m\u001b[43m \u001b[49m\u001b[33;43m\"\u001b[39;49m\u001b[33;43mon_train_start\u001b[39;49m\u001b[33;43m\"\u001b[39;49m\u001b[43m)\u001b[49m\n\u001b[32m    418\u001b[39m call._call_lightning_module_hook(trainer, \u001b[33m\"\u001b[39m\u001b[33mon_train_start\u001b[39m\u001b[33m\"\u001b[39m)\n\u001b[32m    419\u001b[39m call._call_strategy_hook(trainer, \u001b[33m\"\u001b[39m\u001b[33mon_train_start\u001b[39m\u001b[33m\"\u001b[39m)\n",
      "\u001b[36mFile \u001b[39m\u001b[32m~/miniforge3/envs/resolvi-env/lib/python3.11/site-packages/lightning/pytorch/trainer/call.py:227\u001b[39m, in \u001b[36m_call_callback_hooks\u001b[39m\u001b[34m(trainer, hook_name, monitoring_callbacks, *args, **kwargs)\u001b[39m\n\u001b[32m    225\u001b[39m     \u001b[38;5;28;01mif\u001b[39;00m \u001b[38;5;28mcallable\u001b[39m(fn):\n\u001b[32m    226\u001b[39m         \u001b[38;5;28;01mwith\u001b[39;00m trainer.profiler.profile(\u001b[33mf\u001b[39m\u001b[33m\"\u001b[39m\u001b[33m[Callback]\u001b[39m\u001b[38;5;132;01m{\u001b[39;00mcallback.state_key\u001b[38;5;132;01m}\u001b[39;00m\u001b[33m.\u001b[39m\u001b[38;5;132;01m{\u001b[39;00mhook_name\u001b[38;5;132;01m}\u001b[39;00m\u001b[33m\"\u001b[39m):\n\u001b[32m--> \u001b[39m\u001b[32m227\u001b[39m             \u001b[43mfn\u001b[49m\u001b[43m(\u001b[49m\u001b[43mtrainer\u001b[49m\u001b[43m,\u001b[49m\u001b[43m \u001b[49m\u001b[43mtrainer\u001b[49m\u001b[43m.\u001b[49m\u001b[43mlightning_module\u001b[49m\u001b[43m,\u001b[49m\u001b[43m \u001b[49m\u001b[43m*\u001b[49m\u001b[43margs\u001b[49m\u001b[43m,\u001b[49m\u001b[43m \u001b[49m\u001b[43m*\u001b[49m\u001b[43m*\u001b[49m\u001b[43mkwargs\u001b[49m\u001b[43m)\u001b[49m\n\u001b[32m    229\u001b[39m \u001b[38;5;28;01mif\u001b[39;00m pl_module:\n\u001b[32m    230\u001b[39m     \u001b[38;5;66;03m# restore current_fx when nested context\u001b[39;00m\n\u001b[32m    231\u001b[39m     pl_module._current_fx_name = prev_fx_name\n",
      "\u001b[36mFile \u001b[39m\u001b[32m~/Desktop/scvi-spatial/src/scvi/model/base/_pyromixin.py:54\u001b[39m, in \u001b[36mPyroJitGuideWarmup.on_train_start\u001b[39m\u001b[34m(self, trainer, pl_module)\u001b[39m\n\u001b[32m     52\u001b[39m tens = {k: t.to(pl_module.device) \u001b[38;5;28;01mfor\u001b[39;00m k, t \u001b[38;5;129;01min\u001b[39;00m tensors.items()}\n\u001b[32m     53\u001b[39m args, kwargs = pl_module.module._get_fn_args_from_batch(tens)\n\u001b[32m---> \u001b[39m\u001b[32m54\u001b[39m \u001b[43mpyro_guide\u001b[49m\u001b[43m(\u001b[49m\u001b[43m*\u001b[49m\u001b[43margs\u001b[49m\u001b[43m,\u001b[49m\u001b[43m \u001b[49m\u001b[43m*\u001b[49m\u001b[43m*\u001b[49m\u001b[43mkwargs\u001b[49m\u001b[43m)\u001b[49m\n\u001b[32m     55\u001b[39m \u001b[38;5;28;01mbreak\u001b[39;00m\n",
      "\u001b[36mFile \u001b[39m\u001b[32m~/miniforge3/envs/resolvi-env/lib/python3.11/site-packages/pyro/nn/module.py:520\u001b[39m, in \u001b[36mPyroModule.__call__\u001b[39m\u001b[34m(self, *args, **kwargs)\u001b[39m\n\u001b[32m    518\u001b[39m \u001b[38;5;28;01mdef\u001b[39;00m\u001b[38;5;250m \u001b[39m\u001b[34m__call__\u001b[39m(\u001b[38;5;28mself\u001b[39m, *args: Any, **kwargs: Any) -> Any:\n\u001b[32m    519\u001b[39m     \u001b[38;5;28;01mwith\u001b[39;00m \u001b[38;5;28mself\u001b[39m._pyro_context:\n\u001b[32m--> \u001b[39m\u001b[32m520\u001b[39m         result = \u001b[38;5;28;43msuper\u001b[39;49m\u001b[43m(\u001b[49m\u001b[43m)\u001b[49m\u001b[43m.\u001b[49m\u001b[34;43m__call__\u001b[39;49m\u001b[43m(\u001b[49m\u001b[43m*\u001b[49m\u001b[43margs\u001b[49m\u001b[43m,\u001b[49m\u001b[43m \u001b[49m\u001b[43m*\u001b[49m\u001b[43m*\u001b[49m\u001b[43mkwargs\u001b[49m\u001b[43m)\u001b[49m\n\u001b[32m    521\u001b[39m     \u001b[38;5;28;01mif\u001b[39;00m (\n\u001b[32m    522\u001b[39m         pyro.settings.get(\u001b[33m\"\u001b[39m\u001b[33mvalidate_poutine\u001b[39m\u001b[33m\"\u001b[39m)\n\u001b[32m    523\u001b[39m         \u001b[38;5;129;01mand\u001b[39;00m \u001b[38;5;129;01mnot\u001b[39;00m \u001b[38;5;28mself\u001b[39m._pyro_context.active\n\u001b[32m    524\u001b[39m         \u001b[38;5;129;01mand\u001b[39;00m _is_module_local_param_enabled()\n\u001b[32m    525\u001b[39m     ):\n\u001b[32m    526\u001b[39m         \u001b[38;5;28mself\u001b[39m._check_module_local_param_usage()\n",
      "\u001b[36mFile \u001b[39m\u001b[32m~/miniforge3/envs/resolvi-env/lib/python3.11/site-packages/torch/nn/modules/module.py:1751\u001b[39m, in \u001b[36mModule._wrapped_call_impl\u001b[39m\u001b[34m(self, *args, **kwargs)\u001b[39m\n\u001b[32m   1749\u001b[39m     \u001b[38;5;28;01mreturn\u001b[39;00m \u001b[38;5;28mself\u001b[39m._compiled_call_impl(*args, **kwargs)  \u001b[38;5;66;03m# type: ignore[misc]\u001b[39;00m\n\u001b[32m   1750\u001b[39m \u001b[38;5;28;01melse\u001b[39;00m:\n\u001b[32m-> \u001b[39m\u001b[32m1751\u001b[39m     \u001b[38;5;28;01mreturn\u001b[39;00m \u001b[38;5;28;43mself\u001b[39;49m\u001b[43m.\u001b[49m\u001b[43m_call_impl\u001b[49m\u001b[43m(\u001b[49m\u001b[43m*\u001b[49m\u001b[43margs\u001b[49m\u001b[43m,\u001b[49m\u001b[43m \u001b[49m\u001b[43m*\u001b[49m\u001b[43m*\u001b[49m\u001b[43mkwargs\u001b[49m\u001b[43m)\u001b[49m\n",
      "\u001b[36mFile \u001b[39m\u001b[32m~/miniforge3/envs/resolvi-env/lib/python3.11/site-packages/torch/nn/modules/module.py:1762\u001b[39m, in \u001b[36mModule._call_impl\u001b[39m\u001b[34m(self, *args, **kwargs)\u001b[39m\n\u001b[32m   1757\u001b[39m \u001b[38;5;66;03m# If we don't have any hooks, we want to skip the rest of the logic in\u001b[39;00m\n\u001b[32m   1758\u001b[39m \u001b[38;5;66;03m# this function, and just call forward.\u001b[39;00m\n\u001b[32m   1759\u001b[39m \u001b[38;5;28;01mif\u001b[39;00m \u001b[38;5;129;01mnot\u001b[39;00m (\u001b[38;5;28mself\u001b[39m._backward_hooks \u001b[38;5;129;01mor\u001b[39;00m \u001b[38;5;28mself\u001b[39m._backward_pre_hooks \u001b[38;5;129;01mor\u001b[39;00m \u001b[38;5;28mself\u001b[39m._forward_hooks \u001b[38;5;129;01mor\u001b[39;00m \u001b[38;5;28mself\u001b[39m._forward_pre_hooks\n\u001b[32m   1760\u001b[39m         \u001b[38;5;129;01mor\u001b[39;00m _global_backward_pre_hooks \u001b[38;5;129;01mor\u001b[39;00m _global_backward_hooks\n\u001b[32m   1761\u001b[39m         \u001b[38;5;129;01mor\u001b[39;00m _global_forward_hooks \u001b[38;5;129;01mor\u001b[39;00m _global_forward_pre_hooks):\n\u001b[32m-> \u001b[39m\u001b[32m1762\u001b[39m     \u001b[38;5;28;01mreturn\u001b[39;00m \u001b[43mforward_call\u001b[49m\u001b[43m(\u001b[49m\u001b[43m*\u001b[49m\u001b[43margs\u001b[49m\u001b[43m,\u001b[49m\u001b[43m \u001b[49m\u001b[43m*\u001b[49m\u001b[43m*\u001b[49m\u001b[43mkwargs\u001b[49m\u001b[43m)\u001b[49m\n\u001b[32m   1764\u001b[39m result = \u001b[38;5;28;01mNone\u001b[39;00m\n\u001b[32m   1765\u001b[39m called_always_called_hooks = \u001b[38;5;28mset\u001b[39m()\n",
      "\u001b[36mFile \u001b[39m\u001b[32m~/Desktop/scvi-spatial/src/scvi/module/base/_decorators.py:32\u001b[39m, in \u001b[36mauto_move_data.<locals>.auto_transfer_args\u001b[39m\u001b[34m(self, *args, **kwargs)\u001b[39m\n\u001b[32m     30\u001b[39m \u001b[38;5;66;03m# decorator only necessary after training\u001b[39;00m\n\u001b[32m     31\u001b[39m \u001b[38;5;28;01mif\u001b[39;00m \u001b[38;5;28mself\u001b[39m.training:\n\u001b[32m---> \u001b[39m\u001b[32m32\u001b[39m     \u001b[38;5;28;01mreturn\u001b[39;00m \u001b[43mfn\u001b[49m\u001b[43m(\u001b[49m\u001b[38;5;28;43mself\u001b[39;49m\u001b[43m,\u001b[49m\u001b[43m \u001b[49m\u001b[43m*\u001b[49m\u001b[43margs\u001b[49m\u001b[43m,\u001b[49m\u001b[43m \u001b[49m\u001b[43m*\u001b[49m\u001b[43m*\u001b[49m\u001b[43mkwargs\u001b[49m\u001b[43m)\u001b[49m\n\u001b[32m     34\u001b[39m device = \u001b[38;5;28mlist\u001b[39m({p.device \u001b[38;5;28;01mfor\u001b[39;00m p \u001b[38;5;129;01min\u001b[39;00m \u001b[38;5;28mself\u001b[39m.parameters()})\n\u001b[32m     35\u001b[39m \u001b[38;5;28;01mif\u001b[39;00m \u001b[38;5;28mlen\u001b[39m(device) > \u001b[32m1\u001b[39m:\n",
      "\u001b[36mFile \u001b[39m\u001b[32m~/Desktop/scvi-spatial/src/scvi/external/resolvi/_module.py:1124\u001b[39m, in \u001b[36mRESOLVAEGuide.forward\u001b[39m\u001b[34m(self, x, ind_x, library, y, batch_index, cat_covs, perturbation_data, x_n, distances_n, spatial_coords, n_obs, kl_weight)\u001b[39m\n\u001b[32m   1120\u001b[39m pyro.sample(\u001b[33m\"\u001b[39m\u001b[33mpx_r_inv\u001b[39m\u001b[33m\"\u001b[39m, Delta(px_r_inv, event_dim=\u001b[32m1\u001b[39m))\n\u001b[32m   1121\u001b[39m \u001b[38;5;66;03m# Expected diffusion given distance between cells\u001b[39;00m\n\u001b[32m   1122\u001b[39m concentration = torch.nn.Softmax(dim=-\u001b[32m1\u001b[39m)(\n\u001b[32m   1123\u001b[39m     per_neighbor_diffusion[ind_x, :]\n\u001b[32m-> \u001b[39m\u001b[32m1124\u001b[39m     - torch.clamp(torch.sqrt(\u001b[43mdistances_n\u001b[49m\u001b[43m \u001b[49m\u001b[43m/\u001b[49m\u001b[43m \u001b[49m\u001b[38;5;28;43mself\u001b[39;49m\u001b[43m.\u001b[49m\u001b[43mmedian_distance\u001b[49m), \u001b[38;5;28mmax\u001b[39m=\u001b[32m10.0\u001b[39m)\n\u001b[32m   1125\u001b[39m )\n\u001b[32m   1127\u001b[39m pyro.sample(\u001b[33m\"\u001b[39m\u001b[33mper_neighbor_diffusion\u001b[39m\u001b[33m\"\u001b[39m, Delta(concentration, event_dim=\u001b[32m1\u001b[39m))\n\u001b[32m   1129\u001b[39m \u001b[38;5;28;01mif\u001b[39;00m cat_covs \u001b[38;5;129;01mis\u001b[39;00m \u001b[38;5;129;01mnot\u001b[39;00m \u001b[38;5;28;01mNone\u001b[39;00m \u001b[38;5;129;01mand\u001b[39;00m \u001b[38;5;28mself\u001b[39m.encode_covariates:\n",
      "\u001b[31mTypeError\u001b[39m: unsupported operand type(s) for /: 'NoneType' and 'float'"
     ]
    }
   ],
   "source": [
    "# Train with perturbation focus (following your methodology)\n",
    "print(\"Starting training with spatial integration...\")\n",
    "spatial_resolvi.train(\n",
    "    max_epochs=100,\n",
    "    check_val_every_n_epoch=100,\n",
    "    lr=3e-4,       # Following your parameters\n",
    "    train_on_perturbed_only=True  # Following your methodology\n",
    ")"
   ]
  }
 ],
 "metadata": {
  "kernelspec": {
   "display_name": "resolvi-env",
   "language": "python",
   "name": "python3"
  },
  "language_info": {
   "codemirror_mode": {
    "name": "ipython",
    "version": 3
   },
   "file_extension": ".py",
   "mimetype": "text/x-python",
   "name": "python",
   "nbconvert_exporter": "python",
   "pygments_lexer": "ipython3",
   "version": "3.11.12"
  }
 },
 "nbformat": 4,
 "nbformat_minor": 5
}
